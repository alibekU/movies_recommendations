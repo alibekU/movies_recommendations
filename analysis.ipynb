{
 "metadata": {
  "language_info": {
   "codemirror_mode": {
    "name": "ipython",
    "version": 3
   },
   "file_extension": ".py",
   "mimetype": "text/x-python",
   "name": "python",
   "nbconvert_exporter": "python",
   "pygments_lexer": "ipython3",
   "version": "3.7.9-final"
  },
  "orig_nbformat": 2,
  "kernelspec": {
   "name": "python3",
   "display_name": "Python 3"
  }
 },
 "nbformat": 4,
 "nbformat_minor": 2,
 "cells": [
  {
   "cell_type": "code",
   "execution_count": 1,
   "metadata": {},
   "outputs": [],
   "source": [
    "import pandas as pd\n",
    "import numpy as np\n",
    "from sqlalchemy import create_engine\n",
    "from sklearn.metrics.pairwise import nan_euclidean_distances"
   ]
  },
  {
   "cell_type": "code",
   "execution_count": 2,
   "metadata": {},
   "outputs": [
    {
     "output_type": "execute_result",
     "data": {
      "text/plain": [
       "   movie_id                                        movie_title  \\\n",
       "0         8      Edison Kinetoscopic Record of a Sneeze (1894)   \n",
       "1        10                La sortie des usines Lumière (1895)   \n",
       "2        12                      The Arrival of a Train (1896)   \n",
       "3        25  The Oxford and Cambridge University Boat Race ...   \n",
       "4        91                         Le manoir du diable (1896)   \n",
       "\n",
       "               genra  \n",
       "0  Documentary|Short  \n",
       "1  Documentary|Short  \n",
       "2  Documentary|Short  \n",
       "3                NaN  \n",
       "4       Short|Horror  "
      ],
      "text/html": "<div>\n<style scoped>\n    .dataframe tbody tr th:only-of-type {\n        vertical-align: middle;\n    }\n\n    .dataframe tbody tr th {\n        vertical-align: top;\n    }\n\n    .dataframe thead th {\n        text-align: right;\n    }\n</style>\n<table border=\"1\" class=\"dataframe\">\n  <thead>\n    <tr style=\"text-align: right;\">\n      <th></th>\n      <th>movie_id</th>\n      <th>movie_title</th>\n      <th>genra</th>\n    </tr>\n  </thead>\n  <tbody>\n    <tr>\n      <th>0</th>\n      <td>8</td>\n      <td>Edison Kinetoscopic Record of a Sneeze (1894)</td>\n      <td>Documentary|Short</td>\n    </tr>\n    <tr>\n      <th>1</th>\n      <td>10</td>\n      <td>La sortie des usines Lumière (1895)</td>\n      <td>Documentary|Short</td>\n    </tr>\n    <tr>\n      <th>2</th>\n      <td>12</td>\n      <td>The Arrival of a Train (1896)</td>\n      <td>Documentary|Short</td>\n    </tr>\n    <tr>\n      <th>3</th>\n      <td>25</td>\n      <td>The Oxford and Cambridge University Boat Race ...</td>\n      <td>NaN</td>\n    </tr>\n    <tr>\n      <th>4</th>\n      <td>91</td>\n      <td>Le manoir du diable (1896)</td>\n      <td>Short|Horror</td>\n    </tr>\n  </tbody>\n</table>\n</div>"
     },
     "metadata": {},
     "execution_count": 2
    }
   ],
   "source": [
    "movies = pd.read_csv('data/movies.dat', sep='::', names=['movie_id', 'movie_title', 'genra'], header=None )\n",
    "movies.head()"
   ]
  },
  {
   "cell_type": "code",
   "execution_count": 3,
   "metadata": {},
   "outputs": [
    {
     "output_type": "execute_result",
     "data": {
      "text/plain": [
       "3"
      ]
     },
     "metadata": {},
     "execution_count": 3
    }
   ],
   "source": [
    "movies.shape[0] - movies['movie_id'].unique().shape[0]"
   ]
  },
  {
   "cell_type": "code",
   "execution_count": 4,
   "metadata": {},
   "outputs": [
    {
     "output_type": "execute_result",
     "data": {
      "text/plain": [
       "movie_id\n",
       "106519     2\n",
       "1979376    2\n",
       "4160708    2\n",
       "dtype: int64"
      ]
     },
     "metadata": {},
     "execution_count": 4
    }
   ],
   "source": [
    "counts = movies.groupby(['movie_id'])[['movie_title']].size()\n",
    "counts[counts>1]"
   ]
  },
  {
   "cell_type": "code",
   "execution_count": 5,
   "metadata": {},
   "outputs": [
    {
     "output_type": "execute_result",
     "data": {
      "text/plain": [
       "      movie_id           movie_title                 genra\n",
       "8241    106519  Carlito's Way (1993)                   NaN\n",
       "8242    106519  Carlito's Way (1993)  Crime|Drama|Thriller"
      ],
      "text/html": "<div>\n<style scoped>\n    .dataframe tbody tr th:only-of-type {\n        vertical-align: middle;\n    }\n\n    .dataframe tbody tr th {\n        vertical-align: top;\n    }\n\n    .dataframe thead th {\n        text-align: right;\n    }\n</style>\n<table border=\"1\" class=\"dataframe\">\n  <thead>\n    <tr style=\"text-align: right;\">\n      <th></th>\n      <th>movie_id</th>\n      <th>movie_title</th>\n      <th>genra</th>\n    </tr>\n  </thead>\n  <tbody>\n    <tr>\n      <th>8241</th>\n      <td>106519</td>\n      <td>Carlito's Way (1993)</td>\n      <td>NaN</td>\n    </tr>\n    <tr>\n      <th>8242</th>\n      <td>106519</td>\n      <td>Carlito's Way (1993)</td>\n      <td>Crime|Drama|Thriller</td>\n    </tr>\n  </tbody>\n</table>\n</div>"
     },
     "metadata": {},
     "execution_count": 5
    }
   ],
   "source": [
    "movies[movies['movie_id'] == 106519]"
   ]
  },
  {
   "cell_type": "code",
   "execution_count": 6,
   "metadata": {},
   "outputs": [
    {
     "output_type": "execute_result",
     "data": {
      "text/plain": [
       "       movie_id         movie_title                                      genra\n",
       "21924   1979376  Toy Story 4 (2019)  Animation|Adventure|Comedy|Family|Fantasy\n",
       "21925   1979376  Toy Story 4 (2019)  Animation|Adventure|Comedy|Family|Fantasy"
      ],
      "text/html": "<div>\n<style scoped>\n    .dataframe tbody tr th:only-of-type {\n        vertical-align: middle;\n    }\n\n    .dataframe tbody tr th {\n        vertical-align: top;\n    }\n\n    .dataframe thead th {\n        text-align: right;\n    }\n</style>\n<table border=\"1\" class=\"dataframe\">\n  <thead>\n    <tr style=\"text-align: right;\">\n      <th></th>\n      <th>movie_id</th>\n      <th>movie_title</th>\n      <th>genra</th>\n    </tr>\n  </thead>\n  <tbody>\n    <tr>\n      <th>21924</th>\n      <td>1979376</td>\n      <td>Toy Story 4 (2019)</td>\n      <td>Animation|Adventure|Comedy|Family|Fantasy</td>\n    </tr>\n    <tr>\n      <th>21925</th>\n      <td>1979376</td>\n      <td>Toy Story 4 (2019)</td>\n      <td>Animation|Adventure|Comedy|Family|Fantasy</td>\n    </tr>\n  </tbody>\n</table>\n</div>"
     },
     "metadata": {},
     "execution_count": 6
    }
   ],
   "source": [
    "movies[movies['movie_id'] == 1979376]"
   ]
  },
  {
   "cell_type": "code",
   "execution_count": 7,
   "metadata": {},
   "outputs": [
    {
     "output_type": "execute_result",
     "data": {
      "text/plain": [
       "       movie_id           movie_title                  genra\n",
       "29305   4160708  Don't Breathe (2016)  Crime|Horror|Thriller\n",
       "29306   4160708  Don't Breathe (2016)  Crime|Horror|Thriller"
      ],
      "text/html": "<div>\n<style scoped>\n    .dataframe tbody tr th:only-of-type {\n        vertical-align: middle;\n    }\n\n    .dataframe tbody tr th {\n        vertical-align: top;\n    }\n\n    .dataframe thead th {\n        text-align: right;\n    }\n</style>\n<table border=\"1\" class=\"dataframe\">\n  <thead>\n    <tr style=\"text-align: right;\">\n      <th></th>\n      <th>movie_id</th>\n      <th>movie_title</th>\n      <th>genra</th>\n    </tr>\n  </thead>\n  <tbody>\n    <tr>\n      <th>29305</th>\n      <td>4160708</td>\n      <td>Don't Breathe (2016)</td>\n      <td>Crime|Horror|Thriller</td>\n    </tr>\n    <tr>\n      <th>29306</th>\n      <td>4160708</td>\n      <td>Don't Breathe (2016)</td>\n      <td>Crime|Horror|Thriller</td>\n    </tr>\n  </tbody>\n</table>\n</div>"
     },
     "metadata": {},
     "execution_count": 7
    }
   ],
   "source": [
    "movies[movies['movie_id'] == 4160708]"
   ]
  },
  {
   "cell_type": "code",
   "execution_count": 8,
   "metadata": {},
   "outputs": [],
   "source": [
    "movies.drop_duplicates(subset=['movie_id'], inplace=True)"
   ]
  },
  {
   "cell_type": "code",
   "execution_count": 9,
   "metadata": {},
   "outputs": [
    {
     "output_type": "execute_result",
     "data": {
      "text/plain": [
       "                                                movie_title              genra\n",
       "movie_id                                                                      \n",
       "8             Edison Kinetoscopic Record of a Sneeze (1894)  Documentary|Short\n",
       "10                      La sortie des usines Lumière (1895)  Documentary|Short\n",
       "12                            The Arrival of a Train (1896)  Documentary|Short\n",
       "25        The Oxford and Cambridge University Boat Race ...                NaN\n",
       "91                               Le manoir du diable (1896)       Short|Horror"
      ],
      "text/html": "<div>\n<style scoped>\n    .dataframe tbody tr th:only-of-type {\n        vertical-align: middle;\n    }\n\n    .dataframe tbody tr th {\n        vertical-align: top;\n    }\n\n    .dataframe thead th {\n        text-align: right;\n    }\n</style>\n<table border=\"1\" class=\"dataframe\">\n  <thead>\n    <tr style=\"text-align: right;\">\n      <th></th>\n      <th>movie_title</th>\n      <th>genra</th>\n    </tr>\n    <tr>\n      <th>movie_id</th>\n      <th></th>\n      <th></th>\n    </tr>\n  </thead>\n  <tbody>\n    <tr>\n      <th>8</th>\n      <td>Edison Kinetoscopic Record of a Sneeze (1894)</td>\n      <td>Documentary|Short</td>\n    </tr>\n    <tr>\n      <th>10</th>\n      <td>La sortie des usines Lumière (1895)</td>\n      <td>Documentary|Short</td>\n    </tr>\n    <tr>\n      <th>12</th>\n      <td>The Arrival of a Train (1896)</td>\n      <td>Documentary|Short</td>\n    </tr>\n    <tr>\n      <th>25</th>\n      <td>The Oxford and Cambridge University Boat Race ...</td>\n      <td>NaN</td>\n    </tr>\n    <tr>\n      <th>91</th>\n      <td>Le manoir du diable (1896)</td>\n      <td>Short|Horror</td>\n    </tr>\n  </tbody>\n</table>\n</div>"
     },
     "metadata": {},
     "execution_count": 9
    }
   ],
   "source": [
    "movies.index = movies['movie_id']\n",
    "movies = movies.drop(columns=['movie_id'])\n",
    "movies.head()"
   ]
  },
  {
   "cell_type": "code",
   "execution_count": 10,
   "metadata": {},
   "outputs": [
    {
     "output_type": "execute_result",
     "data": {
      "text/plain": [
       "   user_id  twitter_id\n",
       "0        1   139564917\n",
       "1        2   522540374\n",
       "2        3   475571186\n",
       "3        4   215022153\n",
       "4        5   349681331"
      ],
      "text/html": "<div>\n<style scoped>\n    .dataframe tbody tr th:only-of-type {\n        vertical-align: middle;\n    }\n\n    .dataframe tbody tr th {\n        vertical-align: top;\n    }\n\n    .dataframe thead th {\n        text-align: right;\n    }\n</style>\n<table border=\"1\" class=\"dataframe\">\n  <thead>\n    <tr style=\"text-align: right;\">\n      <th></th>\n      <th>user_id</th>\n      <th>twitter_id</th>\n    </tr>\n  </thead>\n  <tbody>\n    <tr>\n      <th>0</th>\n      <td>1</td>\n      <td>139564917</td>\n    </tr>\n    <tr>\n      <th>1</th>\n      <td>2</td>\n      <td>522540374</td>\n    </tr>\n    <tr>\n      <th>2</th>\n      <td>3</td>\n      <td>475571186</td>\n    </tr>\n    <tr>\n      <th>3</th>\n      <td>4</td>\n      <td>215022153</td>\n    </tr>\n    <tr>\n      <th>4</th>\n      <td>5</td>\n      <td>349681331</td>\n    </tr>\n  </tbody>\n</table>\n</div>"
     },
     "metadata": {},
     "execution_count": 10
    }
   ],
   "source": [
    "users = pd.read_csv('data/users.dat', sep='::', names=['user_id', 'twitter_id'], header=None )\n",
    "users.head()"
   ]
  },
  {
   "cell_type": "code",
   "execution_count": 11,
   "metadata": {},
   "outputs": [
    {
     "output_type": "stream",
     "name": "stdout",
     "text": [
      "(69324, 2)\n"
     ]
    }
   ],
   "source": [
    "print(users.shape)"
   ]
  },
  {
   "cell_type": "code",
   "execution_count": 12,
   "metadata": {},
   "outputs": [
    {
     "output_type": "execute_result",
     "data": {
      "text/plain": [
       "   user_id  movie_id  rating  rating_timestamp\n",
       "0        1    114508       8        1381006850\n",
       "1        2     75314       1        1595468524\n",
       "2        2    102926       9        1590148016\n",
       "3        2    114369      10        1597555347\n",
       "4        2    118715       8        1596006798"
      ],
      "text/html": "<div>\n<style scoped>\n    .dataframe tbody tr th:only-of-type {\n        vertical-align: middle;\n    }\n\n    .dataframe tbody tr th {\n        vertical-align: top;\n    }\n\n    .dataframe thead th {\n        text-align: right;\n    }\n</style>\n<table border=\"1\" class=\"dataframe\">\n  <thead>\n    <tr style=\"text-align: right;\">\n      <th></th>\n      <th>user_id</th>\n      <th>movie_id</th>\n      <th>rating</th>\n      <th>rating_timestamp</th>\n    </tr>\n  </thead>\n  <tbody>\n    <tr>\n      <th>0</th>\n      <td>1</td>\n      <td>114508</td>\n      <td>8</td>\n      <td>1381006850</td>\n    </tr>\n    <tr>\n      <th>1</th>\n      <td>2</td>\n      <td>75314</td>\n      <td>1</td>\n      <td>1595468524</td>\n    </tr>\n    <tr>\n      <th>2</th>\n      <td>2</td>\n      <td>102926</td>\n      <td>9</td>\n      <td>1590148016</td>\n    </tr>\n    <tr>\n      <th>3</th>\n      <td>2</td>\n      <td>114369</td>\n      <td>10</td>\n      <td>1597555347</td>\n    </tr>\n    <tr>\n      <th>4</th>\n      <td>2</td>\n      <td>118715</td>\n      <td>8</td>\n      <td>1596006798</td>\n    </tr>\n  </tbody>\n</table>\n</div>"
     },
     "metadata": {},
     "execution_count": 12
    }
   ],
   "source": [
    "ratings = pd.read_csv('data/ratings.dat', sep='::', names=['user_id', 'movie_id', 'rating', 'rating_timestamp'], header=None )\n",
    "ratings.head()"
   ]
  },
  {
   "cell_type": "code",
   "execution_count": 13,
   "metadata": {},
   "outputs": [
    {
     "output_type": "execute_result",
     "data": {
      "text/plain": [
       "(888452, 4)"
      ]
     },
     "metadata": {},
     "execution_count": 13
    }
   ],
   "source": [
    "ratings.shape"
   ]
  },
  {
   "cell_type": "code",
   "execution_count": 14,
   "metadata": {},
   "outputs": [],
   "source": [
    "ratings_new = ratings.drop(columns=['rating_timestamp'])"
   ]
  },
  {
   "cell_type": "code",
   "execution_count": 15,
   "metadata": {},
   "outputs": [],
   "source": [
    "ratings_new['count_user'] = ratings_new.groupby(['user_id'])['user_id'].transform('count')"
   ]
  },
  {
   "cell_type": "code",
   "execution_count": 16,
   "metadata": {},
   "outputs": [
    {
     "output_type": "execute_result",
     "data": {
      "text/plain": [
       "   user_id  movie_id  rating  rating_timestamp\n",
       "0        1    114508       8        1381006850\n",
       "1        2     75314       1        1595468524\n",
       "2        2    102926       9        1590148016\n",
       "3        2    114369      10        1597555347\n",
       "4        2    118715       8        1596006798"
      ],
      "text/html": "<div>\n<style scoped>\n    .dataframe tbody tr th:only-of-type {\n        vertical-align: middle;\n    }\n\n    .dataframe tbody tr th {\n        vertical-align: top;\n    }\n\n    .dataframe thead th {\n        text-align: right;\n    }\n</style>\n<table border=\"1\" class=\"dataframe\">\n  <thead>\n    <tr style=\"text-align: right;\">\n      <th></th>\n      <th>user_id</th>\n      <th>movie_id</th>\n      <th>rating</th>\n      <th>rating_timestamp</th>\n    </tr>\n  </thead>\n  <tbody>\n    <tr>\n      <th>0</th>\n      <td>1</td>\n      <td>114508</td>\n      <td>8</td>\n      <td>1381006850</td>\n    </tr>\n    <tr>\n      <th>1</th>\n      <td>2</td>\n      <td>75314</td>\n      <td>1</td>\n      <td>1595468524</td>\n    </tr>\n    <tr>\n      <th>2</th>\n      <td>2</td>\n      <td>102926</td>\n      <td>9</td>\n      <td>1590148016</td>\n    </tr>\n    <tr>\n      <th>3</th>\n      <td>2</td>\n      <td>114369</td>\n      <td>10</td>\n      <td>1597555347</td>\n    </tr>\n    <tr>\n      <th>4</th>\n      <td>2</td>\n      <td>118715</td>\n      <td>8</td>\n      <td>1596006798</td>\n    </tr>\n  </tbody>\n</table>\n</div>"
     },
     "metadata": {},
     "execution_count": 16
    }
   ],
   "source": [
    "ratings.head()"
   ]
  },
  {
   "cell_type": "code",
   "execution_count": 17,
   "metadata": {},
   "outputs": [],
   "source": [
    "ratings_user = ratings_new.query('count_user >= 5')"
   ]
  },
  {
   "cell_type": "code",
   "execution_count": 18,
   "metadata": {},
   "outputs": [
    {
     "output_type": "execute_result",
     "data": {
      "text/plain": [
       "(814549, 4)"
      ]
     },
     "metadata": {},
     "execution_count": 18
    }
   ],
   "source": [
    "ratings_user.shape"
   ]
  },
  {
   "cell_type": "code",
   "execution_count": 19,
   "metadata": {},
   "outputs": [],
   "source": [
    "ratings_user = ratings_user.drop(columns=['count_user'])"
   ]
  },
  {
   "cell_type": "code",
   "execution_count": null,
   "metadata": {},
   "outputs": [],
   "source": []
  },
  {
   "cell_type": "code",
   "execution_count": 71,
   "metadata": {},
   "outputs": [
    {
     "output_type": "execute_result",
     "data": {
      "text/plain": [
       "(750835, 4)"
      ]
     },
     "metadata": {},
     "execution_count": 71
    }
   ],
   "source": [
    "ratings_user['count_movie'] = ratings_user.groupby(['movie_id'])['movie_id'].transform('count')\n",
    "ratings_movie = ratings_user.query('count_movie >= 10')\n",
    "ratings_movie.shape"
   ]
  },
  {
   "cell_type": "code",
   "execution_count": 72,
   "metadata": {},
   "outputs": [],
   "source": [
    "user_by_movie = ratings_movie.groupby(['user_id', 'movie_id'])['rating'].max().unstack()"
   ]
  },
  {
   "cell_type": "code",
   "execution_count": 73,
   "metadata": {},
   "outputs": [
    {
     "output_type": "execute_result",
     "data": {
      "text/plain": [
       "movie_id  417       10323     12349     13442     14429     15324     \\\n",
       "user_id                                                                \n",
       "2              NaN       NaN       NaN       NaN       NaN       NaN   \n",
       "3              NaN       NaN       NaN       NaN       NaN       NaN   \n",
       "4              NaN       NaN       NaN       NaN       NaN       NaN   \n",
       "7              NaN       NaN       NaN       NaN       NaN       NaN   \n",
       "8              NaN       NaN       NaN       NaN       NaN       NaN   \n",
       "\n",
       "movie_id  15648     15864     16332     17136     ...  11390036  11416594  \\\n",
       "user_id                                           ...                       \n",
       "2              NaN       NaN       NaN       NaN  ...       NaN       NaN   \n",
       "3              NaN       NaN       NaN       NaN  ...       NaN       NaN   \n",
       "4              NaN       NaN       NaN       NaN  ...       NaN       NaN   \n",
       "7              NaN       NaN       NaN       NaN  ...       NaN       NaN   \n",
       "8              NaN       NaN       NaN       NaN  ...       NaN       NaN   \n",
       "\n",
       "movie_id  11464826  11561866  11615290  11833648  11958344  12117854  \\\n",
       "user_id                                                                \n",
       "2              NaN       NaN       NaN       NaN       NaN       NaN   \n",
       "3              NaN       NaN       NaN       NaN       NaN       NaN   \n",
       "4              NaN       NaN       NaN       NaN       NaN       NaN   \n",
       "7              NaN       NaN       NaN       NaN       NaN       NaN   \n",
       "8              NaN       NaN       NaN       NaN       NaN       NaN   \n",
       "\n",
       "movie_id  12724622  12749596  \n",
       "user_id                       \n",
       "2              NaN       NaN  \n",
       "3              NaN       NaN  \n",
       "4              NaN       NaN  \n",
       "7              NaN       NaN  \n",
       "8              NaN       NaN  \n",
       "\n",
       "[5 rows x 7649 columns]"
      ],
      "text/html": "<div>\n<style scoped>\n    .dataframe tbody tr th:only-of-type {\n        vertical-align: middle;\n    }\n\n    .dataframe tbody tr th {\n        vertical-align: top;\n    }\n\n    .dataframe thead th {\n        text-align: right;\n    }\n</style>\n<table border=\"1\" class=\"dataframe\">\n  <thead>\n    <tr style=\"text-align: right;\">\n      <th>movie_id</th>\n      <th>417</th>\n      <th>10323</th>\n      <th>12349</th>\n      <th>13442</th>\n      <th>14429</th>\n      <th>15324</th>\n      <th>15648</th>\n      <th>15864</th>\n      <th>16332</th>\n      <th>17136</th>\n      <th>...</th>\n      <th>11390036</th>\n      <th>11416594</th>\n      <th>11464826</th>\n      <th>11561866</th>\n      <th>11615290</th>\n      <th>11833648</th>\n      <th>11958344</th>\n      <th>12117854</th>\n      <th>12724622</th>\n      <th>12749596</th>\n    </tr>\n    <tr>\n      <th>user_id</th>\n      <th></th>\n      <th></th>\n      <th></th>\n      <th></th>\n      <th></th>\n      <th></th>\n      <th></th>\n      <th></th>\n      <th></th>\n      <th></th>\n      <th></th>\n      <th></th>\n      <th></th>\n      <th></th>\n      <th></th>\n      <th></th>\n      <th></th>\n      <th></th>\n      <th></th>\n      <th></th>\n      <th></th>\n    </tr>\n  </thead>\n  <tbody>\n    <tr>\n      <th>2</th>\n      <td>NaN</td>\n      <td>NaN</td>\n      <td>NaN</td>\n      <td>NaN</td>\n      <td>NaN</td>\n      <td>NaN</td>\n      <td>NaN</td>\n      <td>NaN</td>\n      <td>NaN</td>\n      <td>NaN</td>\n      <td>...</td>\n      <td>NaN</td>\n      <td>NaN</td>\n      <td>NaN</td>\n      <td>NaN</td>\n      <td>NaN</td>\n      <td>NaN</td>\n      <td>NaN</td>\n      <td>NaN</td>\n      <td>NaN</td>\n      <td>NaN</td>\n    </tr>\n    <tr>\n      <th>3</th>\n      <td>NaN</td>\n      <td>NaN</td>\n      <td>NaN</td>\n      <td>NaN</td>\n      <td>NaN</td>\n      <td>NaN</td>\n      <td>NaN</td>\n      <td>NaN</td>\n      <td>NaN</td>\n      <td>NaN</td>\n      <td>...</td>\n      <td>NaN</td>\n      <td>NaN</td>\n      <td>NaN</td>\n      <td>NaN</td>\n      <td>NaN</td>\n      <td>NaN</td>\n      <td>NaN</td>\n      <td>NaN</td>\n      <td>NaN</td>\n      <td>NaN</td>\n    </tr>\n    <tr>\n      <th>4</th>\n      <td>NaN</td>\n      <td>NaN</td>\n      <td>NaN</td>\n      <td>NaN</td>\n      <td>NaN</td>\n      <td>NaN</td>\n      <td>NaN</td>\n      <td>NaN</td>\n      <td>NaN</td>\n      <td>NaN</td>\n      <td>...</td>\n      <td>NaN</td>\n      <td>NaN</td>\n      <td>NaN</td>\n      <td>NaN</td>\n      <td>NaN</td>\n      <td>NaN</td>\n      <td>NaN</td>\n      <td>NaN</td>\n      <td>NaN</td>\n      <td>NaN</td>\n    </tr>\n    <tr>\n      <th>7</th>\n      <td>NaN</td>\n      <td>NaN</td>\n      <td>NaN</td>\n      <td>NaN</td>\n      <td>NaN</td>\n      <td>NaN</td>\n      <td>NaN</td>\n      <td>NaN</td>\n      <td>NaN</td>\n      <td>NaN</td>\n      <td>...</td>\n      <td>NaN</td>\n      <td>NaN</td>\n      <td>NaN</td>\n      <td>NaN</td>\n      <td>NaN</td>\n      <td>NaN</td>\n      <td>NaN</td>\n      <td>NaN</td>\n      <td>NaN</td>\n      <td>NaN</td>\n    </tr>\n    <tr>\n      <th>8</th>\n      <td>NaN</td>\n      <td>NaN</td>\n      <td>NaN</td>\n      <td>NaN</td>\n      <td>NaN</td>\n      <td>NaN</td>\n      <td>NaN</td>\n      <td>NaN</td>\n      <td>NaN</td>\n      <td>NaN</td>\n      <td>...</td>\n      <td>NaN</td>\n      <td>NaN</td>\n      <td>NaN</td>\n      <td>NaN</td>\n      <td>NaN</td>\n      <td>NaN</td>\n      <td>NaN</td>\n      <td>NaN</td>\n      <td>NaN</td>\n      <td>NaN</td>\n    </tr>\n  </tbody>\n</table>\n<p>5 rows × 7649 columns</p>\n</div>"
     },
     "metadata": {},
     "execution_count": 73
    }
   ],
   "source": [
    "user_by_movie.head()"
   ]
  },
  {
   "cell_type": "code",
   "execution_count": 74,
   "metadata": {},
   "outputs": [
    {
     "output_type": "execute_result",
     "data": {
      "text/plain": [
       "(22900, 7649)"
      ]
     },
     "metadata": {},
     "execution_count": 74
    }
   ],
   "source": [
    "user_by_movie.shape"
   ]
  },
  {
   "cell_type": "code",
   "execution_count": 75,
   "metadata": {},
   "outputs": [
    {
     "output_type": "execute_result",
     "data": {
      "text/plain": [
       "movie_id\n",
       "417                        A Trip to the Moon (1902)\n",
       "10323            Das Cabinet des Dr. Caligari (1920)\n",
       "12349                                 The Kid (1921)\n",
       "13442                               Nosferatu (1922)\n",
       "14429                            Safety Last! (1923)\n",
       "                              ...                   \n",
       "11833648                      Shams al-Maaref (2020)\n",
       "11958344    Nakitai watashi wa neko wo kaburu (2020)\n",
       "12117854     Jerry Seinfeld: 23 Hours to Kill (2020)\n",
       "12724622                Anelka: Misunderstood (2020)\n",
       "12749596                                 Host (2020)\n",
       "Name: movie_title, Length: 7649, dtype: object"
      ]
     },
     "metadata": {},
     "execution_count": 75
    }
   ],
   "source": [
    "movies_used = movies.loc[user_by_movie.columns, 'movie_title']\n",
    "movies_used"
   ]
  },
  {
   "cell_type": "code",
   "execution_count": 76,
   "metadata": {},
   "outputs": [
    {
     "output_type": "execute_result",
     "data": {
      "text/plain": [
       "(7649,)"
      ]
     },
     "metadata": {},
     "execution_count": 76
    }
   ],
   "source": [
    "movies_used.shape"
   ]
  },
  {
   "cell_type": "code",
   "execution_count": 77,
   "metadata": {},
   "outputs": [],
   "source": [
    "user_by_movie_matrix = user_by_movie.to_numpy()"
   ]
  },
  {
   "cell_type": "code",
   "execution_count": 78,
   "metadata": {},
   "outputs": [],
   "source": [
    "def get_users(movie_index, user_by_movie_matrix):\n",
    "    column = user_by_movie_matrix[:,movie_index]\n",
    "    users = np.where(np.isnan(column) == False)[0] \n",
    "    return users\n",
    "\n",
    "def get_common_users(movie_index1, movie_index2, user_by_movie_matrix):\n",
    "    users1 = get_users(movie_index1, user_by_movie_matrix)\n",
    "    users2 = get_users(movie_index2, user_by_movie_matrix)\n",
    "    common_users = np.intersect1d(users1, users2, assume_unique=True)\n",
    "    return common_users\n",
    "\n",
    "def compute_score(movie_index1, movie_index2, user_by_movie_matrix):\n",
    "    common_users = get_common_users(movie_index1, movie_index2, user_by_movie_matrix)\n",
    "    movie1_ratings = np.array(user_by_movie_matrix[common_users, movie_index1])\n",
    "    movie2_ratings = np.array(user_by_movie_matrix[common_users, movie_index2])\n",
    "\n",
    "    distance = np.linalg.norm(movie1_ratings - movie2_ratings)\n",
    "\n",
    "    score = 0\n",
    "    if distance != 0:\n",
    "        score = 1 / distance\n",
    "\n",
    "    return score\n",
    "\n",
    "def get_all_scores(user_by_movie_matrix):\n",
    "    movies_number = user_by_movie.shape[1]\n",
    "    scores = np.zeros(shape=(movies_number, movies_number))\n",
    "    for index1 in range(movies_number):\n",
    "        for index2 in range(index1+1, movies_number):\n",
    "            scores[index1, index2] = compute_score(index1, index2, user_by_movie_matrix)\n",
    "    return scores"
   ]
  },
  {
   "cell_type": "code",
   "execution_count": null,
   "metadata": {},
   "outputs": [],
   "source": []
  },
  {
   "cell_type": "code",
   "execution_count": null,
   "metadata": {},
   "outputs": [],
   "source": []
  },
  {
   "cell_type": "code",
   "execution_count": null,
   "metadata": {},
   "outputs": [],
   "source": []
  },
  {
   "cell_type": "code",
   "execution_count": 40,
   "metadata": {},
   "outputs": [
    {
     "output_type": "stream",
     "name": "stdout",
     "text": [
      "Current Time = 05:05:22\n"
     ]
    }
   ],
   "source": [
    "from datetime import datetime\n",
    "\n",
    "now = datetime.now()\n",
    "\n",
    "current_time = now.strftime(\"%H:%M:%S\")\n",
    "print(\"Current Time =\", current_time)"
   ]
  },
  {
   "cell_type": "code",
   "execution_count": 41,
   "metadata": {},
   "outputs": [],
   "source": [
    "#from sklearn.metrics.pairwise import nan_euclidean_distances\n",
    "#scores = nan_euclidean_distances(user_by_movie_matrix, user_by_movie_matrix)"
   ]
  },
  {
   "cell_type": "code",
   "execution_count": 42,
   "metadata": {},
   "outputs": [],
   "source": [
    "scores = get_all_scores(user_by_movie_matrix)"
   ]
  },
  {
   "cell_type": "code",
   "execution_count": 43,
   "metadata": {},
   "outputs": [],
   "source": [
    "#scores[range(9), range(9)]"
   ]
  },
  {
   "cell_type": "code",
   "execution_count": 44,
   "metadata": {},
   "outputs": [],
   "source": [
    "#scores.shape"
   ]
  },
  {
   "cell_type": "code",
   "execution_count": 45,
   "metadata": {},
   "outputs": [],
   "source": [
    "#all_closest_movies = get_closest_movies(5, scores)"
   ]
  },
  {
   "cell_type": "code",
   "execution_count": 46,
   "metadata": {},
   "outputs": [],
   "source": [
    "scores_full = scores + scores.T - np.diag(np.diag(scores))\n",
    "number_movies_returned  = 5\n",
    "negative_n = -1*number_movies_returned\n",
    "closest_movies = np.argpartition(scores_full, negative_n, axis=1)[:, negative_n:]"
   ]
  },
  {
   "cell_type": "code",
   "execution_count": 47,
   "metadata": {},
   "outputs": [],
   "source": [
    "#closest_movies"
   ]
  },
  {
   "cell_type": "code",
   "execution_count": 48,
   "metadata": {},
   "outputs": [],
   "source": [
    "#closest_movies.shape"
   ]
  },
  {
   "cell_type": "code",
   "execution_count": 49,
   "metadata": {},
   "outputs": [
    {
     "output_type": "execute_result",
     "data": {
      "text/plain": [
       "\"\\nclosest_movies_strings = []\\nfor row in closest_movies:\\n    string_array = numpy.array2string(row, separator=',')\\n    closest_movies_strings.append(string_array)\\nclosest_movies_strings\\n\""
      ]
     },
     "metadata": {},
     "execution_count": 49
    }
   ],
   "source": [
    "'''\n",
    "closest_movies_strings = []\n",
    "for row in closest_movies:\n",
    "    string_array = numpy.array2string(row, separator=',')\n",
    "    closest_movies_strings.append(string_array)\n",
    "closest_movies_strings\n",
    "'''"
   ]
  },
  {
   "cell_type": "code",
   "execution_count": 50,
   "metadata": {},
   "outputs": [
    {
     "output_type": "stream",
     "name": "stdout",
     "text": [
      "Current Time = 05:06:10\n"
     ]
    }
   ],
   "source": [
    "from datetime import datetime\n",
    "\n",
    "now = datetime.now()\n",
    "\n",
    "current_time = now.strftime(\"%H:%M:%S\")\n",
    "print(\"Current Time =\", current_time)"
   ]
  },
  {
   "cell_type": "code",
   "execution_count": 51,
   "metadata": {},
   "outputs": [],
   "source": [
    "all_closest_movies_df = pd.DataFrame()\n",
    "all_closest_movies_df['movie_title'] = movies_used.values\n",
    "for i in range(number_movies_returned):\n",
    "    all_closest_movies_df['closest_movie_{}'.format(i+1)] = closest_movies[:,i]"
   ]
  },
  {
   "cell_type": "code",
   "execution_count": 52,
   "metadata": {},
   "outputs": [
    {
     "output_type": "execute_result",
     "data": {
      "text/plain": [
       "  closest_movies                             movie_title  closest_movie_0  \\\n",
       "0            NaN                     12 Angry Men (1957)              119   \n",
       "1            NaN                    The Godfather (1972)              242   \n",
       "2            NaN  One Flew Over the Cuckoo's Nest (1975)              100   \n",
       "3            NaN                      Taxi Driver (1976)               72   \n",
       "4            NaN                       Goodfellas (1990)               96   \n",
       "\n",
       "   closest_movie_1  closest_movie_2  closest_movie_3  closest_movie_4  \n",
       "0              276              144               28               34  \n",
       "1              119               96              154               70  \n",
       "2              113              154               28              164  \n",
       "3               39               96              100              205  \n",
       "4              129              305               72              154  "
      ],
      "text/html": "<div>\n<style scoped>\n    .dataframe tbody tr th:only-of-type {\n        vertical-align: middle;\n    }\n\n    .dataframe tbody tr th {\n        vertical-align: top;\n    }\n\n    .dataframe thead th {\n        text-align: right;\n    }\n</style>\n<table border=\"1\" class=\"dataframe\">\n  <thead>\n    <tr style=\"text-align: right;\">\n      <th></th>\n      <th>closest_movies</th>\n      <th>movie_title</th>\n      <th>closest_movie_0</th>\n      <th>closest_movie_1</th>\n      <th>closest_movie_2</th>\n      <th>closest_movie_3</th>\n      <th>closest_movie_4</th>\n    </tr>\n  </thead>\n  <tbody>\n    <tr>\n      <th>0</th>\n      <td>NaN</td>\n      <td>12 Angry Men (1957)</td>\n      <td>119</td>\n      <td>276</td>\n      <td>144</td>\n      <td>28</td>\n      <td>34</td>\n    </tr>\n    <tr>\n      <th>1</th>\n      <td>NaN</td>\n      <td>The Godfather (1972)</td>\n      <td>242</td>\n      <td>119</td>\n      <td>96</td>\n      <td>154</td>\n      <td>70</td>\n    </tr>\n    <tr>\n      <th>2</th>\n      <td>NaN</td>\n      <td>One Flew Over the Cuckoo's Nest (1975)</td>\n      <td>100</td>\n      <td>113</td>\n      <td>154</td>\n      <td>28</td>\n      <td>164</td>\n    </tr>\n    <tr>\n      <th>3</th>\n      <td>NaN</td>\n      <td>Taxi Driver (1976)</td>\n      <td>72</td>\n      <td>39</td>\n      <td>96</td>\n      <td>100</td>\n      <td>205</td>\n    </tr>\n    <tr>\n      <th>4</th>\n      <td>NaN</td>\n      <td>Goodfellas (1990)</td>\n      <td>96</td>\n      <td>129</td>\n      <td>305</td>\n      <td>72</td>\n      <td>154</td>\n    </tr>\n  </tbody>\n</table>\n</div>"
     },
     "metadata": {},
     "execution_count": 52
    }
   ],
   "source": [
    "all_closest_movies_df.head()"
   ]
  },
  {
   "cell_type": "code",
   "execution_count": null,
   "metadata": {},
   "outputs": [],
   "source": []
  },
  {
   "cell_type": "code",
   "execution_count": 53,
   "metadata": {},
   "outputs": [
    {
     "output_type": "execute_result",
     "data": {
      "text/plain": [
       "(309, 7)"
      ]
     },
     "metadata": {},
     "execution_count": 53
    }
   ],
   "source": [
    "all_closest_movies_df.shape"
   ]
  },
  {
   "cell_type": "code",
   "execution_count": 54,
   "metadata": {},
   "outputs": [],
   "source": [
    "database_filename = 'movie_recommendations.db'\n",
    "table_name = 'Closest_movies'\n",
    "engine = create_engine('sqlite:///' + database_filename)\n",
    "all_closest_movies_df.to_sql(table_name, engine, index=False, if_exists='replace')\n",
    "engine.dispose()"
   ]
  },
  {
   "cell_type": "code",
   "execution_count": 55,
   "metadata": {},
   "outputs": [],
   "source": [
    "database_filepath = 'movie_recommendations.db'\n",
    "engine = create_engine('sqlite:///'+ database_filepath)\n",
    "df = pd.read_sql_table('Closest_movies', engine)\n",
    "engine.dispose()"
   ]
  },
  {
   "cell_type": "code",
   "execution_count": 56,
   "metadata": {},
   "outputs": [
    {
     "output_type": "execute_result",
     "data": {
      "text/plain": [
       "  closest_movies                             movie_title  closest_movie_0  \\\n",
       "0           None                     12 Angry Men (1957)              119   \n",
       "1           None                    The Godfather (1972)              242   \n",
       "2           None  One Flew Over the Cuckoo's Nest (1975)              100   \n",
       "3           None                      Taxi Driver (1976)               72   \n",
       "4           None                       Goodfellas (1990)               96   \n",
       "\n",
       "   closest_movie_1  closest_movie_2  closest_movie_3  closest_movie_4  \n",
       "0              276              144               28               34  \n",
       "1              119               96              154               70  \n",
       "2              113              154               28              164  \n",
       "3               39               96              100              205  \n",
       "4              129              305               72              154  "
      ],
      "text/html": "<div>\n<style scoped>\n    .dataframe tbody tr th:only-of-type {\n        vertical-align: middle;\n    }\n\n    .dataframe tbody tr th {\n        vertical-align: top;\n    }\n\n    .dataframe thead th {\n        text-align: right;\n    }\n</style>\n<table border=\"1\" class=\"dataframe\">\n  <thead>\n    <tr style=\"text-align: right;\">\n      <th></th>\n      <th>closest_movies</th>\n      <th>movie_title</th>\n      <th>closest_movie_0</th>\n      <th>closest_movie_1</th>\n      <th>closest_movie_2</th>\n      <th>closest_movie_3</th>\n      <th>closest_movie_4</th>\n    </tr>\n  </thead>\n  <tbody>\n    <tr>\n      <th>0</th>\n      <td>None</td>\n      <td>12 Angry Men (1957)</td>\n      <td>119</td>\n      <td>276</td>\n      <td>144</td>\n      <td>28</td>\n      <td>34</td>\n    </tr>\n    <tr>\n      <th>1</th>\n      <td>None</td>\n      <td>The Godfather (1972)</td>\n      <td>242</td>\n      <td>119</td>\n      <td>96</td>\n      <td>154</td>\n      <td>70</td>\n    </tr>\n    <tr>\n      <th>2</th>\n      <td>None</td>\n      <td>One Flew Over the Cuckoo's Nest (1975)</td>\n      <td>100</td>\n      <td>113</td>\n      <td>154</td>\n      <td>28</td>\n      <td>164</td>\n    </tr>\n    <tr>\n      <th>3</th>\n      <td>None</td>\n      <td>Taxi Driver (1976)</td>\n      <td>72</td>\n      <td>39</td>\n      <td>96</td>\n      <td>100</td>\n      <td>205</td>\n    </tr>\n    <tr>\n      <th>4</th>\n      <td>None</td>\n      <td>Goodfellas (1990)</td>\n      <td>96</td>\n      <td>129</td>\n      <td>305</td>\n      <td>72</td>\n      <td>154</td>\n    </tr>\n  </tbody>\n</table>\n</div>"
     },
     "metadata": {},
     "execution_count": 56
    }
   ],
   "source": [
    "df.head()"
   ]
  },
  {
   "cell_type": "code",
   "execution_count": 57,
   "metadata": {},
   "outputs": [],
   "source": [
    "number_movies_returned  = 5\n",
    "def get_closest_movies(column):\n",
    "    negative_n = -1*number_movies_returned\n",
    "    closest_movies = np.argpartition(column, negative_n)[negative_n:]\n",
    "    \n",
    "    return closest_movies"
   ]
  },
  {
   "cell_type": "code",
   "execution_count": 58,
   "metadata": {},
   "outputs": [],
   "source": [
    "def get_closest_movies(number_movies, scores):\n",
    "    all_closest_movies = {}\n",
    "    for movie_index in range(scores.shape[0]):\n",
    "        closest_movies_scores = [0]\n",
    "        closest_movies_indexes = [movie_index]   \n",
    "        for temp_index in range(scores.shape[0]):\n",
    "            if temp_index > movie_index:\n",
    "                temp_score = scores[movie_index, temp_index] \n",
    "            else:\n",
    "                temp_score = scores[temp_index, movie_index]\n",
    "            min_score = closest_movies_scores[-1]\n",
    "            if temp_score > min_score:\n",
    "                closest_movies_scores.append(temp_score)\n",
    "                closest_movies_indexes.append(temp_index)\n",
    "                index_sorted = len(closest_movies_scores) - 2\n",
    "                next_score = closest_movies_scores[index_sorted]\n",
    "                next_index = closest_movies_indexes[index_sorted]\n",
    "                while (next_score < temp_score) and index_sorted >= 0 :\n",
    "                    closest_movies_scores[index_sorted+1] = next_score\n",
    "                    closest_movies_indexes[index_sorted+1] = next_index\n",
    "                    closest_movies_scores[index_sorted] = temp_score\n",
    "                    closest_movies_indexes[index_sorted] = temp_index\n",
    "                    index_sorted -= 1\n",
    "                if len(closest_movies_scores) > number_movies:\n",
    "                    closest_movies_scores = closest_movies_scores[0:number_movies-1]\n",
    "                    closest_movies_indexes = closest_movies_indexes[0:number_movies-1] \n",
    "        if closest_movies_indexes[-1] == movie_index:\n",
    "            if len(closest_movies_indexes) == 1:\n",
    "                closest_movies_scores = []\n",
    "                closest_movies_indexes = []\n",
    "            else:\n",
    "                closest_movies_scores = closest_movies_scores[0:-2]\n",
    "                closest_movies_indexes = closest_movies_indexes[0:-2]\n",
    "        all_closest_movies[movie_index] = closest_movies_indexes\n",
    "\n",
    "    return all_closest_movies"
   ]
  },
  {
   "cell_type": "code",
   "execution_count": 59,
   "metadata": {},
   "outputs": [],
   "source": [
    "# save movie_id - movie_title - list of n closest movie_ids to db"
   ]
  },
  {
   "cell_type": "code",
   "execution_count": 60,
   "metadata": {},
   "outputs": [],
   "source": [
    "# create function that extracts n closest movie titles based on movie_ids as int for a given movie from db"
   ]
  }
 ]
}