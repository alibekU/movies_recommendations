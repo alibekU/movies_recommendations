{
 "metadata": {
  "language_info": {
   "codemirror_mode": {
    "name": "ipython",
    "version": 3
   },
   "file_extension": ".py",
   "mimetype": "text/x-python",
   "name": "python",
   "nbconvert_exporter": "python",
   "pygments_lexer": "ipython3",
   "version": "3.7.9-final"
  },
  "orig_nbformat": 2,
  "kernelspec": {
   "name": "python3",
   "display_name": "Python 3"
  }
 },
 "nbformat": 4,
 "nbformat_minor": 2,
 "cells": [
  {
   "cell_type": "code",
   "execution_count": 1,
   "metadata": {},
   "outputs": [],
   "source": [
    "import pandas as pd\n",
    "import numpy as np\n",
    "from sqlalchemy import create_engine\n",
    "from sklearn.metrics.pairwise import nan_euclidean_distances"
   ]
  },
  {
   "cell_type": "code",
   "execution_count": 31,
   "metadata": {},
   "outputs": [
    {
     "output_type": "execute_result",
     "data": {
      "text/plain": [
       "   movie_id                                        movie_title  \\\n",
       "0         8      Edison Kinetoscopic Record of a Sneeze (1894)   \n",
       "1        10                La sortie des usines Lumière (1895)   \n",
       "2        12                      The Arrival of a Train (1896)   \n",
       "3        25  The Oxford and Cambridge University Boat Race ...   \n",
       "4        91                         Le manoir du diable (1896)   \n",
       "\n",
       "               genra  \n",
       "0  Documentary|Short  \n",
       "1  Documentary|Short  \n",
       "2  Documentary|Short  \n",
       "3                NaN  \n",
       "4       Short|Horror  "
      ],
      "text/html": "<div>\n<style scoped>\n    .dataframe tbody tr th:only-of-type {\n        vertical-align: middle;\n    }\n\n    .dataframe tbody tr th {\n        vertical-align: top;\n    }\n\n    .dataframe thead th {\n        text-align: right;\n    }\n</style>\n<table border=\"1\" class=\"dataframe\">\n  <thead>\n    <tr style=\"text-align: right;\">\n      <th></th>\n      <th>movie_id</th>\n      <th>movie_title</th>\n      <th>genra</th>\n    </tr>\n  </thead>\n  <tbody>\n    <tr>\n      <th>0</th>\n      <td>8</td>\n      <td>Edison Kinetoscopic Record of a Sneeze (1894)</td>\n      <td>Documentary|Short</td>\n    </tr>\n    <tr>\n      <th>1</th>\n      <td>10</td>\n      <td>La sortie des usines Lumière (1895)</td>\n      <td>Documentary|Short</td>\n    </tr>\n    <tr>\n      <th>2</th>\n      <td>12</td>\n      <td>The Arrival of a Train (1896)</td>\n      <td>Documentary|Short</td>\n    </tr>\n    <tr>\n      <th>3</th>\n      <td>25</td>\n      <td>The Oxford and Cambridge University Boat Race ...</td>\n      <td>NaN</td>\n    </tr>\n    <tr>\n      <th>4</th>\n      <td>91</td>\n      <td>Le manoir du diable (1896)</td>\n      <td>Short|Horror</td>\n    </tr>\n  </tbody>\n</table>\n</div>"
     },
     "metadata": {},
     "execution_count": 31
    }
   ],
   "source": [
    "movies = pd.read_csv('data/movies.dat', sep='::', names=['movie_id', 'movie_title', 'genra'], header=None )\n",
    "movies.head()"
   ]
  },
  {
   "cell_type": "code",
   "execution_count": 32,
   "metadata": {},
   "outputs": [
    {
     "output_type": "execute_result",
     "data": {
      "text/plain": [
       "3"
      ]
     },
     "metadata": {},
     "execution_count": 32
    }
   ],
   "source": [
    "movies.shape[0] - movies['movie_id'].unique().shape[0]"
   ]
  },
  {
   "cell_type": "code",
   "execution_count": 33,
   "metadata": {},
   "outputs": [
    {
     "output_type": "execute_result",
     "data": {
      "text/plain": [
       "movie_id\n",
       "106519     2\n",
       "1979376    2\n",
       "4160708    2\n",
       "dtype: int64"
      ]
     },
     "metadata": {},
     "execution_count": 33
    }
   ],
   "source": [
    "counts = movies.groupby(['movie_id'])[['movie_title']].size()\n",
    "counts[counts>1]"
   ]
  },
  {
   "cell_type": "code",
   "execution_count": 34,
   "metadata": {},
   "outputs": [
    {
     "output_type": "execute_result",
     "data": {
      "text/plain": [
       "      movie_id           movie_title                 genra\n",
       "8241    106519  Carlito's Way (1993)                   NaN\n",
       "8242    106519  Carlito's Way (1993)  Crime|Drama|Thriller"
      ],
      "text/html": "<div>\n<style scoped>\n    .dataframe tbody tr th:only-of-type {\n        vertical-align: middle;\n    }\n\n    .dataframe tbody tr th {\n        vertical-align: top;\n    }\n\n    .dataframe thead th {\n        text-align: right;\n    }\n</style>\n<table border=\"1\" class=\"dataframe\">\n  <thead>\n    <tr style=\"text-align: right;\">\n      <th></th>\n      <th>movie_id</th>\n      <th>movie_title</th>\n      <th>genra</th>\n    </tr>\n  </thead>\n  <tbody>\n    <tr>\n      <th>8241</th>\n      <td>106519</td>\n      <td>Carlito's Way (1993)</td>\n      <td>NaN</td>\n    </tr>\n    <tr>\n      <th>8242</th>\n      <td>106519</td>\n      <td>Carlito's Way (1993)</td>\n      <td>Crime|Drama|Thriller</td>\n    </tr>\n  </tbody>\n</table>\n</div>"
     },
     "metadata": {},
     "execution_count": 34
    }
   ],
   "source": [
    "movies[movies['movie_id'] == 106519]"
   ]
  },
  {
   "cell_type": "code",
   "execution_count": 35,
   "metadata": {},
   "outputs": [
    {
     "output_type": "execute_result",
     "data": {
      "text/plain": [
       "       movie_id         movie_title                                      genra\n",
       "21924   1979376  Toy Story 4 (2019)  Animation|Adventure|Comedy|Family|Fantasy\n",
       "21925   1979376  Toy Story 4 (2019)  Animation|Adventure|Comedy|Family|Fantasy"
      ],
      "text/html": "<div>\n<style scoped>\n    .dataframe tbody tr th:only-of-type {\n        vertical-align: middle;\n    }\n\n    .dataframe tbody tr th {\n        vertical-align: top;\n    }\n\n    .dataframe thead th {\n        text-align: right;\n    }\n</style>\n<table border=\"1\" class=\"dataframe\">\n  <thead>\n    <tr style=\"text-align: right;\">\n      <th></th>\n      <th>movie_id</th>\n      <th>movie_title</th>\n      <th>genra</th>\n    </tr>\n  </thead>\n  <tbody>\n    <tr>\n      <th>21924</th>\n      <td>1979376</td>\n      <td>Toy Story 4 (2019)</td>\n      <td>Animation|Adventure|Comedy|Family|Fantasy</td>\n    </tr>\n    <tr>\n      <th>21925</th>\n      <td>1979376</td>\n      <td>Toy Story 4 (2019)</td>\n      <td>Animation|Adventure|Comedy|Family|Fantasy</td>\n    </tr>\n  </tbody>\n</table>\n</div>"
     },
     "metadata": {},
     "execution_count": 35
    }
   ],
   "source": [
    "movies[movies['movie_id'] == 1979376]"
   ]
  },
  {
   "cell_type": "code",
   "execution_count": 36,
   "metadata": {},
   "outputs": [
    {
     "output_type": "execute_result",
     "data": {
      "text/plain": [
       "       movie_id           movie_title                  genra\n",
       "29305   4160708  Don't Breathe (2016)  Crime|Horror|Thriller\n",
       "29306   4160708  Don't Breathe (2016)  Crime|Horror|Thriller"
      ],
      "text/html": "<div>\n<style scoped>\n    .dataframe tbody tr th:only-of-type {\n        vertical-align: middle;\n    }\n\n    .dataframe tbody tr th {\n        vertical-align: top;\n    }\n\n    .dataframe thead th {\n        text-align: right;\n    }\n</style>\n<table border=\"1\" class=\"dataframe\">\n  <thead>\n    <tr style=\"text-align: right;\">\n      <th></th>\n      <th>movie_id</th>\n      <th>movie_title</th>\n      <th>genra</th>\n    </tr>\n  </thead>\n  <tbody>\n    <tr>\n      <th>29305</th>\n      <td>4160708</td>\n      <td>Don't Breathe (2016)</td>\n      <td>Crime|Horror|Thriller</td>\n    </tr>\n    <tr>\n      <th>29306</th>\n      <td>4160708</td>\n      <td>Don't Breathe (2016)</td>\n      <td>Crime|Horror|Thriller</td>\n    </tr>\n  </tbody>\n</table>\n</div>"
     },
     "metadata": {},
     "execution_count": 36
    }
   ],
   "source": [
    "movies[movies['movie_id'] == 4160708]"
   ]
  },
  {
   "cell_type": "code",
   "execution_count": 37,
   "metadata": {},
   "outputs": [],
   "source": [
    "movies.drop_duplicates(subset=['movie_id'], inplace=True)"
   ]
  },
  {
   "cell_type": "code",
   "execution_count": 38,
   "metadata": {},
   "outputs": [
    {
     "output_type": "execute_result",
     "data": {
      "text/plain": [
       "                                                movie_title              genra\n",
       "movie_id                                                                      \n",
       "8             Edison Kinetoscopic Record of a Sneeze (1894)  Documentary|Short\n",
       "10                      La sortie des usines Lumière (1895)  Documentary|Short\n",
       "12                            The Arrival of a Train (1896)  Documentary|Short\n",
       "25        The Oxford and Cambridge University Boat Race ...                NaN\n",
       "91                               Le manoir du diable (1896)       Short|Horror"
      ],
      "text/html": "<div>\n<style scoped>\n    .dataframe tbody tr th:only-of-type {\n        vertical-align: middle;\n    }\n\n    .dataframe tbody tr th {\n        vertical-align: top;\n    }\n\n    .dataframe thead th {\n        text-align: right;\n    }\n</style>\n<table border=\"1\" class=\"dataframe\">\n  <thead>\n    <tr style=\"text-align: right;\">\n      <th></th>\n      <th>movie_title</th>\n      <th>genra</th>\n    </tr>\n    <tr>\n      <th>movie_id</th>\n      <th></th>\n      <th></th>\n    </tr>\n  </thead>\n  <tbody>\n    <tr>\n      <th>8</th>\n      <td>Edison Kinetoscopic Record of a Sneeze (1894)</td>\n      <td>Documentary|Short</td>\n    </tr>\n    <tr>\n      <th>10</th>\n      <td>La sortie des usines Lumière (1895)</td>\n      <td>Documentary|Short</td>\n    </tr>\n    <tr>\n      <th>12</th>\n      <td>The Arrival of a Train (1896)</td>\n      <td>Documentary|Short</td>\n    </tr>\n    <tr>\n      <th>25</th>\n      <td>The Oxford and Cambridge University Boat Race ...</td>\n      <td>NaN</td>\n    </tr>\n    <tr>\n      <th>91</th>\n      <td>Le manoir du diable (1896)</td>\n      <td>Short|Horror</td>\n    </tr>\n  </tbody>\n</table>\n</div>"
     },
     "metadata": {},
     "execution_count": 38
    }
   ],
   "source": [
    "movies.index = movies['movie_id']\n",
    "movies = movies.drop(columns=['movie_id'])\n",
    "movies.head()"
   ]
  },
  {
   "cell_type": "code",
   "execution_count": 39,
   "metadata": {},
   "outputs": [
    {
     "output_type": "execute_result",
     "data": {
      "text/plain": [
       "   user_id  twitter_id\n",
       "0        1   139564917\n",
       "1        2   522540374\n",
       "2        3   475571186\n",
       "3        4   215022153\n",
       "4        5   349681331"
      ],
      "text/html": "<div>\n<style scoped>\n    .dataframe tbody tr th:only-of-type {\n        vertical-align: middle;\n    }\n\n    .dataframe tbody tr th {\n        vertical-align: top;\n    }\n\n    .dataframe thead th {\n        text-align: right;\n    }\n</style>\n<table border=\"1\" class=\"dataframe\">\n  <thead>\n    <tr style=\"text-align: right;\">\n      <th></th>\n      <th>user_id</th>\n      <th>twitter_id</th>\n    </tr>\n  </thead>\n  <tbody>\n    <tr>\n      <th>0</th>\n      <td>1</td>\n      <td>139564917</td>\n    </tr>\n    <tr>\n      <th>1</th>\n      <td>2</td>\n      <td>522540374</td>\n    </tr>\n    <tr>\n      <th>2</th>\n      <td>3</td>\n      <td>475571186</td>\n    </tr>\n    <tr>\n      <th>3</th>\n      <td>4</td>\n      <td>215022153</td>\n    </tr>\n    <tr>\n      <th>4</th>\n      <td>5</td>\n      <td>349681331</td>\n    </tr>\n  </tbody>\n</table>\n</div>"
     },
     "metadata": {},
     "execution_count": 39
    }
   ],
   "source": [
    "users = pd.read_csv('data/users.dat', sep='::', names=['user_id', 'twitter_id'], header=None )\n",
    "users.head()"
   ]
  },
  {
   "cell_type": "code",
   "execution_count": 40,
   "metadata": {},
   "outputs": [
    {
     "output_type": "stream",
     "name": "stdout",
     "text": [
      "(69324, 2)\n"
     ]
    }
   ],
   "source": [
    "print(users.shape)"
   ]
  },
  {
   "cell_type": "code",
   "execution_count": 41,
   "metadata": {},
   "outputs": [
    {
     "output_type": "execute_result",
     "data": {
      "text/plain": [
       "   user_id  movie_id  rating  rating_timestamp\n",
       "0        1    114508       8        1381006850\n",
       "1        2     75314       1        1595468524\n",
       "2        2    102926       9        1590148016\n",
       "3        2    114369      10        1597555347\n",
       "4        2    118715       8        1596006798"
      ],
      "text/html": "<div>\n<style scoped>\n    .dataframe tbody tr th:only-of-type {\n        vertical-align: middle;\n    }\n\n    .dataframe tbody tr th {\n        vertical-align: top;\n    }\n\n    .dataframe thead th {\n        text-align: right;\n    }\n</style>\n<table border=\"1\" class=\"dataframe\">\n  <thead>\n    <tr style=\"text-align: right;\">\n      <th></th>\n      <th>user_id</th>\n      <th>movie_id</th>\n      <th>rating</th>\n      <th>rating_timestamp</th>\n    </tr>\n  </thead>\n  <tbody>\n    <tr>\n      <th>0</th>\n      <td>1</td>\n      <td>114508</td>\n      <td>8</td>\n      <td>1381006850</td>\n    </tr>\n    <tr>\n      <th>1</th>\n      <td>2</td>\n      <td>75314</td>\n      <td>1</td>\n      <td>1595468524</td>\n    </tr>\n    <tr>\n      <th>2</th>\n      <td>2</td>\n      <td>102926</td>\n      <td>9</td>\n      <td>1590148016</td>\n    </tr>\n    <tr>\n      <th>3</th>\n      <td>2</td>\n      <td>114369</td>\n      <td>10</td>\n      <td>1597555347</td>\n    </tr>\n    <tr>\n      <th>4</th>\n      <td>2</td>\n      <td>118715</td>\n      <td>8</td>\n      <td>1596006798</td>\n    </tr>\n  </tbody>\n</table>\n</div>"
     },
     "metadata": {},
     "execution_count": 41
    }
   ],
   "source": [
    "ratings = pd.read_csv('data/ratings.dat', sep='::', names=['user_id', 'movie_id', 'rating', 'rating_timestamp'], header=None )\n",
    "ratings.head()"
   ]
  },
  {
   "cell_type": "code",
   "execution_count": 42,
   "metadata": {},
   "outputs": [
    {
     "output_type": "execute_result",
     "data": {
      "text/plain": [
       "(888452, 4)"
      ]
     },
     "metadata": {},
     "execution_count": 42
    }
   ],
   "source": [
    "ratings.shape"
   ]
  },
  {
   "cell_type": "code",
   "execution_count": 43,
   "metadata": {},
   "outputs": [],
   "source": [
    "ratings_new = ratings.drop(columns=['rating_timestamp'])"
   ]
  },
  {
   "cell_type": "code",
   "execution_count": 44,
   "metadata": {},
   "outputs": [],
   "source": [
    "ratings_new['count_user'] = ratings_new.groupby(['user_id'])['user_id'].transform('count')"
   ]
  },
  {
   "cell_type": "code",
   "execution_count": 45,
   "metadata": {},
   "outputs": [
    {
     "output_type": "execute_result",
     "data": {
      "text/plain": [
       "   user_id  movie_id  rating  rating_timestamp\n",
       "0        1    114508       8        1381006850\n",
       "1        2     75314       1        1595468524\n",
       "2        2    102926       9        1590148016\n",
       "3        2    114369      10        1597555347\n",
       "4        2    118715       8        1596006798"
      ],
      "text/html": "<div>\n<style scoped>\n    .dataframe tbody tr th:only-of-type {\n        vertical-align: middle;\n    }\n\n    .dataframe tbody tr th {\n        vertical-align: top;\n    }\n\n    .dataframe thead th {\n        text-align: right;\n    }\n</style>\n<table border=\"1\" class=\"dataframe\">\n  <thead>\n    <tr style=\"text-align: right;\">\n      <th></th>\n      <th>user_id</th>\n      <th>movie_id</th>\n      <th>rating</th>\n      <th>rating_timestamp</th>\n    </tr>\n  </thead>\n  <tbody>\n    <tr>\n      <th>0</th>\n      <td>1</td>\n      <td>114508</td>\n      <td>8</td>\n      <td>1381006850</td>\n    </tr>\n    <tr>\n      <th>1</th>\n      <td>2</td>\n      <td>75314</td>\n      <td>1</td>\n      <td>1595468524</td>\n    </tr>\n    <tr>\n      <th>2</th>\n      <td>2</td>\n      <td>102926</td>\n      <td>9</td>\n      <td>1590148016</td>\n    </tr>\n    <tr>\n      <th>3</th>\n      <td>2</td>\n      <td>114369</td>\n      <td>10</td>\n      <td>1597555347</td>\n    </tr>\n    <tr>\n      <th>4</th>\n      <td>2</td>\n      <td>118715</td>\n      <td>8</td>\n      <td>1596006798</td>\n    </tr>\n  </tbody>\n</table>\n</div>"
     },
     "metadata": {},
     "execution_count": 45
    }
   ],
   "source": [
    "ratings.head()"
   ]
  },
  {
   "cell_type": "code",
   "execution_count": 46,
   "metadata": {},
   "outputs": [],
   "source": [
    "ratings_user = ratings_new.query('count_user >= 5')"
   ]
  },
  {
   "cell_type": "code",
   "execution_count": 47,
   "metadata": {},
   "outputs": [
    {
     "output_type": "execute_result",
     "data": {
      "text/plain": [
       "(814549, 4)"
      ]
     },
     "metadata": {},
     "execution_count": 47
    }
   ],
   "source": [
    "ratings_user.shape"
   ]
  },
  {
   "cell_type": "code",
   "execution_count": 48,
   "metadata": {},
   "outputs": [],
   "source": [
    "ratings_user = ratings_user.drop(columns=['count_user'])"
   ]
  },
  {
   "cell_type": "code",
   "execution_count": null,
   "metadata": {},
   "outputs": [],
   "source": []
  },
  {
   "cell_type": "code",
   "execution_count": 49,
   "metadata": {},
   "outputs": [
    {
     "output_type": "execute_result",
     "data": {
      "text/plain": [
       "(181959, 4)"
      ]
     },
     "metadata": {},
     "execution_count": 49
    }
   ],
   "source": [
    "ratings_user['count_movie'] = ratings_user.groupby(['movie_id'])['movie_id'].transform('count')\n",
    "ratings_movie = ratings_user.query('count_movie >= 800')\n",
    "ratings_movie.shape"
   ]
  },
  {
   "cell_type": "code",
   "execution_count": 50,
   "metadata": {},
   "outputs": [],
   "source": [
    "user_by_movie = ratings_movie.groupby(['user_id', 'movie_id'])['rating'].max().unstack()"
   ]
  },
  {
   "cell_type": "code",
   "execution_count": 51,
   "metadata": {},
   "outputs": [
    {
     "output_type": "execute_result",
     "data": {
      "text/plain": [
       "(20794, 148)"
      ]
     },
     "metadata": {},
     "execution_count": 51
    }
   ],
   "source": [
    "user_by_movie.shape"
   ]
  },
  {
   "cell_type": "code",
   "execution_count": 52,
   "metadata": {},
   "outputs": [
    {
     "output_type": "execute_result",
     "data": {
      "text/plain": [
       "movie_id\n",
       "111161            The Shawshank Redemption (1994)\n",
       "114369                               Se7en (1995)\n",
       "359950     The Secret Life of Walter Mitty (2013)\n",
       "369610                      Jurassic World (2015)\n",
       "451279                        Wonder Woman (2017)\n",
       "                            ...                  \n",
       "7286456                              Joker (2019)\n",
       "7653254                     Marriage Story (2019)\n",
       "8367814                      The Gentlemen (2019)\n",
       "8579674                               1917 (2019)\n",
       "8946378                         Knives Out (2019)\n",
       "Name: movie_title, Length: 148, dtype: object"
      ]
     },
     "metadata": {},
     "execution_count": 52
    }
   ],
   "source": [
    "movies_used = movies.loc[user_by_movie.columns, 'movie_title']\n",
    "movies_used"
   ]
  },
  {
   "cell_type": "code",
   "execution_count": 53,
   "metadata": {},
   "outputs": [
    {
     "output_type": "execute_result",
     "data": {
      "text/plain": [
       "(148,)"
      ]
     },
     "metadata": {},
     "execution_count": 53
    }
   ],
   "source": [
    "movies_used.shape"
   ]
  },
  {
   "cell_type": "code",
   "execution_count": 54,
   "metadata": {},
   "outputs": [],
   "source": [
    "user_by_movie_matrix = user_by_movie.to_numpy()"
   ]
  },
  {
   "cell_type": "code",
   "execution_count": null,
   "metadata": {},
   "outputs": [],
   "source": [
    "def get_all_scores(user_by_movie_matrix):\n",
    "    movies_number = user_by_movie.shape[1]\n",
    "    scores = np.zeros(shape=(movies_number, movies_number))\n",
    "    for index1 in range(movies_number):\n",
    "        diffs = np.subtract(user_by_movie_matrix, np.vstack(user_by_movie_matrix[:, index1]))\n",
    "        diffs[np.isnan(diffs)] = 0.0\n",
    "        scores[index1] = np.linalg.norm(diffs, axis=0)\n",
    "    return scores"
   ]
  },
  {
   "cell_type": "code",
   "execution_count": null,
   "metadata": {},
   "outputs": [],
   "source": []
  },
  {
   "cell_type": "code",
   "execution_count": null,
   "metadata": {},
   "outputs": [],
   "source": []
  },
  {
   "cell_type": "code",
   "execution_count": null,
   "metadata": {},
   "outputs": [],
   "source": []
  },
  {
   "cell_type": "code",
   "execution_count": 56,
   "metadata": {},
   "outputs": [
    {
     "output_type": "stream",
     "name": "stdout",
     "text": [
      "Current Time = 19:33:16\n"
     ]
    }
   ],
   "source": [
    "from datetime import datetime\n",
    "\n",
    "now = datetime.now()\n",
    "\n",
    "current_time = now.strftime(\"%H:%M:%S\")\n",
    "print(\"Current Time =\", current_time)"
   ]
  },
  {
   "cell_type": "code",
   "execution_count": 58,
   "metadata": {},
   "outputs": [],
   "source": [
    "scores = get_all_scores(user_by_movie_matrix)"
   ]
  },
  {
   "cell_type": "code",
   "execution_count": 60,
   "metadata": {},
   "outputs": [],
   "source": [
    "#scores.shape"
   ]
  },
  {
   "cell_type": "code",
   "execution_count": 62,
   "metadata": {},
   "outputs": [],
   "source": [
    "scores_full = scores + scores.T - np.diag(np.diag(scores))\n",
    "number_movies_returned  = 5\n",
    "negative_n = -1*number_movies_returned\n",
    "closest_movies = np.argpartition(scores_full, negative_n, axis=1)[:, negative_n:]"
   ]
  },
  {
   "cell_type": "code",
   "execution_count": 64,
   "metadata": {},
   "outputs": [],
   "source": [
    "#closest_movies.shape"
   ]
  },
  {
   "cell_type": "code",
   "execution_count": 65,
   "metadata": {},
   "outputs": [
    {
     "output_type": "stream",
     "name": "stdout",
     "text": [
      "Current Time = 19:33:25\n"
     ]
    }
   ],
   "source": [
    "from datetime import datetime\n",
    "\n",
    "now = datetime.now()\n",
    "\n",
    "current_time = now.strftime(\"%H:%M:%S\")\n",
    "print(\"Current Time =\", current_time)"
   ]
  },
  {
   "cell_type": "code",
   "execution_count": 66,
   "metadata": {},
   "outputs": [],
   "source": [
    "all_closest_movies_df = pd.DataFrame()\n",
    "all_closest_movies_df['movie_title'] = movies_used.values\n",
    "for i in range(number_movies_returned):\n",
    "    all_closest_movies_df['closest_movie_{}'.format(i+1)] = closest_movies[:,i]"
   ]
  },
  {
   "cell_type": "code",
   "execution_count": 67,
   "metadata": {},
   "outputs": [
    {
     "output_type": "execute_result",
     "data": {
      "text/plain": [
       "                              movie_title  closest_movie_1  closest_movie_2  \\\n",
       "0         The Shawshank Redemption (1994)                5              147   \n",
       "1                            Se7en (1995)              140              105   \n",
       "2  The Secret Life of Walter Mitty (2013)              144              138   \n",
       "3                   Jurassic World (2015)               99              144   \n",
       "4                     Wonder Woman (2017)                5               52   \n",
       "\n",
       "   closest_movie_3  closest_movie_4  closest_movie_5  \n",
       "0              145               67               28  \n",
       "1              145              122                5  \n",
       "2               67              147              145  \n",
       "3              145               67              147  \n",
       "4              145                2               86  "
      ],
      "text/html": "<div>\n<style scoped>\n    .dataframe tbody tr th:only-of-type {\n        vertical-align: middle;\n    }\n\n    .dataframe tbody tr th {\n        vertical-align: top;\n    }\n\n    .dataframe thead th {\n        text-align: right;\n    }\n</style>\n<table border=\"1\" class=\"dataframe\">\n  <thead>\n    <tr style=\"text-align: right;\">\n      <th></th>\n      <th>movie_title</th>\n      <th>closest_movie_1</th>\n      <th>closest_movie_2</th>\n      <th>closest_movie_3</th>\n      <th>closest_movie_4</th>\n      <th>closest_movie_5</th>\n    </tr>\n  </thead>\n  <tbody>\n    <tr>\n      <th>0</th>\n      <td>The Shawshank Redemption (1994)</td>\n      <td>5</td>\n      <td>147</td>\n      <td>145</td>\n      <td>67</td>\n      <td>28</td>\n    </tr>\n    <tr>\n      <th>1</th>\n      <td>Se7en (1995)</td>\n      <td>140</td>\n      <td>105</td>\n      <td>145</td>\n      <td>122</td>\n      <td>5</td>\n    </tr>\n    <tr>\n      <th>2</th>\n      <td>The Secret Life of Walter Mitty (2013)</td>\n      <td>144</td>\n      <td>138</td>\n      <td>67</td>\n      <td>147</td>\n      <td>145</td>\n    </tr>\n    <tr>\n      <th>3</th>\n      <td>Jurassic World (2015)</td>\n      <td>99</td>\n      <td>144</td>\n      <td>145</td>\n      <td>67</td>\n      <td>147</td>\n    </tr>\n    <tr>\n      <th>4</th>\n      <td>Wonder Woman (2017)</td>\n      <td>5</td>\n      <td>52</td>\n      <td>145</td>\n      <td>2</td>\n      <td>86</td>\n    </tr>\n  </tbody>\n</table>\n</div>"
     },
     "metadata": {},
     "execution_count": 67
    }
   ],
   "source": [
    "all_closest_movies_df.head()"
   ]
  },
  {
   "cell_type": "code",
   "execution_count": 68,
   "metadata": {},
   "outputs": [
    {
     "output_type": "execute_result",
     "data": {
      "text/plain": [
       "(148, 6)"
      ]
     },
     "metadata": {},
     "execution_count": 68
    }
   ],
   "source": [
    "all_closest_movies_df.shape"
   ]
  },
  {
   "cell_type": "code",
   "execution_count": 69,
   "metadata": {},
   "outputs": [],
   "source": [
    "database_filename = 'movie_recommendations.db'\n",
    "table_name = 'Closest_movies'\n",
    "engine = create_engine('sqlite:///' + database_filename)\n",
    "all_closest_movies_df.to_sql(table_name, engine, index=False, if_exists='replace')\n",
    "engine.dispose()"
   ]
  },
  {
   "cell_type": "code",
   "execution_count": null,
   "metadata": {},
   "outputs": [],
   "source": []
  },
  {
   "cell_type": "code",
   "execution_count": null,
   "metadata": {},
   "outputs": [],
   "source": []
  },
  {
   "cell_type": "code",
   "execution_count": null,
   "metadata": {},
   "outputs": [],
   "source": [
    "# Extract saved recommendations"
   ]
  },
  {
   "cell_type": "code",
   "execution_count": 2,
   "metadata": {},
   "outputs": [],
   "source": [
    "database_filepath = 'movie_recommendations_v2.db'\n",
    "engine = create_engine('sqlite:///'+ database_filepath)\n",
    "df = pd.read_sql_table('Closest_movies', engine)\n",
    "engine.dispose()"
   ]
  },
  {
   "cell_type": "code",
   "execution_count": 3,
   "metadata": {},
   "outputs": [
    {
     "output_type": "execute_result",
     "data": {
      "text/plain": [
       "                 movie_title  closest_movie_1  closest_movie_2  \\\n",
       "0         City Lights (1931)              980              667   \n",
       "1  Gone with the Wind (1939)              491              957   \n",
       "2        Citizen Kane (1941)              925              455   \n",
       "3          Casablanca (1942)              701             1343   \n",
       "4    Double Indemnity (1944)             1276              425   \n",
       "\n",
       "   closest_movie_3  closest_movie_4  closest_movie_5  \n",
       "0              676              455             1036  \n",
       "1             1478              712             1257  \n",
       "2              667              957             1276  \n",
       "3             1115             1276              455  \n",
       "4              962              957              455  "
      ],
      "text/html": "<div>\n<style scoped>\n    .dataframe tbody tr th:only-of-type {\n        vertical-align: middle;\n    }\n\n    .dataframe tbody tr th {\n        vertical-align: top;\n    }\n\n    .dataframe thead th {\n        text-align: right;\n    }\n</style>\n<table border=\"1\" class=\"dataframe\">\n  <thead>\n    <tr style=\"text-align: right;\">\n      <th></th>\n      <th>movie_title</th>\n      <th>closest_movie_1</th>\n      <th>closest_movie_2</th>\n      <th>closest_movie_3</th>\n      <th>closest_movie_4</th>\n      <th>closest_movie_5</th>\n    </tr>\n  </thead>\n  <tbody>\n    <tr>\n      <th>0</th>\n      <td>City Lights (1931)</td>\n      <td>980</td>\n      <td>667</td>\n      <td>676</td>\n      <td>455</td>\n      <td>1036</td>\n    </tr>\n    <tr>\n      <th>1</th>\n      <td>Gone with the Wind (1939)</td>\n      <td>491</td>\n      <td>957</td>\n      <td>1478</td>\n      <td>712</td>\n      <td>1257</td>\n    </tr>\n    <tr>\n      <th>2</th>\n      <td>Citizen Kane (1941)</td>\n      <td>925</td>\n      <td>455</td>\n      <td>667</td>\n      <td>957</td>\n      <td>1276</td>\n    </tr>\n    <tr>\n      <th>3</th>\n      <td>Casablanca (1942)</td>\n      <td>701</td>\n      <td>1343</td>\n      <td>1115</td>\n      <td>1276</td>\n      <td>455</td>\n    </tr>\n    <tr>\n      <th>4</th>\n      <td>Double Indemnity (1944)</td>\n      <td>1276</td>\n      <td>425</td>\n      <td>962</td>\n      <td>957</td>\n      <td>455</td>\n    </tr>\n  </tbody>\n</table>\n</div>"
     },
     "metadata": {},
     "execution_count": 3
    }
   ],
   "source": [
    "df.head()"
   ]
  },
  {
   "cell_type": "code",
   "execution_count": 89,
   "metadata": {},
   "outputs": [
    {
     "output_type": "execute_result",
     "data": {
      "text/plain": [
       "   index               movie_title  closest_movie_1  closest_movie_2  \\\n",
       "0    860  Bohemian Rhapsody (2018)             1234              610   \n",
       "\n",
       "   closest_movie_3  closest_movie_4  closest_movie_5  \n",
       "0              667             1523             1621  "
      ],
      "text/html": "<div>\n<style scoped>\n    .dataframe tbody tr th:only-of-type {\n        vertical-align: middle;\n    }\n\n    .dataframe tbody tr th {\n        vertical-align: top;\n    }\n\n    .dataframe thead th {\n        text-align: right;\n    }\n</style>\n<table border=\"1\" class=\"dataframe\">\n  <thead>\n    <tr style=\"text-align: right;\">\n      <th></th>\n      <th>index</th>\n      <th>movie_title</th>\n      <th>closest_movie_1</th>\n      <th>closest_movie_2</th>\n      <th>closest_movie_3</th>\n      <th>closest_movie_4</th>\n      <th>closest_movie_5</th>\n    </tr>\n  </thead>\n  <tbody>\n    <tr>\n      <th>0</th>\n      <td>860</td>\n      <td>Bohemian Rhapsody (2018)</td>\n      <td>1234</td>\n      <td>610</td>\n      <td>667</td>\n      <td>1523</td>\n      <td>1621</td>\n    </tr>\n  </tbody>\n</table>\n</div>"
     },
     "metadata": {},
     "execution_count": 89
    }
   ],
   "source": [
    "movie = df[df['movie_title'] == 'Bohemian Rhapsody (2018)'].reset_index()\n",
    "movie"
   ]
  },
  {
   "cell_type": "code",
   "execution_count": 90,
   "metadata": {},
   "outputs": [
    {
     "output_type": "stream",
     "name": "stdout",
     "text": [
      "Bird Box (2018)\nVenom (2018)\nSuicide Squad (2016)\nMother! (2017)\nOnce Upon a Time ...in Hollywood (2019)\n"
     ]
    }
   ],
   "source": [
    "number_movies_returned  = 5\n",
    "for i in range(number_movies_returned):\n",
    "    column_name = 'closest_movie_{}'.format(i+1)\n",
    "    id = movie.loc[0,column_name]\n",
    "    movie_name = df.loc[id]['movie_title']\n",
    "    print(movie_name)"
   ]
  },
  {
   "cell_type": "code",
   "execution_count": 41,
   "metadata": {},
   "outputs": [],
   "source": [
    "def get_users(movie_index, user_by_movie_matrix):\n",
    "    column = user_by_movie_matrix[:,movie_index]\n",
    "    users = np.where(np.isnan(column) == False)[0] \n",
    "    return users\n",
    "\n",
    "def get_common_users(movie_index1, movie_index2, user_by_movie_matrix):\n",
    "    users1 = get_users(movie_index1, user_by_movie_matrix)\n",
    "    users2 = get_users(movie_index2, user_by_movie_matrix)\n",
    "    common_users = np.intersect1d(users1, users2, assume_unique=True)\n",
    "    return common_users\n",
    "\n",
    "def compute_score(movie_index1, movie_index2, user_by_movie_matrix):\n",
    "    common_users = get_common_users(movie_index1, movie_index2, user_by_movie_matrix)\n",
    "    movie1_ratings = np.array(user_by_movie_matrix[common_users, movie_index1])\n",
    "    movie2_ratings = np.array(user_by_movie_matrix[common_users, movie_index2])\n",
    "\n",
    "    distance = np.linalg.norm(movie1_ratings - movie2_ratings)\n",
    "\n",
    "    score = 0\n",
    "    if distance != 0:\n",
    "        score = 1 / distance\n",
    "\n",
    "    return score"
   ]
  },
  {
   "cell_type": "code",
   "execution_count": 42,
   "metadata": {},
   "outputs": [],
   "source": [
    "number_movies_returned  = 5\n",
    "def get_closest_movies(column):\n",
    "    negative_n = -1*number_movies_returned\n",
    "    closest_movies = np.argpartition(column, negative_n)[negative_n:]\n",
    "    \n",
    "    return closest_movies"
   ]
  },
  {
   "cell_type": "code",
   "execution_count": 43,
   "metadata": {},
   "outputs": [],
   "source": [
    "def get_closest_movies(number_movies, scores):\n",
    "    all_closest_movies = {}\n",
    "    for movie_index in range(scores.shape[0]):\n",
    "        closest_movies_scores = [0]\n",
    "        closest_movies_indexes = [movie_index]   \n",
    "        for temp_index in range(scores.shape[0]):\n",
    "            if temp_index > movie_index:\n",
    "                temp_score = scores[movie_index, temp_index] \n",
    "            else:\n",
    "                temp_score = scores[temp_index, movie_index]\n",
    "            min_score = closest_movies_scores[-1]\n",
    "            if temp_score > min_score:\n",
    "                closest_movies_scores.append(temp_score)\n",
    "                closest_movies_indexes.append(temp_index)\n",
    "                index_sorted = len(closest_movies_scores) - 2\n",
    "                next_score = closest_movies_scores[index_sorted]\n",
    "                next_index = closest_movies_indexes[index_sorted]\n",
    "                while (next_score < temp_score) and index_sorted >= 0 :\n",
    "                    closest_movies_scores[index_sorted+1] = next_score\n",
    "                    closest_movies_indexes[index_sorted+1] = next_index\n",
    "                    closest_movies_scores[index_sorted] = temp_score\n",
    "                    closest_movies_indexes[index_sorted] = temp_index\n",
    "                    index_sorted -= 1\n",
    "                if len(closest_movies_scores) > number_movies:\n",
    "                    closest_movies_scores = closest_movies_scores[0:number_movies-1]\n",
    "                    closest_movies_indexes = closest_movies_indexes[0:number_movies-1] \n",
    "        if closest_movies_indexes[-1] == movie_index:\n",
    "            if len(closest_movies_indexes) == 1:\n",
    "                closest_movies_scores = []\n",
    "                closest_movies_indexes = []\n",
    "            else:\n",
    "                closest_movies_scores = closest_movies_scores[0:-2]\n",
    "                closest_movies_indexes = closest_movies_indexes[0:-2]\n",
    "        all_closest_movies[movie_index] = closest_movies_indexes\n",
    "\n",
    "    return all_closest_movies"
   ]
  }
 ]
}