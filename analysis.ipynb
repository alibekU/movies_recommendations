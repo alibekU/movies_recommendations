{
 "metadata": {
  "language_info": {
   "codemirror_mode": {
    "name": "ipython",
    "version": 3
   },
   "file_extension": ".py",
   "mimetype": "text/x-python",
   "name": "python",
   "nbconvert_exporter": "python",
   "pygments_lexer": "ipython3",
   "version": "3.7.9-final"
  },
  "orig_nbformat": 2,
  "kernelspec": {
   "name": "python3",
   "display_name": "Python 3"
  }
 },
 "nbformat": 4,
 "nbformat_minor": 2,
 "cells": [
  {
   "cell_type": "code",
   "execution_count": 312,
   "metadata": {},
   "outputs": [],
   "source": [
    "import pandas as pd\n",
    "import numpy as np\n",
    "from sqlalchemy import create_engine\n",
    "from sklearn.metrics.pairwise import nan_euclidean_distances, cosine_similarity\n",
    "from scipy.spatial import distance"
   ]
  },
  {
   "cell_type": "code",
   "execution_count": 313,
   "metadata": {},
   "outputs": [
    {
     "output_type": "execute_result",
     "data": {
      "text/plain": [
       "   movie_id                                        movie_title  \\\n",
       "0         8      Edison Kinetoscopic Record of a Sneeze (1894)   \n",
       "1        10                La sortie des usines Lumière (1895)   \n",
       "2        12                      The Arrival of a Train (1896)   \n",
       "3        25  The Oxford and Cambridge University Boat Race ...   \n",
       "4        91                         Le manoir du diable (1896)   \n",
       "\n",
       "               genra  \n",
       "0  Documentary|Short  \n",
       "1  Documentary|Short  \n",
       "2  Documentary|Short  \n",
       "3                NaN  \n",
       "4       Short|Horror  "
      ],
      "text/html": "<div>\n<style scoped>\n    .dataframe tbody tr th:only-of-type {\n        vertical-align: middle;\n    }\n\n    .dataframe tbody tr th {\n        vertical-align: top;\n    }\n\n    .dataframe thead th {\n        text-align: right;\n    }\n</style>\n<table border=\"1\" class=\"dataframe\">\n  <thead>\n    <tr style=\"text-align: right;\">\n      <th></th>\n      <th>movie_id</th>\n      <th>movie_title</th>\n      <th>genra</th>\n    </tr>\n  </thead>\n  <tbody>\n    <tr>\n      <th>0</th>\n      <td>8</td>\n      <td>Edison Kinetoscopic Record of a Sneeze (1894)</td>\n      <td>Documentary|Short</td>\n    </tr>\n    <tr>\n      <th>1</th>\n      <td>10</td>\n      <td>La sortie des usines Lumière (1895)</td>\n      <td>Documentary|Short</td>\n    </tr>\n    <tr>\n      <th>2</th>\n      <td>12</td>\n      <td>The Arrival of a Train (1896)</td>\n      <td>Documentary|Short</td>\n    </tr>\n    <tr>\n      <th>3</th>\n      <td>25</td>\n      <td>The Oxford and Cambridge University Boat Race ...</td>\n      <td>NaN</td>\n    </tr>\n    <tr>\n      <th>4</th>\n      <td>91</td>\n      <td>Le manoir du diable (1896)</td>\n      <td>Short|Horror</td>\n    </tr>\n  </tbody>\n</table>\n</div>"
     },
     "metadata": {},
     "execution_count": 313
    }
   ],
   "source": [
    "movies = pd.read_csv('data/movies.dat', sep='::', names=['movie_id', 'movie_title', 'genra'], header=None )\n",
    "movies.head()"
   ]
  },
  {
   "cell_type": "code",
   "execution_count": 476,
   "metadata": {},
   "outputs": [
    {
     "output_type": "execute_result",
     "data": {
      "text/plain": [
       "           movie_title                  genra\n",
       "movie_id                                     \n",
       "6723592   Tenet (2020)  Action|Drama|Thriller"
      ],
      "text/html": "<div>\n<style scoped>\n    .dataframe tbody tr th:only-of-type {\n        vertical-align: middle;\n    }\n\n    .dataframe tbody tr th {\n        vertical-align: top;\n    }\n\n    .dataframe thead th {\n        text-align: right;\n    }\n</style>\n<table border=\"1\" class=\"dataframe\">\n  <thead>\n    <tr style=\"text-align: right;\">\n      <th></th>\n      <th>movie_title</th>\n      <th>genra</th>\n    </tr>\n    <tr>\n      <th>movie_id</th>\n      <th></th>\n      <th></th>\n    </tr>\n  </thead>\n  <tbody>\n    <tr>\n      <th>6723592</th>\n      <td>Tenet (2020)</td>\n      <td>Action|Drama|Thriller</td>\n    </tr>\n  </tbody>\n</table>\n</div>"
     },
     "metadata": {},
     "execution_count": 476
    }
   ],
   "source": [
    "movies[movies['movie_title']== 'Tenet (2020)']"
   ]
  },
  {
   "cell_type": "code",
   "execution_count": 477,
   "metadata": {},
   "outputs": [
    {
     "output_type": "execute_result",
     "data": {
      "text/plain": [
       "            movie_title                               genra\n",
       "movie_id                                                   \n",
       "1276104   Looper (2012)  Action|Crime|Drama|Sci-Fi|Thriller"
      ],
      "text/html": "<div>\n<style scoped>\n    .dataframe tbody tr th:only-of-type {\n        vertical-align: middle;\n    }\n\n    .dataframe tbody tr th {\n        vertical-align: top;\n    }\n\n    .dataframe thead th {\n        text-align: right;\n    }\n</style>\n<table border=\"1\" class=\"dataframe\">\n  <thead>\n    <tr style=\"text-align: right;\">\n      <th></th>\n      <th>movie_title</th>\n      <th>genra</th>\n    </tr>\n    <tr>\n      <th>movie_id</th>\n      <th></th>\n      <th></th>\n    </tr>\n  </thead>\n  <tbody>\n    <tr>\n      <th>1276104</th>\n      <td>Looper (2012)</td>\n      <td>Action|Crime|Drama|Sci-Fi|Thriller</td>\n    </tr>\n  </tbody>\n</table>\n</div>"
     },
     "metadata": {},
     "execution_count": 477
    }
   ],
   "source": [
    "movies[movies['movie_title']== 'Looper (2012)']"
   ]
  },
  {
   "cell_type": "code",
   "execution_count": 314,
   "metadata": {},
   "outputs": [
    {
     "output_type": "execute_result",
     "data": {
      "text/plain": [
       "36383"
      ]
     },
     "metadata": {},
     "execution_count": 314
    }
   ],
   "source": [
    "movies.shape[0]"
   ]
  },
  {
   "cell_type": "code",
   "execution_count": 315,
   "metadata": {},
   "outputs": [
    {
     "output_type": "execute_result",
     "data": {
      "text/plain": [
       "36151"
      ]
     },
     "metadata": {},
     "execution_count": 315
    }
   ],
   "source": [
    "movies = movies.dropna()\n",
    "movies.shape[0]"
   ]
  },
  {
   "cell_type": "code",
   "execution_count": 316,
   "metadata": {},
   "outputs": [
    {
     "output_type": "execute_result",
     "data": {
      "text/plain": [
       "2"
      ]
     },
     "metadata": {},
     "execution_count": 316
    }
   ],
   "source": [
    "movies.shape[0] - movies['movie_id'].unique().shape[0]"
   ]
  },
  {
   "cell_type": "code",
   "execution_count": 317,
   "metadata": {},
   "outputs": [
    {
     "output_type": "execute_result",
     "data": {
      "text/plain": [
       "movie_id\n",
       "1979376    2\n",
       "4160708    2\n",
       "dtype: int64"
      ]
     },
     "metadata": {},
     "execution_count": 317
    }
   ],
   "source": [
    "counts = movies.groupby(['movie_id'])[['movie_title']].size()\n",
    "counts[counts>1]"
   ]
  },
  {
   "cell_type": "code",
   "execution_count": 318,
   "metadata": {},
   "outputs": [
    {
     "output_type": "execute_result",
     "data": {
      "text/plain": [
       "      movie_id           movie_title                 genra\n",
       "8242    106519  Carlito's Way (1993)  Crime|Drama|Thriller"
      ],
      "text/html": "<div>\n<style scoped>\n    .dataframe tbody tr th:only-of-type {\n        vertical-align: middle;\n    }\n\n    .dataframe tbody tr th {\n        vertical-align: top;\n    }\n\n    .dataframe thead th {\n        text-align: right;\n    }\n</style>\n<table border=\"1\" class=\"dataframe\">\n  <thead>\n    <tr style=\"text-align: right;\">\n      <th></th>\n      <th>movie_id</th>\n      <th>movie_title</th>\n      <th>genra</th>\n    </tr>\n  </thead>\n  <tbody>\n    <tr>\n      <th>8242</th>\n      <td>106519</td>\n      <td>Carlito's Way (1993)</td>\n      <td>Crime|Drama|Thriller</td>\n    </tr>\n  </tbody>\n</table>\n</div>"
     },
     "metadata": {},
     "execution_count": 318
    }
   ],
   "source": [
    "movies[movies['movie_id'] == 106519]"
   ]
  },
  {
   "cell_type": "code",
   "execution_count": 319,
   "metadata": {},
   "outputs": [
    {
     "output_type": "execute_result",
     "data": {
      "text/plain": [
       "       movie_id         movie_title                                      genra\n",
       "21924   1979376  Toy Story 4 (2019)  Animation|Adventure|Comedy|Family|Fantasy\n",
       "21925   1979376  Toy Story 4 (2019)  Animation|Adventure|Comedy|Family|Fantasy"
      ],
      "text/html": "<div>\n<style scoped>\n    .dataframe tbody tr th:only-of-type {\n        vertical-align: middle;\n    }\n\n    .dataframe tbody tr th {\n        vertical-align: top;\n    }\n\n    .dataframe thead th {\n        text-align: right;\n    }\n</style>\n<table border=\"1\" class=\"dataframe\">\n  <thead>\n    <tr style=\"text-align: right;\">\n      <th></th>\n      <th>movie_id</th>\n      <th>movie_title</th>\n      <th>genra</th>\n    </tr>\n  </thead>\n  <tbody>\n    <tr>\n      <th>21924</th>\n      <td>1979376</td>\n      <td>Toy Story 4 (2019)</td>\n      <td>Animation|Adventure|Comedy|Family|Fantasy</td>\n    </tr>\n    <tr>\n      <th>21925</th>\n      <td>1979376</td>\n      <td>Toy Story 4 (2019)</td>\n      <td>Animation|Adventure|Comedy|Family|Fantasy</td>\n    </tr>\n  </tbody>\n</table>\n</div>"
     },
     "metadata": {},
     "execution_count": 319
    }
   ],
   "source": [
    "movies[movies['movie_id'] == 1979376]"
   ]
  },
  {
   "cell_type": "code",
   "execution_count": 320,
   "metadata": {},
   "outputs": [
    {
     "output_type": "execute_result",
     "data": {
      "text/plain": [
       "       movie_id           movie_title                  genra\n",
       "29305   4160708  Don't Breathe (2016)  Crime|Horror|Thriller\n",
       "29306   4160708  Don't Breathe (2016)  Crime|Horror|Thriller"
      ],
      "text/html": "<div>\n<style scoped>\n    .dataframe tbody tr th:only-of-type {\n        vertical-align: middle;\n    }\n\n    .dataframe tbody tr th {\n        vertical-align: top;\n    }\n\n    .dataframe thead th {\n        text-align: right;\n    }\n</style>\n<table border=\"1\" class=\"dataframe\">\n  <thead>\n    <tr style=\"text-align: right;\">\n      <th></th>\n      <th>movie_id</th>\n      <th>movie_title</th>\n      <th>genra</th>\n    </tr>\n  </thead>\n  <tbody>\n    <tr>\n      <th>29305</th>\n      <td>4160708</td>\n      <td>Don't Breathe (2016)</td>\n      <td>Crime|Horror|Thriller</td>\n    </tr>\n    <tr>\n      <th>29306</th>\n      <td>4160708</td>\n      <td>Don't Breathe (2016)</td>\n      <td>Crime|Horror|Thriller</td>\n    </tr>\n  </tbody>\n</table>\n</div>"
     },
     "metadata": {},
     "execution_count": 320
    }
   ],
   "source": [
    "movies[movies['movie_id'] == 4160708]"
   ]
  },
  {
   "cell_type": "code",
   "execution_count": 321,
   "metadata": {},
   "outputs": [],
   "source": [
    "movies.drop_duplicates(subset=['movie_id'], inplace=True)"
   ]
  },
  {
   "cell_type": "code",
   "execution_count": 322,
   "metadata": {},
   "outputs": [
    {
     "output_type": "execute_result",
     "data": {
      "text/plain": [
       "                                            movie_title                genra\n",
       "movie_id                                                                    \n",
       "8         Edison Kinetoscopic Record of a Sneeze (1894)    Documentary|Short\n",
       "10                  La sortie des usines Lumière (1895)    Documentary|Short\n",
       "12                        The Arrival of a Train (1896)    Documentary|Short\n",
       "91                           Le manoir du diable (1896)         Short|Horror\n",
       "131                            Une nuit terrible (1896)  Short|Comedy|Horror"
      ],
      "text/html": "<div>\n<style scoped>\n    .dataframe tbody tr th:only-of-type {\n        vertical-align: middle;\n    }\n\n    .dataframe tbody tr th {\n        vertical-align: top;\n    }\n\n    .dataframe thead th {\n        text-align: right;\n    }\n</style>\n<table border=\"1\" class=\"dataframe\">\n  <thead>\n    <tr style=\"text-align: right;\">\n      <th></th>\n      <th>movie_title</th>\n      <th>genra</th>\n    </tr>\n    <tr>\n      <th>movie_id</th>\n      <th></th>\n      <th></th>\n    </tr>\n  </thead>\n  <tbody>\n    <tr>\n      <th>8</th>\n      <td>Edison Kinetoscopic Record of a Sneeze (1894)</td>\n      <td>Documentary|Short</td>\n    </tr>\n    <tr>\n      <th>10</th>\n      <td>La sortie des usines Lumière (1895)</td>\n      <td>Documentary|Short</td>\n    </tr>\n    <tr>\n      <th>12</th>\n      <td>The Arrival of a Train (1896)</td>\n      <td>Documentary|Short</td>\n    </tr>\n    <tr>\n      <th>91</th>\n      <td>Le manoir du diable (1896)</td>\n      <td>Short|Horror</td>\n    </tr>\n    <tr>\n      <th>131</th>\n      <td>Une nuit terrible (1896)</td>\n      <td>Short|Comedy|Horror</td>\n    </tr>\n  </tbody>\n</table>\n</div>"
     },
     "metadata": {},
     "execution_count": 322
    }
   ],
   "source": [
    "movies.index = movies['movie_id']\n",
    "movies = movies.drop(columns=['movie_id'])\n",
    "movies.head()"
   ]
  },
  {
   "cell_type": "code",
   "execution_count": 323,
   "metadata": {},
   "outputs": [
    {
     "output_type": "execute_result",
     "data": {
      "text/plain": [
       "   user_id  movie_id  rating  rating_timestamp\n",
       "0        1    114508       8        1381006850\n",
       "1        2     75314       1        1595468524\n",
       "2        2    102926       9        1590148016\n",
       "3        2    114369      10        1597555347\n",
       "4        2    118715       8        1596006798"
      ],
      "text/html": "<div>\n<style scoped>\n    .dataframe tbody tr th:only-of-type {\n        vertical-align: middle;\n    }\n\n    .dataframe tbody tr th {\n        vertical-align: top;\n    }\n\n    .dataframe thead th {\n        text-align: right;\n    }\n</style>\n<table border=\"1\" class=\"dataframe\">\n  <thead>\n    <tr style=\"text-align: right;\">\n      <th></th>\n      <th>user_id</th>\n      <th>movie_id</th>\n      <th>rating</th>\n      <th>rating_timestamp</th>\n    </tr>\n  </thead>\n  <tbody>\n    <tr>\n      <th>0</th>\n      <td>1</td>\n      <td>114508</td>\n      <td>8</td>\n      <td>1381006850</td>\n    </tr>\n    <tr>\n      <th>1</th>\n      <td>2</td>\n      <td>75314</td>\n      <td>1</td>\n      <td>1595468524</td>\n    </tr>\n    <tr>\n      <th>2</th>\n      <td>2</td>\n      <td>102926</td>\n      <td>9</td>\n      <td>1590148016</td>\n    </tr>\n    <tr>\n      <th>3</th>\n      <td>2</td>\n      <td>114369</td>\n      <td>10</td>\n      <td>1597555347</td>\n    </tr>\n    <tr>\n      <th>4</th>\n      <td>2</td>\n      <td>118715</td>\n      <td>8</td>\n      <td>1596006798</td>\n    </tr>\n  </tbody>\n</table>\n</div>"
     },
     "metadata": {},
     "execution_count": 323
    }
   ],
   "source": [
    "ratings = pd.read_csv('data/ratings.dat', sep='::', names=['user_id', 'movie_id', 'rating', 'rating_timestamp'], header=None )\n",
    "ratings.head()"
   ]
  },
  {
   "cell_type": "code",
   "execution_count": 324,
   "metadata": {},
   "outputs": [
    {
     "output_type": "execute_result",
     "data": {
      "text/plain": [
       "(888452, 4)"
      ]
     },
     "metadata": {},
     "execution_count": 324
    }
   ],
   "source": [
    "ratings.shape"
   ]
  },
  {
   "cell_type": "code",
   "execution_count": 325,
   "metadata": {},
   "outputs": [
    {
     "output_type": "execute_result",
     "data": {
      "text/plain": [
       "             user_id      movie_id         rating  rating_timestamp\n",
       "count  888452.000000  8.884520e+05  888452.000000      8.884520e+05\n",
       "mean    34879.738435  2.187479e+06       7.316825      1.459300e+09\n",
       "std     20100.224164  2.025072e+06       1.853552      6.902560e+07\n",
       "min         1.000000  8.000000e+00       0.000000      1.362062e+09\n",
       "25%     17775.000000  7.654430e+05       6.000000      1.396187e+09\n",
       "50%     34764.500000  1.714206e+06       8.000000      1.450370e+09\n",
       "75%     51869.000000  2.883512e+06       9.000000      1.513955e+09\n",
       "max     69324.000000  1.292071e+07      10.000000      1.600911e+09"
      ],
      "text/html": "<div>\n<style scoped>\n    .dataframe tbody tr th:only-of-type {\n        vertical-align: middle;\n    }\n\n    .dataframe tbody tr th {\n        vertical-align: top;\n    }\n\n    .dataframe thead th {\n        text-align: right;\n    }\n</style>\n<table border=\"1\" class=\"dataframe\">\n  <thead>\n    <tr style=\"text-align: right;\">\n      <th></th>\n      <th>user_id</th>\n      <th>movie_id</th>\n      <th>rating</th>\n      <th>rating_timestamp</th>\n    </tr>\n  </thead>\n  <tbody>\n    <tr>\n      <th>count</th>\n      <td>888452.000000</td>\n      <td>8.884520e+05</td>\n      <td>888452.000000</td>\n      <td>8.884520e+05</td>\n    </tr>\n    <tr>\n      <th>mean</th>\n      <td>34879.738435</td>\n      <td>2.187479e+06</td>\n      <td>7.316825</td>\n      <td>1.459300e+09</td>\n    </tr>\n    <tr>\n      <th>std</th>\n      <td>20100.224164</td>\n      <td>2.025072e+06</td>\n      <td>1.853552</td>\n      <td>6.902560e+07</td>\n    </tr>\n    <tr>\n      <th>min</th>\n      <td>1.000000</td>\n      <td>8.000000e+00</td>\n      <td>0.000000</td>\n      <td>1.362062e+09</td>\n    </tr>\n    <tr>\n      <th>25%</th>\n      <td>17775.000000</td>\n      <td>7.654430e+05</td>\n      <td>6.000000</td>\n      <td>1.396187e+09</td>\n    </tr>\n    <tr>\n      <th>50%</th>\n      <td>34764.500000</td>\n      <td>1.714206e+06</td>\n      <td>8.000000</td>\n      <td>1.450370e+09</td>\n    </tr>\n    <tr>\n      <th>75%</th>\n      <td>51869.000000</td>\n      <td>2.883512e+06</td>\n      <td>9.000000</td>\n      <td>1.513955e+09</td>\n    </tr>\n    <tr>\n      <th>max</th>\n      <td>69324.000000</td>\n      <td>1.292071e+07</td>\n      <td>10.000000</td>\n      <td>1.600911e+09</td>\n    </tr>\n  </tbody>\n</table>\n</div>"
     },
     "metadata": {},
     "execution_count": 325
    }
   ],
   "source": [
    "ratings.describe()"
   ]
  },
  {
   "cell_type": "code",
   "execution_count": 484,
   "metadata": {},
   "outputs": [
    {
     "output_type": "execute_result",
     "data": {
      "text/plain": [
       "7.316825219595431"
      ]
     },
     "metadata": {},
     "execution_count": 484
    }
   ],
   "source": [
    "ratings['rating'].mean()"
   ]
  },
  {
   "cell_type": "code",
   "execution_count": 326,
   "metadata": {},
   "outputs": [],
   "source": [
    "ratings_new = ratings.drop(columns=['rating_timestamp'])"
   ]
  },
  {
   "cell_type": "code",
   "execution_count": 327,
   "metadata": {},
   "outputs": [],
   "source": [
    "ratings_new['count_user'] = ratings_new.groupby(['user_id'])['user_id'].transform('count')"
   ]
  },
  {
   "cell_type": "code",
   "execution_count": 328,
   "metadata": {},
   "outputs": [
    {
     "output_type": "execute_result",
     "data": {
      "text/plain": [
       "   user_id  movie_id  rating  count_user\n",
       "0        1    114508       8           1\n",
       "1        2     75314       1          21\n",
       "2        2    102926       9          21\n",
       "3        2    114369      10          21\n",
       "4        2    118715       8          21"
      ],
      "text/html": "<div>\n<style scoped>\n    .dataframe tbody tr th:only-of-type {\n        vertical-align: middle;\n    }\n\n    .dataframe tbody tr th {\n        vertical-align: top;\n    }\n\n    .dataframe thead th {\n        text-align: right;\n    }\n</style>\n<table border=\"1\" class=\"dataframe\">\n  <thead>\n    <tr style=\"text-align: right;\">\n      <th></th>\n      <th>user_id</th>\n      <th>movie_id</th>\n      <th>rating</th>\n      <th>count_user</th>\n    </tr>\n  </thead>\n  <tbody>\n    <tr>\n      <th>0</th>\n      <td>1</td>\n      <td>114508</td>\n      <td>8</td>\n      <td>1</td>\n    </tr>\n    <tr>\n      <th>1</th>\n      <td>2</td>\n      <td>75314</td>\n      <td>1</td>\n      <td>21</td>\n    </tr>\n    <tr>\n      <th>2</th>\n      <td>2</td>\n      <td>102926</td>\n      <td>9</td>\n      <td>21</td>\n    </tr>\n    <tr>\n      <th>3</th>\n      <td>2</td>\n      <td>114369</td>\n      <td>10</td>\n      <td>21</td>\n    </tr>\n    <tr>\n      <th>4</th>\n      <td>2</td>\n      <td>118715</td>\n      <td>8</td>\n      <td>21</td>\n    </tr>\n  </tbody>\n</table>\n</div>"
     },
     "metadata": {},
     "execution_count": 328
    }
   ],
   "source": [
    "ratings_new.head()"
   ]
  },
  {
   "cell_type": "code",
   "execution_count": 329,
   "metadata": {},
   "outputs": [
    {
     "output_type": "execute_result",
     "data": {
      "text/plain": [
       "             user_id      movie_id         rating     count_user\n",
       "count  888452.000000  8.884520e+05  888452.000000  888452.000000\n",
       "mean    34879.738435  2.187479e+06       7.316825     176.492132\n",
       "std     20100.224164  2.025072e+06       1.853552     304.982483\n",
       "min         1.000000  8.000000e+00       0.000000       1.000000\n",
       "25%     17775.000000  7.654430e+05       6.000000      22.000000\n",
       "50%     34764.500000  1.714206e+06       8.000000      73.000000\n",
       "75%     51869.000000  2.883512e+06       9.000000     201.000000\n",
       "max     69324.000000  1.292071e+07      10.000000    2875.000000"
      ],
      "text/html": "<div>\n<style scoped>\n    .dataframe tbody tr th:only-of-type {\n        vertical-align: middle;\n    }\n\n    .dataframe tbody tr th {\n        vertical-align: top;\n    }\n\n    .dataframe thead th {\n        text-align: right;\n    }\n</style>\n<table border=\"1\" class=\"dataframe\">\n  <thead>\n    <tr style=\"text-align: right;\">\n      <th></th>\n      <th>user_id</th>\n      <th>movie_id</th>\n      <th>rating</th>\n      <th>count_user</th>\n    </tr>\n  </thead>\n  <tbody>\n    <tr>\n      <th>count</th>\n      <td>888452.000000</td>\n      <td>8.884520e+05</td>\n      <td>888452.000000</td>\n      <td>888452.000000</td>\n    </tr>\n    <tr>\n      <th>mean</th>\n      <td>34879.738435</td>\n      <td>2.187479e+06</td>\n      <td>7.316825</td>\n      <td>176.492132</td>\n    </tr>\n    <tr>\n      <th>std</th>\n      <td>20100.224164</td>\n      <td>2.025072e+06</td>\n      <td>1.853552</td>\n      <td>304.982483</td>\n    </tr>\n    <tr>\n      <th>min</th>\n      <td>1.000000</td>\n      <td>8.000000e+00</td>\n      <td>0.000000</td>\n      <td>1.000000</td>\n    </tr>\n    <tr>\n      <th>25%</th>\n      <td>17775.000000</td>\n      <td>7.654430e+05</td>\n      <td>6.000000</td>\n      <td>22.000000</td>\n    </tr>\n    <tr>\n      <th>50%</th>\n      <td>34764.500000</td>\n      <td>1.714206e+06</td>\n      <td>8.000000</td>\n      <td>73.000000</td>\n    </tr>\n    <tr>\n      <th>75%</th>\n      <td>51869.000000</td>\n      <td>2.883512e+06</td>\n      <td>9.000000</td>\n      <td>201.000000</td>\n    </tr>\n    <tr>\n      <th>max</th>\n      <td>69324.000000</td>\n      <td>1.292071e+07</td>\n      <td>10.000000</td>\n      <td>2875.000000</td>\n    </tr>\n  </tbody>\n</table>\n</div>"
     },
     "metadata": {},
     "execution_count": 329
    }
   ],
   "source": [
    "ratings_new.describe()"
   ]
  },
  {
   "cell_type": "code",
   "execution_count": 330,
   "metadata": {},
   "outputs": [
    {
     "output_type": "execute_result",
     "data": {
      "text/plain": [
       "             user_id      movie_id         rating     count_user\n",
       "count  858457.000000  8.584570e+05  858457.000000  858457.000000\n",
       "mean    34891.289295  2.173989e+06       7.287440     182.623932\n",
       "std     20103.784633  2.012844e+06       1.835697     308.464928\n",
       "min         2.000000  8.000000e+00       0.000000       2.000000\n",
       "25%     17819.000000  4.974650e+05       6.000000      25.000000\n",
       "50%     34767.000000  1.707386e+06       7.000000      78.000000\n",
       "75%     51869.000000  2.872732e+06       9.000000     211.000000\n",
       "max     69323.000000  1.292071e+07      10.000000    2875.000000"
      ],
      "text/html": "<div>\n<style scoped>\n    .dataframe tbody tr th:only-of-type {\n        vertical-align: middle;\n    }\n\n    .dataframe tbody tr th {\n        vertical-align: top;\n    }\n\n    .dataframe thead th {\n        text-align: right;\n    }\n</style>\n<table border=\"1\" class=\"dataframe\">\n  <thead>\n    <tr style=\"text-align: right;\">\n      <th></th>\n      <th>user_id</th>\n      <th>movie_id</th>\n      <th>rating</th>\n      <th>count_user</th>\n    </tr>\n  </thead>\n  <tbody>\n    <tr>\n      <th>count</th>\n      <td>858457.000000</td>\n      <td>8.584570e+05</td>\n      <td>858457.000000</td>\n      <td>858457.000000</td>\n    </tr>\n    <tr>\n      <th>mean</th>\n      <td>34891.289295</td>\n      <td>2.173989e+06</td>\n      <td>7.287440</td>\n      <td>182.623932</td>\n    </tr>\n    <tr>\n      <th>std</th>\n      <td>20103.784633</td>\n      <td>2.012844e+06</td>\n      <td>1.835697</td>\n      <td>308.464928</td>\n    </tr>\n    <tr>\n      <th>min</th>\n      <td>2.000000</td>\n      <td>8.000000e+00</td>\n      <td>0.000000</td>\n      <td>2.000000</td>\n    </tr>\n    <tr>\n      <th>25%</th>\n      <td>17819.000000</td>\n      <td>4.974650e+05</td>\n      <td>6.000000</td>\n      <td>25.000000</td>\n    </tr>\n    <tr>\n      <th>50%</th>\n      <td>34767.000000</td>\n      <td>1.707386e+06</td>\n      <td>7.000000</td>\n      <td>78.000000</td>\n    </tr>\n    <tr>\n      <th>75%</th>\n      <td>51869.000000</td>\n      <td>2.872732e+06</td>\n      <td>9.000000</td>\n      <td>211.000000</td>\n    </tr>\n    <tr>\n      <th>max</th>\n      <td>69323.000000</td>\n      <td>1.292071e+07</td>\n      <td>10.000000</td>\n      <td>2875.000000</td>\n    </tr>\n  </tbody>\n</table>\n</div>"
     },
     "metadata": {},
     "execution_count": 330
    }
   ],
   "source": [
    "ratings_user = ratings_new.query('count_user >= 2')\n",
    "ratings_user.describe()"
   ]
  },
  {
   "cell_type": "code",
   "execution_count": 331,
   "metadata": {},
   "outputs": [
    {
     "output_type": "execute_result",
     "data": {
      "text/plain": [
       "(858457, 4)"
      ]
     },
     "metadata": {},
     "execution_count": 331
    }
   ],
   "source": [
    "ratings_user.shape"
   ]
  },
  {
   "cell_type": "code",
   "execution_count": 332,
   "metadata": {},
   "outputs": [],
   "source": [
    "ratings_user = ratings_user.drop(columns=['count_user'])"
   ]
  },
  {
   "cell_type": "code",
   "execution_count": null,
   "metadata": {},
   "outputs": [],
   "source": []
  },
  {
   "cell_type": "code",
   "execution_count": 333,
   "metadata": {},
   "outputs": [
    {
     "output_type": "execute_result",
     "data": {
      "text/plain": [
       "             user_id      movie_id         rating    count_movie\n",
       "count  858457.000000  8.584570e+05  858457.000000  858457.000000\n",
       "mean    34891.289295  2.173989e+06       7.287440     527.442254\n",
       "std     20103.784633  2.012844e+06       1.835697     600.505193\n",
       "min         2.000000  8.000000e+00       0.000000       1.000000\n",
       "25%     17819.000000  4.974650e+05       6.000000      73.000000\n",
       "50%     34767.000000  1.707386e+06       7.000000     301.000000\n",
       "75%     51869.000000  2.872732e+06       9.000000     795.000000\n",
       "max     69323.000000  1.292071e+07      10.000000    2904.000000"
      ],
      "text/html": "<div>\n<style scoped>\n    .dataframe tbody tr th:only-of-type {\n        vertical-align: middle;\n    }\n\n    .dataframe tbody tr th {\n        vertical-align: top;\n    }\n\n    .dataframe thead th {\n        text-align: right;\n    }\n</style>\n<table border=\"1\" class=\"dataframe\">\n  <thead>\n    <tr style=\"text-align: right;\">\n      <th></th>\n      <th>user_id</th>\n      <th>movie_id</th>\n      <th>rating</th>\n      <th>count_movie</th>\n    </tr>\n  </thead>\n  <tbody>\n    <tr>\n      <th>count</th>\n      <td>858457.000000</td>\n      <td>8.584570e+05</td>\n      <td>858457.000000</td>\n      <td>858457.000000</td>\n    </tr>\n    <tr>\n      <th>mean</th>\n      <td>34891.289295</td>\n      <td>2.173989e+06</td>\n      <td>7.287440</td>\n      <td>527.442254</td>\n    </tr>\n    <tr>\n      <th>std</th>\n      <td>20103.784633</td>\n      <td>2.012844e+06</td>\n      <td>1.835697</td>\n      <td>600.505193</td>\n    </tr>\n    <tr>\n      <th>min</th>\n      <td>2.000000</td>\n      <td>8.000000e+00</td>\n      <td>0.000000</td>\n      <td>1.000000</td>\n    </tr>\n    <tr>\n      <th>25%</th>\n      <td>17819.000000</td>\n      <td>4.974650e+05</td>\n      <td>6.000000</td>\n      <td>73.000000</td>\n    </tr>\n    <tr>\n      <th>50%</th>\n      <td>34767.000000</td>\n      <td>1.707386e+06</td>\n      <td>7.000000</td>\n      <td>301.000000</td>\n    </tr>\n    <tr>\n      <th>75%</th>\n      <td>51869.000000</td>\n      <td>2.872732e+06</td>\n      <td>9.000000</td>\n      <td>795.000000</td>\n    </tr>\n    <tr>\n      <th>max</th>\n      <td>69323.000000</td>\n      <td>1.292071e+07</td>\n      <td>10.000000</td>\n      <td>2904.000000</td>\n    </tr>\n  </tbody>\n</table>\n</div>"
     },
     "metadata": {},
     "execution_count": 333
    }
   ],
   "source": [
    "ratings_user['count_movie'] = ratings_user.groupby(['movie_id'])['movie_id'].transform('count')\n",
    "ratings_user.describe()"
   ]
  },
  {
   "cell_type": "code",
   "execution_count": 334,
   "metadata": {},
   "outputs": [
    {
     "output_type": "execute_result",
     "data": {
      "text/plain": [
       "(774628, 4)"
      ]
     },
     "metadata": {},
     "execution_count": 334
    }
   ],
   "source": [
    "ratings_movie = ratings_user.query('count_movie >= 15')\n",
    "ratings_movie.shape"
   ]
  },
  {
   "cell_type": "code",
   "execution_count": 335,
   "metadata": {},
   "outputs": [
    {
     "output_type": "execute_result",
     "data": {
      "text/plain": [
       "             user_id      movie_id         rating    count_movie\n",
       "count  774628.000000  7.746280e+05  774628.000000  774628.000000\n",
       "mean    34850.393443  2.170880e+06       7.356214     583.892687\n",
       "std     20055.977964  1.938695e+06       1.796465     605.801772\n",
       "min         2.000000  4.170000e+02       0.000000      15.000000\n",
       "25%     17866.000000  8.166920e+05       6.000000     119.000000\n",
       "50%     34658.000000  1.727824e+06       8.000000     359.000000\n",
       "75%     51842.000000  2.854926e+06       9.000000     857.000000\n",
       "max     69323.000000  1.211785e+07      10.000000    2904.000000"
      ],
      "text/html": "<div>\n<style scoped>\n    .dataframe tbody tr th:only-of-type {\n        vertical-align: middle;\n    }\n\n    .dataframe tbody tr th {\n        vertical-align: top;\n    }\n\n    .dataframe thead th {\n        text-align: right;\n    }\n</style>\n<table border=\"1\" class=\"dataframe\">\n  <thead>\n    <tr style=\"text-align: right;\">\n      <th></th>\n      <th>user_id</th>\n      <th>movie_id</th>\n      <th>rating</th>\n      <th>count_movie</th>\n    </tr>\n  </thead>\n  <tbody>\n    <tr>\n      <th>count</th>\n      <td>774628.000000</td>\n      <td>7.746280e+05</td>\n      <td>774628.000000</td>\n      <td>774628.000000</td>\n    </tr>\n    <tr>\n      <th>mean</th>\n      <td>34850.393443</td>\n      <td>2.170880e+06</td>\n      <td>7.356214</td>\n      <td>583.892687</td>\n    </tr>\n    <tr>\n      <th>std</th>\n      <td>20055.977964</td>\n      <td>1.938695e+06</td>\n      <td>1.796465</td>\n      <td>605.801772</td>\n    </tr>\n    <tr>\n      <th>min</th>\n      <td>2.000000</td>\n      <td>4.170000e+02</td>\n      <td>0.000000</td>\n      <td>15.000000</td>\n    </tr>\n    <tr>\n      <th>25%</th>\n      <td>17866.000000</td>\n      <td>8.166920e+05</td>\n      <td>6.000000</td>\n      <td>119.000000</td>\n    </tr>\n    <tr>\n      <th>50%</th>\n      <td>34658.000000</td>\n      <td>1.727824e+06</td>\n      <td>8.000000</td>\n      <td>359.000000</td>\n    </tr>\n    <tr>\n      <th>75%</th>\n      <td>51842.000000</td>\n      <td>2.854926e+06</td>\n      <td>9.000000</td>\n      <td>857.000000</td>\n    </tr>\n    <tr>\n      <th>max</th>\n      <td>69323.000000</td>\n      <td>1.211785e+07</td>\n      <td>10.000000</td>\n      <td>2904.000000</td>\n    </tr>\n  </tbody>\n</table>\n</div>"
     },
     "metadata": {},
     "execution_count": 335
    }
   ],
   "source": [
    "ratings_movie.describe()"
   ]
  },
  {
   "cell_type": "code",
   "execution_count": 485,
   "metadata": {},
   "outputs": [
    {
     "output_type": "execute_result",
     "data": {
      "text/plain": [
       "7.3562135631554755"
      ]
     },
     "metadata": {},
     "execution_count": 485
    }
   ],
   "source": [
    "ratings_movie['rating'].mean()"
   ]
  },
  {
   "cell_type": "code",
   "execution_count": 336,
   "metadata": {},
   "outputs": [],
   "source": [
    "user_by_movie = ratings_movie.groupby(['user_id', 'movie_id'])['rating'].max().unstack()"
   ]
  },
  {
   "cell_type": "code",
   "execution_count": 337,
   "metadata": {},
   "outputs": [
    {
     "output_type": "execute_result",
     "data": {
      "text/plain": [
       "(39076, 6178)"
      ]
     },
     "metadata": {},
     "execution_count": 337
    }
   ],
   "source": [
    "user_by_movie.shape"
   ]
  },
  {
   "cell_type": "code",
   "execution_count": 338,
   "metadata": {},
   "outputs": [
    {
     "output_type": "execute_result",
     "data": {
      "text/plain": [
       "movie_id\n",
       "417                        A Trip to the Moon (1902)\n",
       "10323            Das Cabinet des Dr. Caligari (1920)\n",
       "12349                                 The Kid (1921)\n",
       "13442                               Nosferatu (1922)\n",
       "15324                            Sherlock Jr. (1924)\n",
       "                              ...                   \n",
       "11561866                   Masameer the Movie (2020)\n",
       "11615290                   Beastie Boys Story (2020)\n",
       "11833648                      Shams al-Maaref (2020)\n",
       "11958344    Nakitai watashi wa neko wo kaburu (2020)\n",
       "12117854     Jerry Seinfeld: 23 Hours to Kill (2020)\n",
       "Name: movie_title, Length: 6178, dtype: object"
      ]
     },
     "metadata": {},
     "execution_count": 338
    }
   ],
   "source": [
    "movies_used = movies.loc[user_by_movie.columns, 'movie_title']\n",
    "movies_used"
   ]
  },
  {
   "cell_type": "code",
   "execution_count": 339,
   "metadata": {},
   "outputs": [
    {
     "output_type": "execute_result",
     "data": {
      "text/plain": [
       "(6178,)"
      ]
     },
     "metadata": {},
     "execution_count": 339
    }
   ],
   "source": [
    "movies_used.shape"
   ]
  },
  {
   "cell_type": "code",
   "execution_count": 340,
   "metadata": {},
   "outputs": [],
   "source": [
    "user_by_movie_matrix = user_by_movie.to_numpy()"
   ]
  },
  {
   "cell_type": "code",
   "execution_count": 490,
   "metadata": {},
   "outputs": [
    {
     "output_type": "execute_result",
     "data": {
      "text/plain": [
       "7.3562135631554755"
      ]
     },
     "metadata": {},
     "execution_count": 490
    }
   ],
   "source": [
    "np.nanmean(user_by_movie_matrix)"
   ]
  },
  {
   "cell_type": "code",
   "execution_count": 341,
   "metadata": {},
   "outputs": [
    {
     "output_type": "execute_result",
     "data": {
      "text/plain": [
       "movie_id\n",
       "417         Short|Action|Adventure|Comedy|Fantasy|Sci-Fi\n",
       "10323                    Fantasy|Horror|Mystery|Thriller\n",
       "12349                                Comedy|Drama|Family\n",
       "13442                                     Fantasy|Horror\n",
       "15324                              Action|Comedy|Romance\n",
       "                                ...                     \n",
       "11561866                                       Animation\n",
       "11615290                                     Documentary\n",
       "11833648                                          Comedy\n",
       "11958344                                       Animation\n",
       "12117854                                          Comedy\n",
       "Name: genra, Length: 6178, dtype: object"
      ]
     },
     "metadata": {},
     "execution_count": 341
    }
   ],
   "source": [
    "movie_genres_df = movies.loc[user_by_movie.columns, 'genra']\n",
    "movie_genres_df"
   ]
  },
  {
   "cell_type": "code",
   "execution_count": 342,
   "metadata": {},
   "outputs": [
    {
     "output_type": "execute_result",
     "data": {
      "text/plain": [
       "False"
      ]
     },
     "metadata": {},
     "execution_count": 342
    }
   ],
   "source": [
    "movie_genres_df.isna().any()"
   ]
  },
  {
   "cell_type": "code",
   "execution_count": 343,
   "metadata": {},
   "outputs": [],
   "source": [
    "movie_genres_df = movie_genres_df.fillna('')"
   ]
  },
  {
   "cell_type": "code",
   "execution_count": 344,
   "metadata": {},
   "outputs": [],
   "source": [
    "def create_genra_list(movie_genres_df):\n",
    "    genres_set = set()\n",
    "    for i in range(movie_genres_df.shape[0]):\n",
    "        genres_list = movie_genres_df.iloc[i].split('|')\n",
    "        genres_set.update(genres_list)\n",
    "    return list(genres_set)"
   ]
  },
  {
   "cell_type": "code",
   "execution_count": 345,
   "metadata": {},
   "outputs": [
    {
     "output_type": "execute_result",
     "data": {
      "text/plain": [
       "['Sci-Fi',\n",
       " 'Crime',\n",
       " 'Sport',\n",
       " 'Horror',\n",
       " 'Action',\n",
       " 'Short',\n",
       " 'Biography',\n",
       " 'War',\n",
       " 'Documentary',\n",
       " 'News',\n",
       " 'Romance',\n",
       " 'History',\n",
       " 'Musical',\n",
       " 'Western',\n",
       " 'Mystery',\n",
       " 'Family',\n",
       " 'Film-Noir',\n",
       " 'Adventure',\n",
       " 'Animation',\n",
       " 'Comedy',\n",
       " 'Drama',\n",
       " 'Thriller',\n",
       " 'Music',\n",
       " 'Fantasy']"
      ]
     },
     "metadata": {},
     "execution_count": 345
    }
   ],
   "source": [
    "genres = create_genra_list(movie_genres_df)\n",
    "genres"
   ]
  },
  {
   "cell_type": "code",
   "execution_count": 346,
   "metadata": {},
   "outputs": [],
   "source": [
    "def create_genres_matrix(movie_genres_df, genres):\n",
    "    numb_movies = movie_genres_df.shape[0]\n",
    "    numb_genres = len(genres)\n",
    "    genres_matrix = np.zeros(shape=(numb_movies, numb_genres))\n",
    "    for i in range(numb_movies):\n",
    "        genres_row = set(movie_genres_df.iloc[i].split('|'))\n",
    "        for j,genre in enumerate(genres):\n",
    "            if genre in genres_row:\n",
    "                genres_matrix[i,j] = 1\n",
    "    return genres_matrix"
   ]
  },
  {
   "cell_type": "code",
   "execution_count": 347,
   "metadata": {},
   "outputs": [
    {
     "output_type": "execute_result",
     "data": {
      "text/plain": [
       "array([[1., 0., 0., ..., 0., 0., 1.],\n",
       "       [0., 0., 0., ..., 1., 0., 1.],\n",
       "       [0., 0., 0., ..., 0., 0., 0.],\n",
       "       ...,\n",
       "       [0., 0., 0., ..., 0., 0., 0.],\n",
       "       [0., 0., 0., ..., 0., 0., 0.],\n",
       "       [0., 0., 0., ..., 0., 0., 0.]])"
      ]
     },
     "metadata": {},
     "execution_count": 347
    }
   ],
   "source": [
    "genres_matrix = create_genres_matrix(movie_genres_df, genres)\n",
    "genres_matrix"
   ]
  },
  {
   "cell_type": "code",
   "execution_count": 348,
   "metadata": {},
   "outputs": [
    {
     "output_type": "stream",
     "name": "stdout",
     "text": [
      "[[1.         0.20412415 0.23570226 ... 0.40824829 0.         0.40824829]\n [0.20412415 1.         0.         ... 0.         0.         0.        ]\n [0.23570226 0.         1.         ... 0.57735027 0.         0.57735027]\n ...\n [0.40824829 0.         0.57735027 ... 1.         0.         1.        ]\n [0.         0.         0.         ... 0.         1.         0.        ]\n [0.40824829 0.         0.57735027 ... 1.         0.         1.        ]]\n"
     ]
    }
   ],
   "source": [
    "genre_similarities = cosine_similarity(genres_matrix)\n",
    "print(genre_similarities)"
   ]
  },
  {
   "cell_type": "code",
   "execution_count": 349,
   "metadata": {},
   "outputs": [],
   "source": [
    "def get_common_raters(user_by_movie_matrix):\n",
    "    '''\n",
    "        get_common_raters - function to calculate number of common raters (users who rated both movies) between each pair of movies based on user ratings \n",
    "        using linear kernel to speed up the process (like cosine similarity but without norming - sum of multilications of corresponding coordinates).\n",
    "\n",
    "        Input:\n",
    "        - user_by_movie_matrix - numpy matrix with movie ratings where each row represents a user and each column a movie\n",
    "        Output:\n",
    "        - common_raters - numpy matrix of raters where each row and column represent a movie, so score[i,j] stores number of users who scored both movies number i and number j.\n",
    "    '''\n",
    "    # create a copy of matrix since we will be modifying it\n",
    "    temp_matrix = user_by_movie_matrix.copy()\n",
    "    # fill all non nans with ones to compute number of common elements when multiplying vectors\n",
    "    temp_matrix[~np.isnan(temp_matrix)] = 1\n",
    "    # fill nans with zeroes to have correct matrix multiplication\n",
    "    temp_matrix[np.isnan(temp_matrix)] = 0\n",
    "    # compute linear kernel (like cosine similarity but without norming) - measure of similarity between movies\n",
    "    # the first term is transposed as user_by_movie_matrix has movies as columns, but we need first term to row-oriented\n",
    "    common_raters = np.dot(temp_matrix.T, temp_matrix)\n",
    "    # minimum number of common reviewers between two movies to be considered as similar\n",
    "    min_common_raters = 5\n",
    "    # replace zeroes and movies that have too few common reviewers with -1 to avoid dividing by zero and give the movies with few common raters a low score\n",
    "    common_raters[common_raters<min_common_raters] = -1\n",
    "    # replace other large enough amounts of common raters with 1, so that dividing similarity scores by it has no effect\n",
    "    # common_raters[common_raters>=min_common_raters] = 1\n",
    "    return common_raters\n",
    "\n",
    "def get_all_scores(user_by_movie_matrix):\n",
    "    '''\n",
    "        get_all_scores - function to calculate similarity score between each pair of movies based on user ratings \n",
    "        using linear kernel (like cosine similarity but without norming - sum of multilications of corresponding coordinates).\n",
    "        This works well for several reasons:\n",
    "        1. The higher the both scores by a user to a 2 different movies, the more the user liked both movies, and the higher will be the score. \n",
    "        2. The more times similar users watched some 2 movies, the higher will be the score, and so the more likely it is that\n",
    "         movies are similar (think about Harry Potter or say scary movie fans).\n",
    "\n",
    "        Input:\n",
    "        - user_by_movie_matrix - numpy matrix with movie ratings where each row represents a user and each column a movie\n",
    "        Output:\n",
    "        - scores - numpy matrix of scores where each row and column represent a movie, so score[i,j] stores similarity score based on ratings\n",
    "        between movies number i and number j.\n",
    "    '''\n",
    "    # create a copy of matrix since we will be modifying it\n",
    "    temp_matrix = user_by_movie_matrix.copy()\n",
    "    # fill nans with zeroes to have correct matrix multiplication\n",
    "    temp_matrix[np.isnan(temp_matrix)] = 0.0\n",
    "    # compute linear kernel (like cosine similarity but without norming) - measure of similarity between movies\n",
    "    scores = np.dot(temp_matrix.T, temp_matrix)\n",
    "    #scores = cosine_similarity(temp_matrix.T)\n",
    "    #scores = np.multiply(scores, scores_cosine)\n",
    "    # set diagonals with 0 so that movies is not declared to be most similar to itself in the web app\n",
    "    np.fill_diagonal(scores, 0)\n",
    "    return scores"
   ]
  },
  {
   "cell_type": "code",
   "execution_count": 40,
   "metadata": {},
   "outputs": [],
   "source": []
  },
  {
   "cell_type": "code",
   "execution_count": null,
   "metadata": {},
   "outputs": [],
   "source": []
  },
  {
   "cell_type": "code",
   "execution_count": null,
   "metadata": {},
   "outputs": [],
   "source": []
  },
  {
   "cell_type": "code",
   "execution_count": null,
   "metadata": {},
   "outputs": [],
   "source": []
  },
  {
   "cell_type": "code",
   "execution_count": 350,
   "metadata": {},
   "outputs": [
    {
     "output_type": "stream",
     "name": "stdout",
     "text": [
      "Current Time = 23:22:02\n"
     ]
    }
   ],
   "source": [
    "from datetime import datetime\n",
    "\n",
    "now = datetime.now()\n",
    "\n",
    "current_time = now.strftime(\"%H:%M:%S\")\n",
    "print(\"Current Time =\", current_time)"
   ]
  },
  {
   "cell_type": "code",
   "execution_count": 399,
   "metadata": {},
   "outputs": [],
   "source": [
    "scores = get_all_scores(user_by_movie_matrix)\n",
    "# get number of common raters\n",
    "common_raters = get_common_raters(user_by_movie_matrix)\n",
    "# divide score by the number of common raters to get a more fair score\n",
    "scores = np.multiply(scores, (1/common_raters))"
   ]
  },
  {
   "cell_type": "code",
   "execution_count": 400,
   "metadata": {},
   "outputs": [
    {
     "output_type": "execute_result",
     "data": {
      "text/plain": [
       "(6178, 6178)"
      ]
     },
     "metadata": {},
     "execution_count": 400
    }
   ],
   "source": [
    "scores.shape"
   ]
  },
  {
   "cell_type": "code",
   "execution_count": 401,
   "metadata": {},
   "outputs": [],
   "source": [
    "number_movies_returned  = 15\n",
    "negative_n = -1*number_movies_returned\n",
    "closest_movies = np.argpartition(scores, negative_n, axis=1)[:, negative_n:]"
   ]
  },
  {
   "cell_type": "code",
   "execution_count": 402,
   "metadata": {},
   "outputs": [
    {
     "output_type": "execute_result",
     "data": {
      "text/plain": [
       "(6178, 15)"
      ]
     },
     "metadata": {},
     "execution_count": 402
    }
   ],
   "source": [
    "closest_movies.shape"
   ]
  },
  {
   "cell_type": "code",
   "execution_count": 355,
   "metadata": {},
   "outputs": [
    {
     "output_type": "stream",
     "name": "stdout",
     "text": [
      "Current Time = 23:25:12\n"
     ]
    }
   ],
   "source": [
    "from datetime import datetime\n",
    "\n",
    "now = datetime.now()\n",
    "\n",
    "current_time = now.strftime(\"%H:%M:%S\")\n",
    "print(\"Current Time =\", current_time)"
   ]
  },
  {
   "cell_type": "code",
   "execution_count": 403,
   "metadata": {},
   "outputs": [],
   "source": [
    "all_closest_movies_df = pd.DataFrame()\n",
    "all_closest_movies_df['movie_title'] = movies_used.values\n",
    "for i in range(number_movies_returned):\n",
    "    all_closest_movies_df['closest_movie_{}'.format(i+1)] = closest_movies[:,i]"
   ]
  },
  {
   "cell_type": "code",
   "execution_count": 357,
   "metadata": {},
   "outputs": [
    {
     "output_type": "execute_result",
     "data": {
      "text/plain": [
       "                           movie_title  closest_movie_1  closest_movie_2  \\\n",
       "0            A Trip to the Moon (1902)              246             4579   \n",
       "1  Das Cabinet des Dr. Caligari (1920)             2534             4597   \n",
       "2                       The Kid (1921)              241             1012   \n",
       "3                     Nosferatu (1922)              374              132   \n",
       "4                  Sherlock Jr. (1924)               94             3809   \n",
       "\n",
       "   closest_movie_3  closest_movie_4  closest_movie_5  closest_movie_6  \\\n",
       "0             4789             4298             4529               19   \n",
       "1             4039             2778              416             1761   \n",
       "2             2273             1176              376             2922   \n",
       "3              508             1761              139             1428   \n",
       "4              107             3868               91              190   \n",
       "\n",
       "   closest_movie_7  closest_movie_8  closest_movie_9  closest_movie_10  \\\n",
       "0              209             6078             3839              4597   \n",
       "1                3             3203             4529               530   \n",
       "2             3169             1989             1178              1245   \n",
       "3              458             4872              466               339   \n",
       "4              953             4137             5521               143   \n",
       "\n",
       "   closest_movie_11  closest_movie_12  closest_movie_13  closest_movie_14  \\\n",
       "0              3288               111               405              2534   \n",
       "1              4874               458               174               325   \n",
       "2               504               190              1984              2986   \n",
       "3              1429              3569               530               424   \n",
       "4                83               246              1864                84   \n",
       "\n",
       "   closest_movie_15  \n",
       "0                64  \n",
       "1               209  \n",
       "2              1626  \n",
       "3               544  \n",
       "4              3881  "
      ],
      "text/html": "<div>\n<style scoped>\n    .dataframe tbody tr th:only-of-type {\n        vertical-align: middle;\n    }\n\n    .dataframe tbody tr th {\n        vertical-align: top;\n    }\n\n    .dataframe thead th {\n        text-align: right;\n    }\n</style>\n<table border=\"1\" class=\"dataframe\">\n  <thead>\n    <tr style=\"text-align: right;\">\n      <th></th>\n      <th>movie_title</th>\n      <th>closest_movie_1</th>\n      <th>closest_movie_2</th>\n      <th>closest_movie_3</th>\n      <th>closest_movie_4</th>\n      <th>closest_movie_5</th>\n      <th>closest_movie_6</th>\n      <th>closest_movie_7</th>\n      <th>closest_movie_8</th>\n      <th>closest_movie_9</th>\n      <th>closest_movie_10</th>\n      <th>closest_movie_11</th>\n      <th>closest_movie_12</th>\n      <th>closest_movie_13</th>\n      <th>closest_movie_14</th>\n      <th>closest_movie_15</th>\n    </tr>\n  </thead>\n  <tbody>\n    <tr>\n      <th>0</th>\n      <td>A Trip to the Moon (1902)</td>\n      <td>246</td>\n      <td>4579</td>\n      <td>4789</td>\n      <td>4298</td>\n      <td>4529</td>\n      <td>19</td>\n      <td>209</td>\n      <td>6078</td>\n      <td>3839</td>\n      <td>4597</td>\n      <td>3288</td>\n      <td>111</td>\n      <td>405</td>\n      <td>2534</td>\n      <td>64</td>\n    </tr>\n    <tr>\n      <th>1</th>\n      <td>Das Cabinet des Dr. Caligari (1920)</td>\n      <td>2534</td>\n      <td>4597</td>\n      <td>4039</td>\n      <td>2778</td>\n      <td>416</td>\n      <td>1761</td>\n      <td>3</td>\n      <td>3203</td>\n      <td>4529</td>\n      <td>530</td>\n      <td>4874</td>\n      <td>458</td>\n      <td>174</td>\n      <td>325</td>\n      <td>209</td>\n    </tr>\n    <tr>\n      <th>2</th>\n      <td>The Kid (1921)</td>\n      <td>241</td>\n      <td>1012</td>\n      <td>2273</td>\n      <td>1176</td>\n      <td>376</td>\n      <td>2922</td>\n      <td>3169</td>\n      <td>1989</td>\n      <td>1178</td>\n      <td>1245</td>\n      <td>504</td>\n      <td>190</td>\n      <td>1984</td>\n      <td>2986</td>\n      <td>1626</td>\n    </tr>\n    <tr>\n      <th>3</th>\n      <td>Nosferatu (1922)</td>\n      <td>374</td>\n      <td>132</td>\n      <td>508</td>\n      <td>1761</td>\n      <td>139</td>\n      <td>1428</td>\n      <td>458</td>\n      <td>4872</td>\n      <td>466</td>\n      <td>339</td>\n      <td>1429</td>\n      <td>3569</td>\n      <td>530</td>\n      <td>424</td>\n      <td>544</td>\n    </tr>\n    <tr>\n      <th>4</th>\n      <td>Sherlock Jr. (1924)</td>\n      <td>94</td>\n      <td>3809</td>\n      <td>107</td>\n      <td>3868</td>\n      <td>91</td>\n      <td>190</td>\n      <td>953</td>\n      <td>4137</td>\n      <td>5521</td>\n      <td>143</td>\n      <td>83</td>\n      <td>246</td>\n      <td>1864</td>\n      <td>84</td>\n      <td>3881</td>\n    </tr>\n  </tbody>\n</table>\n</div>"
     },
     "metadata": {},
     "execution_count": 357
    }
   ],
   "source": [
    "all_closest_movies_df.head()"
   ]
  },
  {
   "cell_type": "code",
   "execution_count": 358,
   "metadata": {},
   "outputs": [
    {
     "output_type": "execute_result",
     "data": {
      "text/plain": [
       "(6178, 16)"
      ]
     },
     "metadata": {},
     "execution_count": 358
    }
   ],
   "source": [
    "all_closest_movies_df.shape"
   ]
  },
  {
   "cell_type": "code",
   "execution_count": 359,
   "metadata": {},
   "outputs": [],
   "source": [
    "database_filename = 'movie_recommendations.db'\n",
    "table_name = 'Closest_movies'\n",
    "engine = create_engine('sqlite:///' + database_filename)\n",
    "all_closest_movies_df.to_sql(table_name, engine, index=False, if_exists='replace')\n",
    "engine.dispose()"
   ]
  },
  {
   "cell_type": "code",
   "execution_count": null,
   "metadata": {},
   "outputs": [],
   "source": []
  },
  {
   "cell_type": "code",
   "execution_count": null,
   "metadata": {},
   "outputs": [],
   "source": []
  },
  {
   "cell_type": "code",
   "execution_count": 360,
   "metadata": {},
   "outputs": [],
   "source": [
    "# See the vectors"
   ]
  },
  {
   "cell_type": "code",
   "execution_count": 361,
   "metadata": {},
   "outputs": [],
   "source": [
    "movies_used_new = movies_used.reset_index(drop=True)"
   ]
  },
  {
   "cell_type": "code",
   "execution_count": 528,
   "metadata": {},
   "outputs": [
    {
     "output_type": "stream",
     "name": "stdout",
     "text": [
      "5845 5886\n"
     ]
    }
   ],
   "source": [
    "movie_1 = \"7500 (2019)\"\n",
    "movie_2 = \"Tenet (2020)\"\n",
    "movie_id_1 = movies_used_new.loc[movies_used_new == movie_1].index.values[0]\n",
    "movie_id_2 = movies_used_new.loc[movies_used_new == movie_2].index.values[0]\n",
    "print(movie_id_1, movie_id_2)"
   ]
  },
  {
   "cell_type": "code",
   "execution_count": 529,
   "metadata": {},
   "outputs": [
    {
     "output_type": "stream",
     "name": "stdout",
     "text": [
      "49.285714285714285\n"
     ]
    }
   ],
   "source": [
    "print(scores[movie_id_1, movie_id_2])"
   ]
  },
  {
   "cell_type": "code",
   "execution_count": 530,
   "metadata": {},
   "outputs": [
    {
     "output_type": "execute_result",
     "data": {
      "text/plain": [
       "movie_title         Tenet (2020)\n",
       "closest_movie_1             1206\n",
       "closest_movie_2             1943\n",
       "closest_movie_3             1219\n",
       "closest_movie_4             2534\n",
       "closest_movie_5             2571\n",
       "closest_movie_6             5610\n",
       "closest_movie_7             3982\n",
       "closest_movie_8             1862\n",
       "closest_movie_9             1562\n",
       "closest_movie_10            2847\n",
       "closest_movie_11            1146\n",
       "closest_movie_12            5170\n",
       "closest_movie_13            3160\n",
       "closest_movie_14            1023\n",
       "closest_movie_15            1356\n",
       "Name: 5886, dtype: object"
      ]
     },
     "metadata": {},
     "execution_count": 530
    }
   ],
   "source": [
    "all_closest_movies_df.loc[movie_id_2]"
   ]
  },
  {
   "cell_type": "code",
   "execution_count": 531,
   "metadata": {},
   "outputs": [],
   "source": [
    "movie_vector1 = user_by_movie_matrix[:, movie_id_1].copy()\n",
    "movie_vector2 = user_by_movie_matrix[:, movie_id_2].copy()\n",
    "indexes_1 = np.where(~np.isnan(movie_vector1))\n",
    "indexes_2 = np.where(~np.isnan(movie_vector2))\n",
    "common_indexes = np.intersect1d(indexes_1, indexes_2)\n",
    "movie_vector1[np.isnan(movie_vector1)] = 0\n",
    "movie_vector2[np.isnan(movie_vector2)] = 0\n",
    "vector1 = movie_vector1[common_indexes]\n",
    "vector2 = movie_vector2[common_indexes]"
   ]
  },
  {
   "cell_type": "code",
   "execution_count": 532,
   "metadata": {},
   "outputs": [
    {
     "output_type": "stream",
     "name": "stdout",
     "text": [
      "7\n0.9671077018960662\n345.0\n49.285714285714285\n"
     ]
    }
   ],
   "source": [
    "print(len(common_indexes))\n",
    "print(1- distance.cosine(vector1,vector2))\n",
    "print(np.dot(movie_vector1, movie_vector2.T))\n",
    "print(np.dot(movie_vector1, movie_vector2.T) / len(common_indexes))"
   ]
  },
  {
   "cell_type": "code",
   "execution_count": 482,
   "metadata": {},
   "outputs": [],
   "source": [
    "# Extract saved recommendations"
   ]
  },
  {
   "cell_type": "code",
   "execution_count": 367,
   "metadata": {},
   "outputs": [],
   "source": [
    "database_filepath = 'recommendation_database/movie_recs_5000_multiply_genres_15.db'\n",
    "engine = create_engine('sqlite:///'+ database_filepath)\n",
    "df = pd.read_sql_table('Closest_movies', engine)\n",
    "engine.dispose()"
   ]
  },
  {
   "cell_type": "code",
   "execution_count": 368,
   "metadata": {},
   "outputs": [
    {
     "output_type": "execute_result",
     "data": {
      "text/plain": [
       "                           movie_title  closest_movie_1  closest_movie_2  \\\n",
       "0            A Trip to the Moon (1902)             4661             2652   \n",
       "1  Das Cabinet des Dr. Caligari (1920)             3851              143   \n",
       "2                       The Kid (1921)             1164             3859   \n",
       "3                     Nosferatu (1922)              270             4364   \n",
       "4                  Sherlock Jr. (1924)             4515               79   \n",
       "\n",
       "   closest_movie_3  closest_movie_4  closest_movie_5  closest_movie_6  \\\n",
       "0             2698             3834             4434             2995   \n",
       "1             4130                3             4635               92   \n",
       "2             3608             1151             3452                6   \n",
       "3             4463                1              340               14   \n",
       "4               19              136               22                8   \n",
       "\n",
       "   closest_movie_7  closest_movie_8  closest_movie_9  closest_movie_10  \\\n",
       "0             3742             3814             2064              3587   \n",
       "1               16               14             2656              2734   \n",
       "2             3014               54               31                22   \n",
       "3              390             3814             2371               440   \n",
       "4              319             4340               33               174   \n",
       "\n",
       "   closest_movie_11  closest_movie_12  closest_movie_13  closest_movie_14  \\\n",
       "0              3608              3376              1931              4317   \n",
       "1              5048              4649              4463              4976   \n",
       "2                13              4401               799              4019   \n",
       "3              4130               222               143              2656   \n",
       "4                83              2770              3376              4215   \n",
       "\n",
       "   closest_movie_15  \n",
       "0              2644  \n",
       "1              2652  \n",
       "2               136  \n",
       "3               436  \n",
       "4              2260  "
      ],
      "text/html": "<div>\n<style scoped>\n    .dataframe tbody tr th:only-of-type {\n        vertical-align: middle;\n    }\n\n    .dataframe tbody tr th {\n        vertical-align: top;\n    }\n\n    .dataframe thead th {\n        text-align: right;\n    }\n</style>\n<table border=\"1\" class=\"dataframe\">\n  <thead>\n    <tr style=\"text-align: right;\">\n      <th></th>\n      <th>movie_title</th>\n      <th>closest_movie_1</th>\n      <th>closest_movie_2</th>\n      <th>closest_movie_3</th>\n      <th>closest_movie_4</th>\n      <th>closest_movie_5</th>\n      <th>closest_movie_6</th>\n      <th>closest_movie_7</th>\n      <th>closest_movie_8</th>\n      <th>closest_movie_9</th>\n      <th>closest_movie_10</th>\n      <th>closest_movie_11</th>\n      <th>closest_movie_12</th>\n      <th>closest_movie_13</th>\n      <th>closest_movie_14</th>\n      <th>closest_movie_15</th>\n    </tr>\n  </thead>\n  <tbody>\n    <tr>\n      <th>0</th>\n      <td>A Trip to the Moon (1902)</td>\n      <td>4661</td>\n      <td>2652</td>\n      <td>2698</td>\n      <td>3834</td>\n      <td>4434</td>\n      <td>2995</td>\n      <td>3742</td>\n      <td>3814</td>\n      <td>2064</td>\n      <td>3587</td>\n      <td>3608</td>\n      <td>3376</td>\n      <td>1931</td>\n      <td>4317</td>\n      <td>2644</td>\n    </tr>\n    <tr>\n      <th>1</th>\n      <td>Das Cabinet des Dr. Caligari (1920)</td>\n      <td>3851</td>\n      <td>143</td>\n      <td>4130</td>\n      <td>3</td>\n      <td>4635</td>\n      <td>92</td>\n      <td>16</td>\n      <td>14</td>\n      <td>2656</td>\n      <td>2734</td>\n      <td>5048</td>\n      <td>4649</td>\n      <td>4463</td>\n      <td>4976</td>\n      <td>2652</td>\n    </tr>\n    <tr>\n      <th>2</th>\n      <td>The Kid (1921)</td>\n      <td>1164</td>\n      <td>3859</td>\n      <td>3608</td>\n      <td>1151</td>\n      <td>3452</td>\n      <td>6</td>\n      <td>3014</td>\n      <td>54</td>\n      <td>31</td>\n      <td>22</td>\n      <td>13</td>\n      <td>4401</td>\n      <td>799</td>\n      <td>4019</td>\n      <td>136</td>\n    </tr>\n    <tr>\n      <th>3</th>\n      <td>Nosferatu (1922)</td>\n      <td>270</td>\n      <td>4364</td>\n      <td>4463</td>\n      <td>1</td>\n      <td>340</td>\n      <td>14</td>\n      <td>390</td>\n      <td>3814</td>\n      <td>2371</td>\n      <td>440</td>\n      <td>4130</td>\n      <td>222</td>\n      <td>143</td>\n      <td>2656</td>\n      <td>436</td>\n    </tr>\n    <tr>\n      <th>4</th>\n      <td>Sherlock Jr. (1924)</td>\n      <td>4515</td>\n      <td>79</td>\n      <td>19</td>\n      <td>136</td>\n      <td>22</td>\n      <td>8</td>\n      <td>319</td>\n      <td>4340</td>\n      <td>33</td>\n      <td>174</td>\n      <td>83</td>\n      <td>2770</td>\n      <td>3376</td>\n      <td>4215</td>\n      <td>2260</td>\n    </tr>\n  </tbody>\n</table>\n</div>"
     },
     "metadata": {},
     "execution_count": 368
    }
   ],
   "source": [
    "df.head()"
   ]
  },
  {
   "cell_type": "code",
   "execution_count": 369,
   "metadata": {},
   "outputs": [
    {
     "output_type": "execute_result",
     "data": {
      "text/plain": [
       "   index   movie_title  closest_movie_1  closest_movie_2  closest_movie_3  \\\n",
       "0   4938  Tenet (2020)             1688             5098             5091   \n",
       "\n",
       "   closest_movie_4  closest_movie_5  closest_movie_6  closest_movie_7  \\\n",
       "0             3874             2268             5116             4144   \n",
       "\n",
       "   closest_movie_8  closest_movie_9  closest_movie_10  closest_movie_11  \\\n",
       "0             5117             5053              4791              3302   \n",
       "\n",
       "   closest_movie_12  closest_movie_13  closest_movie_14  closest_movie_15  \n",
       "0              2778              5013              4941              5040  "
      ],
      "text/html": "<div>\n<style scoped>\n    .dataframe tbody tr th:only-of-type {\n        vertical-align: middle;\n    }\n\n    .dataframe tbody tr th {\n        vertical-align: top;\n    }\n\n    .dataframe thead th {\n        text-align: right;\n    }\n</style>\n<table border=\"1\" class=\"dataframe\">\n  <thead>\n    <tr style=\"text-align: right;\">\n      <th></th>\n      <th>index</th>\n      <th>movie_title</th>\n      <th>closest_movie_1</th>\n      <th>closest_movie_2</th>\n      <th>closest_movie_3</th>\n      <th>closest_movie_4</th>\n      <th>closest_movie_5</th>\n      <th>closest_movie_6</th>\n      <th>closest_movie_7</th>\n      <th>closest_movie_8</th>\n      <th>closest_movie_9</th>\n      <th>closest_movie_10</th>\n      <th>closest_movie_11</th>\n      <th>closest_movie_12</th>\n      <th>closest_movie_13</th>\n      <th>closest_movie_14</th>\n      <th>closest_movie_15</th>\n    </tr>\n  </thead>\n  <tbody>\n    <tr>\n      <th>0</th>\n      <td>4938</td>\n      <td>Tenet (2020)</td>\n      <td>1688</td>\n      <td>5098</td>\n      <td>5091</td>\n      <td>3874</td>\n      <td>2268</td>\n      <td>5116</td>\n      <td>4144</td>\n      <td>5117</td>\n      <td>5053</td>\n      <td>4791</td>\n      <td>3302</td>\n      <td>2778</td>\n      <td>5013</td>\n      <td>4941</td>\n      <td>5040</td>\n    </tr>\n  </tbody>\n</table>\n</div>"
     },
     "metadata": {},
     "execution_count": 369
    }
   ],
   "source": [
    "movie = df[df['movie_title'] == \"Tenet (2020)\"].reset_index()\n",
    "movie"
   ]
  },
  {
   "cell_type": "code",
   "execution_count": 370,
   "metadata": {},
   "outputs": [
    {
     "output_type": "stream",
     "name": "stdout",
     "text": [
      "The Departed (2006)\n1917 (2019)\nThe Gentlemen (2019)\nJojo Rabbit (2019)\nThe Invisible Man (2020)\nExtraction (2020)\nLittle Women (2019)\nKnives Out (2019)\nI'm Thinking of Ending Things (2020)\nUncut Gems (2019)\nFord v Ferrari (2019)\nBad Boys for Life (2020)\nThe Devil All the Time (2020)\nParasite (Gisaengchung) (2019)\nBirds of Prey: And the Fantabulous Emancipation of One Harley Quinn (2020)\n"
     ]
    }
   ],
   "source": [
    "number_movies_returned  = 15\n",
    "for i in range(number_movies_returned):\n",
    "    column_name = 'closest_movie_{}'.format(i+1)\n",
    "    id = movie.loc[0,column_name]\n",
    "    movie_name = df.loc[id]['movie_title']\n",
    "    print(movie_name)"
   ]
  },
  {
   "cell_type": "code",
   "execution_count": 371,
   "metadata": {},
   "outputs": [],
   "source": [
    "# experimentations with similarity metrics - not relevent, run on test data"
   ]
  },
  {
   "cell_type": "code",
   "execution_count": 372,
   "metadata": {},
   "outputs": [
    {
     "output_type": "execute_result",
     "data": {
      "text/plain": [
       "array([[ 0,  1,  2,  3],\n",
       "       [ 4,  5,  6,  7],\n",
       "       [ 8,  9, 10, 11],\n",
       "       [12, 13, 14, 15]])"
      ]
     },
     "metadata": {},
     "execution_count": 372
    }
   ],
   "source": [
    "from sklearn.metrics.pairwise import linear_kernel, cosine_similarity\n",
    "from scipy.spatial import distance\n",
    "x = np.array(range(16)).reshape((4,4))\n",
    "x"
   ]
  },
  {
   "cell_type": "code",
   "execution_count": 373,
   "metadata": {},
   "outputs": [
    {
     "output_type": "execute_result",
     "data": {
      "text/plain": [
       "array([[0, 1, 2, 3],\n",
       "       [0, 1, 2, 3],\n",
       "       [0, 1, 2, 3],\n",
       "       [0, 1, 2, 3]])"
      ]
     },
     "metadata": {},
     "execution_count": 373
    }
   ],
   "source": [
    "y = x-np.vstack(x[:,0])\n",
    "y"
   ]
  },
  {
   "cell_type": "code",
   "execution_count": 374,
   "metadata": {},
   "outputs": [
    {
     "output_type": "execute_result",
     "data": {
      "text/plain": [
       "array([[0., 0., 0., 0.],\n",
       "       [0., 0., 0., 0.],\n",
       "       [0., 0., 0., 0.],\n",
       "       [0., 0., 0., 0.]])"
      ]
     },
     "metadata": {},
     "execution_count": 374
    }
   ],
   "source": [
    "x = np.zeros(shape=(4,4))\n",
    "x"
   ]
  },
  {
   "cell_type": "code",
   "execution_count": 375,
   "metadata": {},
   "outputs": [
    {
     "output_type": "execute_result",
     "data": {
      "text/plain": [
       "array([[0., 0., 7., 9.],\n",
       "       [7., 7., 7., 9.],\n",
       "       [1., 1., 8., 6.],\n",
       "       [0., 0., 0., 9.]])"
      ]
     },
     "metadata": {},
     "execution_count": 375
    }
   ],
   "source": [
    "x[0] = [0,0,7,9]\n",
    "x[1] = [7,7,7,9]\n",
    "x[2] = [1,1,8,6]\n",
    "x[3] = [0,0,0,9]\n",
    "x"
   ]
  },
  {
   "cell_type": "code",
   "execution_count": 376,
   "metadata": {},
   "outputs": [
    {
     "output_type": "execute_result",
     "data": {
      "text/plain": [
       "array([[1.        , 0.75509962, 0.95525853, 0.78935222],\n",
       "       [0.75509962, 1.        , 0.81311912, 0.59603956],\n",
       "       [0.95525853, 0.81311912, 1.        , 0.59408853],\n",
       "       [0.78935222, 0.59603956, 0.59408853, 1.        ]])"
      ]
     },
     "metadata": {},
     "execution_count": 376
    }
   ],
   "source": [
    "cosine_similarity(x)"
   ]
  },
  {
   "cell_type": "code",
   "execution_count": 377,
   "metadata": {},
   "outputs": [
    {
     "output_type": "execute_result",
     "data": {
      "text/plain": [
       "array([[130., 130., 110.,  81.],\n",
       "       [130., 228., 124.,  81.],\n",
       "       [110., 124., 102.,  54.],\n",
       "       [ 81.,  81.,  54.,  81.]])"
      ]
     },
     "metadata": {},
     "execution_count": 377
    }
   ],
   "source": [
    "np.dot(x, x.T)"
   ]
  },
  {
   "cell_type": "code",
   "execution_count": 378,
   "metadata": {},
   "outputs": [
    {
     "output_type": "execute_result",
     "data": {
      "text/plain": [
       "array([[ 0., nan,  2.,  3.],\n",
       "       [ 0.,  1.,  2.,  3.],\n",
       "       [ 0.,  1.,  2.,  3.],\n",
       "       [ 0.,  1.,  2.,  3.]])"
      ]
     },
     "metadata": {},
     "execution_count": 378
    }
   ],
   "source": [
    "y = y / 1.0\n",
    "y[0, 1] = np.NaN\n",
    "y"
   ]
  },
  {
   "cell_type": "code",
   "execution_count": 379,
   "metadata": {},
   "outputs": [
    {
     "output_type": "execute_result",
     "data": {
      "text/plain": [
       "array([[0., 0., 2., 3.],\n",
       "       [0., 1., 2., 3.],\n",
       "       [0., 1., 2., 3.],\n",
       "       [0., 1., 2., 3.]])"
      ]
     },
     "metadata": {},
     "execution_count": 379
    }
   ],
   "source": [
    "y[np.isnan(y)] = 0\n",
    "y"
   ]
  },
  {
   "cell_type": "code",
   "execution_count": 380,
   "metadata": {},
   "outputs": [
    {
     "output_type": "execute_result",
     "data": {
      "text/plain": [
       "array([[2., 2., 4., 6.],\n",
       "       [2., 2., 4., 6.],\n",
       "       [2., 2., 4., 6.],\n",
       "       [2., 2., 4., 6.]])"
      ]
     },
     "metadata": {},
     "execution_count": 380
    }
   ],
   "source": [
    "def multiply_by_2(y):\n",
    "    x = y.copy()\n",
    "    x[x==0] = 1\n",
    "    return x*2\n",
    "multiply_by_2(y)"
   ]
  },
  {
   "cell_type": "code",
   "execution_count": 381,
   "metadata": {},
   "outputs": [
    {
     "output_type": "execute_result",
     "data": {
      "text/plain": [
       "array([[0., 0., 2., 3.],\n",
       "       [0., 1., 2., 3.],\n",
       "       [0., 1., 2., 3.],\n",
       "       [0., 1., 2., 3.]])"
      ]
     },
     "metadata": {},
     "execution_count": 381
    }
   ],
   "source": [
    "y"
   ]
  },
  {
   "cell_type": "code",
   "execution_count": 382,
   "metadata": {},
   "outputs": [
    {
     "output_type": "execute_result",
     "data": {
      "text/plain": [
       "array([[ 0.,  0.,  0.,  0.],\n",
       "       [ 0.,  3.,  6.,  9.],\n",
       "       [ 0.,  6., 16., 24.],\n",
       "       [ 0.,  9., 24., 36.]])"
      ]
     },
     "metadata": {},
     "execution_count": 382
    }
   ],
   "source": [
    "np.dot(y.T, y)"
   ]
  },
  {
   "cell_type": "code",
   "execution_count": 383,
   "metadata": {},
   "outputs": [
    {
     "output_type": "execute_result",
     "data": {
      "text/plain": [
       "array([0.        , 1.73205081, 4.        , 6.        ])"
      ]
     },
     "metadata": {},
     "execution_count": 383
    }
   ],
   "source": [
    "np.linalg.norm(y, axis=0)"
   ]
  },
  {
   "cell_type": "code",
   "execution_count": 491,
   "metadata": {},
   "outputs": [
    {
     "output_type": "execute_result",
     "data": {
      "text/plain": [
       "array([[7., 7., 2., 1.],\n",
       "       [9., 9., 3., 2.],\n",
       "       [7., 7., 4., 2.],\n",
       "       [6., 8., 8., 8.]])"
      ]
     },
     "metadata": {},
     "execution_count": 491
    }
   ],
   "source": [
    "x[:,0] = [7,9,7,6]\n",
    "x[:,1] = [7,9,7,8]\n",
    "x[:,2] = [2,3,4,8]\n",
    "x[:,3] = [1,2,2,8]\n",
    "x"
   ]
  },
  {
   "cell_type": "code",
   "execution_count": 494,
   "metadata": {},
   "outputs": [
    {
     "output_type": "execute_result",
     "data": {
      "text/plain": [
       "array([[49., 49.,  4.,  1.],\n",
       "       [81., 81.,  9.,  4.],\n",
       "       [49., 49., 16.,  4.],\n",
       "       [36., 64., 64., 64.]])"
      ]
     },
     "metadata": {},
     "execution_count": 494
    }
   ],
   "source": [
    "y = x *x\n",
    "y"
   ]
  },
  {
   "cell_type": "code",
   "execution_count": 385,
   "metadata": {},
   "outputs": [],
   "source": [
    "x1 = x[:, 1]\n",
    "x2 = x[:, 0]"
   ]
  },
  {
   "cell_type": "code",
   "execution_count": 386,
   "metadata": {},
   "outputs": [
    {
     "output_type": "execute_result",
     "data": {
      "text/plain": [
       "0.9931240301527878"
      ]
     },
     "metadata": {},
     "execution_count": 386
    }
   ],
   "source": [
    "a = 1- distance.cosine(x1,x2)\n",
    "a"
   ]
  },
  {
   "cell_type": "code",
   "execution_count": 387,
   "metadata": {},
   "outputs": [
    {
     "output_type": "execute_result",
     "data": {
      "text/plain": [
       "array([[ 7.,  6., nan, nan],\n",
       "       [ 5., nan,  1.,  0.],\n",
       "       [nan,  5., nan,  3.],\n",
       "       [ 9., nan,  7.,  6.]])"
      ]
     },
     "metadata": {},
     "execution_count": 387
    }
   ],
   "source": [
    "number_movies_returned = 3\n",
    "test = np.array([[7,6,np.NaN,np.NaN], [5,np.NaN,1,0], [np.NaN,5,np.NaN,3], [9,np.NaN,7,6]])\n",
    "test\n",
    "#np.argpartition(scores, -1*number_movies_returned, axis=1)[:, -1*number_movies_returned:]"
   ]
  },
  {
   "cell_type": "code",
   "execution_count": 388,
   "metadata": {},
   "outputs": [
    {
     "output_type": "execute_result",
     "data": {
      "text/plain": [
       "array([ 1.,  0., nan, -2.])"
      ]
     },
     "metadata": {},
     "execution_count": 388
    }
   ],
   "source": [
    "np.nanmean(test-np.vstack(test[:,1]), axis=0)"
   ]
  },
  {
   "cell_type": "code",
   "execution_count": 389,
   "metadata": {},
   "outputs": [],
   "source": [
    "def get_users(movie_index, user_by_movie_matrix):\n",
    "    column = user_by_movie_matrix[:,movie_index]\n",
    "    users = np.where(np.isnan(column) == False)[0] \n",
    "    return users\n",
    "\n",
    "def get_common_users(movie_index1, movie_index2, user_by_movie_matrix):\n",
    "    users1 = get_users(movie_index1, user_by_movie_matrix)\n",
    "    users2 = get_users(movie_index2, user_by_movie_matrix)\n",
    "    common_users = np.intersect1d(users1, users2, assume_unique=True)\n",
    "    return common_users\n",
    "\n",
    "def compute_score(movie_index1, movie_index2, user_by_movie_matrix):\n",
    "    common_users = get_common_users(movie_index1, movie_index2, user_by_movie_matrix)\n",
    "    movie1_ratings = np.array(user_by_movie_matrix[common_users, movie_index1])\n",
    "    movie2_ratings = np.array(user_by_movie_matrix[common_users, movie_index2])\n",
    "\n",
    "    distance = np.linalg.norm(movie1_ratings - movie2_ratings)\n",
    "\n",
    "    score = 0\n",
    "    if distance != 0:\n",
    "        score = 1 / distance\n",
    "\n",
    "    return score"
   ]
  },
  {
   "cell_type": "code",
   "execution_count": 390,
   "metadata": {},
   "outputs": [],
   "source": [
    "# old functions to compare with newer ones - not relevant"
   ]
  },
  {
   "cell_type": "code",
   "execution_count": 391,
   "metadata": {},
   "outputs": [],
   "source": [
    "number_movies_returned  = 5\n",
    "def get_closest_movies(column):\n",
    "    negative_n = -1*number_movies_returned\n",
    "    closest_movies = np.argpartition(column, negative_n)[negative_n:]\n",
    "    \n",
    "    return closest_movies"
   ]
  },
  {
   "cell_type": "code",
   "execution_count": 392,
   "metadata": {},
   "outputs": [],
   "source": [
    "def get_closest_movies(number_movies, scores):\n",
    "    all_closest_movies = {}\n",
    "    for movie_index in range(scores.shape[0]):\n",
    "        closest_movies_scores = [0]\n",
    "        closest_movies_indexes = [movie_index]   \n",
    "        for temp_index in range(scores.shape[0]):\n",
    "            if temp_index > movie_index:\n",
    "                temp_score = scores[movie_index, temp_index] \n",
    "            else:\n",
    "                temp_score = scores[temp_index, movie_index]\n",
    "            min_score = closest_movies_scores[-1]\n",
    "            if temp_score > min_score:\n",
    "                closest_movies_scores.append(temp_score)\n",
    "                closest_movies_indexes.append(temp_index)\n",
    "                index_sorted = len(closest_movies_scores) - 2\n",
    "                next_score = closest_movies_scores[index_sorted]\n",
    "                next_index = closest_movies_indexes[index_sorted]\n",
    "                while (next_score < temp_score) and index_sorted >= 0 :\n",
    "                    closest_movies_scores[index_sorted+1] = next_score\n",
    "                    closest_movies_indexes[index_sorted+1] = next_index\n",
    "                    closest_movies_scores[index_sorted] = temp_score\n",
    "                    closest_movies_indexes[index_sorted] = temp_index\n",
    "                    index_sorted -= 1\n",
    "                if len(closest_movies_scores) > number_movies:\n",
    "                    closest_movies_scores = closest_movies_scores[0:number_movies-1]\n",
    "                    closest_movies_indexes = closest_movies_indexes[0:number_movies-1] \n",
    "        if closest_movies_indexes[-1] == movie_index:\n",
    "            if len(closest_movies_indexes) == 1:\n",
    "                closest_movies_scores = []\n",
    "                closest_movies_indexes = []\n",
    "            else:\n",
    "                closest_movies_scores = closest_movies_scores[0:-2]\n",
    "                closest_movies_indexes = closest_movies_indexes[0:-2]\n",
    "        all_closest_movies[movie_index] = closest_movies_indexes\n",
    "\n",
    "    return all_closest_movies"
   ]
  }
 ]
}