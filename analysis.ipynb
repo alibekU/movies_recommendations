{
 "metadata": {
  "language_info": {
   "codemirror_mode": {
    "name": "ipython",
    "version": 3
   },
   "file_extension": ".py",
   "mimetype": "text/x-python",
   "name": "python",
   "nbconvert_exporter": "python",
   "pygments_lexer": "ipython3",
   "version": "3.7.9-final"
  },
  "orig_nbformat": 2,
  "kernelspec": {
   "name": "python3",
   "display_name": "Python 3"
  }
 },
 "nbformat": 4,
 "nbformat_minor": 2,
 "cells": [
  {
   "cell_type": "code",
   "execution_count": 2,
   "metadata": {},
   "outputs": [],
   "source": [
    "import pandas as pd\n",
    "import numpy as np\n",
    "from sqlalchemy import create_engine\n",
    "from sklearn.metrics.pairwise import nan_euclidean_distances, cosine_similarity"
   ]
  },
  {
   "cell_type": "code",
   "execution_count": 46,
   "metadata": {},
   "outputs": [
    {
     "output_type": "execute_result",
     "data": {
      "text/plain": [
       "   movie_id                                        movie_title  \\\n",
       "0         8      Edison Kinetoscopic Record of a Sneeze (1894)   \n",
       "1        10                La sortie des usines Lumière (1895)   \n",
       "2        12                      The Arrival of a Train (1896)   \n",
       "3        25  The Oxford and Cambridge University Boat Race ...   \n",
       "4        91                         Le manoir du diable (1896)   \n",
       "\n",
       "               genra  \n",
       "0  Documentary|Short  \n",
       "1  Documentary|Short  \n",
       "2  Documentary|Short  \n",
       "3                NaN  \n",
       "4       Short|Horror  "
      ],
      "text/html": "<div>\n<style scoped>\n    .dataframe tbody tr th:only-of-type {\n        vertical-align: middle;\n    }\n\n    .dataframe tbody tr th {\n        vertical-align: top;\n    }\n\n    .dataframe thead th {\n        text-align: right;\n    }\n</style>\n<table border=\"1\" class=\"dataframe\">\n  <thead>\n    <tr style=\"text-align: right;\">\n      <th></th>\n      <th>movie_id</th>\n      <th>movie_title</th>\n      <th>genra</th>\n    </tr>\n  </thead>\n  <tbody>\n    <tr>\n      <th>0</th>\n      <td>8</td>\n      <td>Edison Kinetoscopic Record of a Sneeze (1894)</td>\n      <td>Documentary|Short</td>\n    </tr>\n    <tr>\n      <th>1</th>\n      <td>10</td>\n      <td>La sortie des usines Lumière (1895)</td>\n      <td>Documentary|Short</td>\n    </tr>\n    <tr>\n      <th>2</th>\n      <td>12</td>\n      <td>The Arrival of a Train (1896)</td>\n      <td>Documentary|Short</td>\n    </tr>\n    <tr>\n      <th>3</th>\n      <td>25</td>\n      <td>The Oxford and Cambridge University Boat Race ...</td>\n      <td>NaN</td>\n    </tr>\n    <tr>\n      <th>4</th>\n      <td>91</td>\n      <td>Le manoir du diable (1896)</td>\n      <td>Short|Horror</td>\n    </tr>\n  </tbody>\n</table>\n</div>"
     },
     "metadata": {},
     "execution_count": 46
    }
   ],
   "source": [
    "movies = pd.read_csv('data/movies.dat', sep='::', names=['movie_id', 'movie_title', 'genra'], header=None )\n",
    "movies.head()"
   ]
  },
  {
   "cell_type": "code",
   "execution_count": 47,
   "metadata": {},
   "outputs": [
    {
     "output_type": "execute_result",
     "data": {
      "text/plain": [
       "36383"
      ]
     },
     "metadata": {},
     "execution_count": 47
    }
   ],
   "source": [
    "movies.shape[0]"
   ]
  },
  {
   "cell_type": "code",
   "execution_count": 48,
   "metadata": {},
   "outputs": [
    {
     "output_type": "execute_result",
     "data": {
      "text/plain": [
       "36151"
      ]
     },
     "metadata": {},
     "execution_count": 48
    }
   ],
   "source": [
    "movies = movies.dropna()\n",
    "movies.shape[0]"
   ]
  },
  {
   "cell_type": "code",
   "execution_count": 49,
   "metadata": {},
   "outputs": [
    {
     "output_type": "execute_result",
     "data": {
      "text/plain": [
       "2"
      ]
     },
     "metadata": {},
     "execution_count": 49
    }
   ],
   "source": [
    "movies.shape[0] - movies['movie_id'].unique().shape[0]"
   ]
  },
  {
   "cell_type": "code",
   "execution_count": 50,
   "metadata": {},
   "outputs": [
    {
     "output_type": "execute_result",
     "data": {
      "text/plain": [
       "movie_id\n",
       "1979376    2\n",
       "4160708    2\n",
       "dtype: int64"
      ]
     },
     "metadata": {},
     "execution_count": 50
    }
   ],
   "source": [
    "counts = movies.groupby(['movie_id'])[['movie_title']].size()\n",
    "counts[counts>1]"
   ]
  },
  {
   "cell_type": "code",
   "execution_count": 51,
   "metadata": {},
   "outputs": [
    {
     "output_type": "execute_result",
     "data": {
      "text/plain": [
       "      movie_id           movie_title                 genra\n",
       "8242    106519  Carlito's Way (1993)  Crime|Drama|Thriller"
      ],
      "text/html": "<div>\n<style scoped>\n    .dataframe tbody tr th:only-of-type {\n        vertical-align: middle;\n    }\n\n    .dataframe tbody tr th {\n        vertical-align: top;\n    }\n\n    .dataframe thead th {\n        text-align: right;\n    }\n</style>\n<table border=\"1\" class=\"dataframe\">\n  <thead>\n    <tr style=\"text-align: right;\">\n      <th></th>\n      <th>movie_id</th>\n      <th>movie_title</th>\n      <th>genra</th>\n    </tr>\n  </thead>\n  <tbody>\n    <tr>\n      <th>8242</th>\n      <td>106519</td>\n      <td>Carlito's Way (1993)</td>\n      <td>Crime|Drama|Thriller</td>\n    </tr>\n  </tbody>\n</table>\n</div>"
     },
     "metadata": {},
     "execution_count": 51
    }
   ],
   "source": [
    "movies[movies['movie_id'] == 106519]"
   ]
  },
  {
   "cell_type": "code",
   "execution_count": 52,
   "metadata": {},
   "outputs": [
    {
     "output_type": "execute_result",
     "data": {
      "text/plain": [
       "       movie_id         movie_title                                      genra\n",
       "21924   1979376  Toy Story 4 (2019)  Animation|Adventure|Comedy|Family|Fantasy\n",
       "21925   1979376  Toy Story 4 (2019)  Animation|Adventure|Comedy|Family|Fantasy"
      ],
      "text/html": "<div>\n<style scoped>\n    .dataframe tbody tr th:only-of-type {\n        vertical-align: middle;\n    }\n\n    .dataframe tbody tr th {\n        vertical-align: top;\n    }\n\n    .dataframe thead th {\n        text-align: right;\n    }\n</style>\n<table border=\"1\" class=\"dataframe\">\n  <thead>\n    <tr style=\"text-align: right;\">\n      <th></th>\n      <th>movie_id</th>\n      <th>movie_title</th>\n      <th>genra</th>\n    </tr>\n  </thead>\n  <tbody>\n    <tr>\n      <th>21924</th>\n      <td>1979376</td>\n      <td>Toy Story 4 (2019)</td>\n      <td>Animation|Adventure|Comedy|Family|Fantasy</td>\n    </tr>\n    <tr>\n      <th>21925</th>\n      <td>1979376</td>\n      <td>Toy Story 4 (2019)</td>\n      <td>Animation|Adventure|Comedy|Family|Fantasy</td>\n    </tr>\n  </tbody>\n</table>\n</div>"
     },
     "metadata": {},
     "execution_count": 52
    }
   ],
   "source": [
    "movies[movies['movie_id'] == 1979376]"
   ]
  },
  {
   "cell_type": "code",
   "execution_count": 53,
   "metadata": {},
   "outputs": [
    {
     "output_type": "execute_result",
     "data": {
      "text/plain": [
       "       movie_id           movie_title                  genra\n",
       "29305   4160708  Don't Breathe (2016)  Crime|Horror|Thriller\n",
       "29306   4160708  Don't Breathe (2016)  Crime|Horror|Thriller"
      ],
      "text/html": "<div>\n<style scoped>\n    .dataframe tbody tr th:only-of-type {\n        vertical-align: middle;\n    }\n\n    .dataframe tbody tr th {\n        vertical-align: top;\n    }\n\n    .dataframe thead th {\n        text-align: right;\n    }\n</style>\n<table border=\"1\" class=\"dataframe\">\n  <thead>\n    <tr style=\"text-align: right;\">\n      <th></th>\n      <th>movie_id</th>\n      <th>movie_title</th>\n      <th>genra</th>\n    </tr>\n  </thead>\n  <tbody>\n    <tr>\n      <th>29305</th>\n      <td>4160708</td>\n      <td>Don't Breathe (2016)</td>\n      <td>Crime|Horror|Thriller</td>\n    </tr>\n    <tr>\n      <th>29306</th>\n      <td>4160708</td>\n      <td>Don't Breathe (2016)</td>\n      <td>Crime|Horror|Thriller</td>\n    </tr>\n  </tbody>\n</table>\n</div>"
     },
     "metadata": {},
     "execution_count": 53
    }
   ],
   "source": [
    "movies[movies['movie_id'] == 4160708]"
   ]
  },
  {
   "cell_type": "code",
   "execution_count": 54,
   "metadata": {},
   "outputs": [],
   "source": [
    "movies.drop_duplicates(subset=['movie_id'], inplace=True)"
   ]
  },
  {
   "cell_type": "code",
   "execution_count": 55,
   "metadata": {},
   "outputs": [
    {
     "output_type": "execute_result",
     "data": {
      "text/plain": [
       "                                            movie_title                genra\n",
       "movie_id                                                                    \n",
       "8         Edison Kinetoscopic Record of a Sneeze (1894)    Documentary|Short\n",
       "10                  La sortie des usines Lumière (1895)    Documentary|Short\n",
       "12                        The Arrival of a Train (1896)    Documentary|Short\n",
       "91                           Le manoir du diable (1896)         Short|Horror\n",
       "131                            Une nuit terrible (1896)  Short|Comedy|Horror"
      ],
      "text/html": "<div>\n<style scoped>\n    .dataframe tbody tr th:only-of-type {\n        vertical-align: middle;\n    }\n\n    .dataframe tbody tr th {\n        vertical-align: top;\n    }\n\n    .dataframe thead th {\n        text-align: right;\n    }\n</style>\n<table border=\"1\" class=\"dataframe\">\n  <thead>\n    <tr style=\"text-align: right;\">\n      <th></th>\n      <th>movie_title</th>\n      <th>genra</th>\n    </tr>\n    <tr>\n      <th>movie_id</th>\n      <th></th>\n      <th></th>\n    </tr>\n  </thead>\n  <tbody>\n    <tr>\n      <th>8</th>\n      <td>Edison Kinetoscopic Record of a Sneeze (1894)</td>\n      <td>Documentary|Short</td>\n    </tr>\n    <tr>\n      <th>10</th>\n      <td>La sortie des usines Lumière (1895)</td>\n      <td>Documentary|Short</td>\n    </tr>\n    <tr>\n      <th>12</th>\n      <td>The Arrival of a Train (1896)</td>\n      <td>Documentary|Short</td>\n    </tr>\n    <tr>\n      <th>91</th>\n      <td>Le manoir du diable (1896)</td>\n      <td>Short|Horror</td>\n    </tr>\n    <tr>\n      <th>131</th>\n      <td>Une nuit terrible (1896)</td>\n      <td>Short|Comedy|Horror</td>\n    </tr>\n  </tbody>\n</table>\n</div>"
     },
     "metadata": {},
     "execution_count": 55
    }
   ],
   "source": [
    "movies.index = movies['movie_id']\n",
    "movies = movies.drop(columns=['movie_id'])\n",
    "movies.head()"
   ]
  },
  {
   "cell_type": "code",
   "execution_count": 11,
   "metadata": {},
   "outputs": [
    {
     "output_type": "execute_result",
     "data": {
      "text/plain": [
       "   user_id  twitter_id\n",
       "0        1   139564917\n",
       "1        2   522540374\n",
       "2        3   475571186\n",
       "3        4   215022153\n",
       "4        5   349681331"
      ],
      "text/html": "<div>\n<style scoped>\n    .dataframe tbody tr th:only-of-type {\n        vertical-align: middle;\n    }\n\n    .dataframe tbody tr th {\n        vertical-align: top;\n    }\n\n    .dataframe thead th {\n        text-align: right;\n    }\n</style>\n<table border=\"1\" class=\"dataframe\">\n  <thead>\n    <tr style=\"text-align: right;\">\n      <th></th>\n      <th>user_id</th>\n      <th>twitter_id</th>\n    </tr>\n  </thead>\n  <tbody>\n    <tr>\n      <th>0</th>\n      <td>1</td>\n      <td>139564917</td>\n    </tr>\n    <tr>\n      <th>1</th>\n      <td>2</td>\n      <td>522540374</td>\n    </tr>\n    <tr>\n      <th>2</th>\n      <td>3</td>\n      <td>475571186</td>\n    </tr>\n    <tr>\n      <th>3</th>\n      <td>4</td>\n      <td>215022153</td>\n    </tr>\n    <tr>\n      <th>4</th>\n      <td>5</td>\n      <td>349681331</td>\n    </tr>\n  </tbody>\n</table>\n</div>"
     },
     "metadata": {},
     "execution_count": 11
    }
   ],
   "source": [
    "users = pd.read_csv('data/users.dat', sep='::', names=['user_id', 'twitter_id'], header=None )\n",
    "users.head()"
   ]
  },
  {
   "cell_type": "code",
   "execution_count": 12,
   "metadata": {},
   "outputs": [
    {
     "output_type": "stream",
     "name": "stdout",
     "text": [
      "(69324, 2)\n"
     ]
    }
   ],
   "source": [
    "print(users.shape)"
   ]
  },
  {
   "cell_type": "code",
   "execution_count": 13,
   "metadata": {},
   "outputs": [
    {
     "output_type": "execute_result",
     "data": {
      "text/plain": [
       "   user_id  movie_id  rating  rating_timestamp\n",
       "0        1    114508       8        1381006850\n",
       "1        2     75314       1        1595468524\n",
       "2        2    102926       9        1590148016\n",
       "3        2    114369      10        1597555347\n",
       "4        2    118715       8        1596006798"
      ],
      "text/html": "<div>\n<style scoped>\n    .dataframe tbody tr th:only-of-type {\n        vertical-align: middle;\n    }\n\n    .dataframe tbody tr th {\n        vertical-align: top;\n    }\n\n    .dataframe thead th {\n        text-align: right;\n    }\n</style>\n<table border=\"1\" class=\"dataframe\">\n  <thead>\n    <tr style=\"text-align: right;\">\n      <th></th>\n      <th>user_id</th>\n      <th>movie_id</th>\n      <th>rating</th>\n      <th>rating_timestamp</th>\n    </tr>\n  </thead>\n  <tbody>\n    <tr>\n      <th>0</th>\n      <td>1</td>\n      <td>114508</td>\n      <td>8</td>\n      <td>1381006850</td>\n    </tr>\n    <tr>\n      <th>1</th>\n      <td>2</td>\n      <td>75314</td>\n      <td>1</td>\n      <td>1595468524</td>\n    </tr>\n    <tr>\n      <th>2</th>\n      <td>2</td>\n      <td>102926</td>\n      <td>9</td>\n      <td>1590148016</td>\n    </tr>\n    <tr>\n      <th>3</th>\n      <td>2</td>\n      <td>114369</td>\n      <td>10</td>\n      <td>1597555347</td>\n    </tr>\n    <tr>\n      <th>4</th>\n      <td>2</td>\n      <td>118715</td>\n      <td>8</td>\n      <td>1596006798</td>\n    </tr>\n  </tbody>\n</table>\n</div>"
     },
     "metadata": {},
     "execution_count": 13
    }
   ],
   "source": [
    "ratings = pd.read_csv('data/ratings.dat', sep='::', names=['user_id', 'movie_id', 'rating', 'rating_timestamp'], header=None )\n",
    "ratings.head()"
   ]
  },
  {
   "cell_type": "code",
   "execution_count": 14,
   "metadata": {},
   "outputs": [
    {
     "output_type": "execute_result",
     "data": {
      "text/plain": [
       "(888452, 4)"
      ]
     },
     "metadata": {},
     "execution_count": 14
    }
   ],
   "source": [
    "ratings.shape"
   ]
  },
  {
   "cell_type": "code",
   "execution_count": 61,
   "metadata": {},
   "outputs": [
    {
     "output_type": "execute_result",
     "data": {
      "text/plain": [
       "             user_id      movie_id         rating  rating_timestamp\n",
       "count  888452.000000  8.884520e+05  888452.000000      8.884520e+05\n",
       "mean    34879.738435  2.187479e+06       7.316825      1.459300e+09\n",
       "std     20100.224164  2.025072e+06       1.853552      6.902560e+07\n",
       "min         1.000000  8.000000e+00       0.000000      1.362062e+09\n",
       "25%     17775.000000  7.654430e+05       6.000000      1.396187e+09\n",
       "50%     34764.500000  1.714206e+06       8.000000      1.450370e+09\n",
       "75%     51869.000000  2.883512e+06       9.000000      1.513955e+09\n",
       "max     69324.000000  1.292071e+07      10.000000      1.600911e+09"
      ],
      "text/html": "<div>\n<style scoped>\n    .dataframe tbody tr th:only-of-type {\n        vertical-align: middle;\n    }\n\n    .dataframe tbody tr th {\n        vertical-align: top;\n    }\n\n    .dataframe thead th {\n        text-align: right;\n    }\n</style>\n<table border=\"1\" class=\"dataframe\">\n  <thead>\n    <tr style=\"text-align: right;\">\n      <th></th>\n      <th>user_id</th>\n      <th>movie_id</th>\n      <th>rating</th>\n      <th>rating_timestamp</th>\n    </tr>\n  </thead>\n  <tbody>\n    <tr>\n      <th>count</th>\n      <td>888452.000000</td>\n      <td>8.884520e+05</td>\n      <td>888452.000000</td>\n      <td>8.884520e+05</td>\n    </tr>\n    <tr>\n      <th>mean</th>\n      <td>34879.738435</td>\n      <td>2.187479e+06</td>\n      <td>7.316825</td>\n      <td>1.459300e+09</td>\n    </tr>\n    <tr>\n      <th>std</th>\n      <td>20100.224164</td>\n      <td>2.025072e+06</td>\n      <td>1.853552</td>\n      <td>6.902560e+07</td>\n    </tr>\n    <tr>\n      <th>min</th>\n      <td>1.000000</td>\n      <td>8.000000e+00</td>\n      <td>0.000000</td>\n      <td>1.362062e+09</td>\n    </tr>\n    <tr>\n      <th>25%</th>\n      <td>17775.000000</td>\n      <td>7.654430e+05</td>\n      <td>6.000000</td>\n      <td>1.396187e+09</td>\n    </tr>\n    <tr>\n      <th>50%</th>\n      <td>34764.500000</td>\n      <td>1.714206e+06</td>\n      <td>8.000000</td>\n      <td>1.450370e+09</td>\n    </tr>\n    <tr>\n      <th>75%</th>\n      <td>51869.000000</td>\n      <td>2.883512e+06</td>\n      <td>9.000000</td>\n      <td>1.513955e+09</td>\n    </tr>\n    <tr>\n      <th>max</th>\n      <td>69324.000000</td>\n      <td>1.292071e+07</td>\n      <td>10.000000</td>\n      <td>1.600911e+09</td>\n    </tr>\n  </tbody>\n</table>\n</div>"
     },
     "metadata": {},
     "execution_count": 61
    }
   ],
   "source": [
    "ratings.describe()"
   ]
  },
  {
   "cell_type": "code",
   "execution_count": 15,
   "metadata": {},
   "outputs": [],
   "source": [
    "ratings_new = ratings.drop(columns=['rating_timestamp'])"
   ]
  },
  {
   "cell_type": "code",
   "execution_count": 16,
   "metadata": {},
   "outputs": [],
   "source": [
    "ratings_new['count_user'] = ratings_new.groupby(['user_id'])['user_id'].transform('count')"
   ]
  },
  {
   "cell_type": "code",
   "execution_count": 62,
   "metadata": {},
   "outputs": [
    {
     "output_type": "execute_result",
     "data": {
      "text/plain": [
       "   user_id  movie_id  rating  count_user\n",
       "0        1    114508       8           1\n",
       "1        2     75314       1          21\n",
       "2        2    102926       9          21\n",
       "3        2    114369      10          21\n",
       "4        2    118715       8          21"
      ],
      "text/html": "<div>\n<style scoped>\n    .dataframe tbody tr th:only-of-type {\n        vertical-align: middle;\n    }\n\n    .dataframe tbody tr th {\n        vertical-align: top;\n    }\n\n    .dataframe thead th {\n        text-align: right;\n    }\n</style>\n<table border=\"1\" class=\"dataframe\">\n  <thead>\n    <tr style=\"text-align: right;\">\n      <th></th>\n      <th>user_id</th>\n      <th>movie_id</th>\n      <th>rating</th>\n      <th>count_user</th>\n    </tr>\n  </thead>\n  <tbody>\n    <tr>\n      <th>0</th>\n      <td>1</td>\n      <td>114508</td>\n      <td>8</td>\n      <td>1</td>\n    </tr>\n    <tr>\n      <th>1</th>\n      <td>2</td>\n      <td>75314</td>\n      <td>1</td>\n      <td>21</td>\n    </tr>\n    <tr>\n      <th>2</th>\n      <td>2</td>\n      <td>102926</td>\n      <td>9</td>\n      <td>21</td>\n    </tr>\n    <tr>\n      <th>3</th>\n      <td>2</td>\n      <td>114369</td>\n      <td>10</td>\n      <td>21</td>\n    </tr>\n    <tr>\n      <th>4</th>\n      <td>2</td>\n      <td>118715</td>\n      <td>8</td>\n      <td>21</td>\n    </tr>\n  </tbody>\n</table>\n</div>"
     },
     "metadata": {},
     "execution_count": 62
    }
   ],
   "source": [
    "ratings_new.head()"
   ]
  },
  {
   "cell_type": "code",
   "execution_count": 63,
   "metadata": {},
   "outputs": [
    {
     "output_type": "execute_result",
     "data": {
      "text/plain": [
       "             user_id      movie_id         rating     count_user\n",
       "count  888452.000000  8.884520e+05  888452.000000  888452.000000\n",
       "mean    34879.738435  2.187479e+06       7.316825     176.492132\n",
       "std     20100.224164  2.025072e+06       1.853552     304.982483\n",
       "min         1.000000  8.000000e+00       0.000000       1.000000\n",
       "25%     17775.000000  7.654430e+05       6.000000      22.000000\n",
       "50%     34764.500000  1.714206e+06       8.000000      73.000000\n",
       "75%     51869.000000  2.883512e+06       9.000000     201.000000\n",
       "max     69324.000000  1.292071e+07      10.000000    2875.000000"
      ],
      "text/html": "<div>\n<style scoped>\n    .dataframe tbody tr th:only-of-type {\n        vertical-align: middle;\n    }\n\n    .dataframe tbody tr th {\n        vertical-align: top;\n    }\n\n    .dataframe thead th {\n        text-align: right;\n    }\n</style>\n<table border=\"1\" class=\"dataframe\">\n  <thead>\n    <tr style=\"text-align: right;\">\n      <th></th>\n      <th>user_id</th>\n      <th>movie_id</th>\n      <th>rating</th>\n      <th>count_user</th>\n    </tr>\n  </thead>\n  <tbody>\n    <tr>\n      <th>count</th>\n      <td>888452.000000</td>\n      <td>8.884520e+05</td>\n      <td>888452.000000</td>\n      <td>888452.000000</td>\n    </tr>\n    <tr>\n      <th>mean</th>\n      <td>34879.738435</td>\n      <td>2.187479e+06</td>\n      <td>7.316825</td>\n      <td>176.492132</td>\n    </tr>\n    <tr>\n      <th>std</th>\n      <td>20100.224164</td>\n      <td>2.025072e+06</td>\n      <td>1.853552</td>\n      <td>304.982483</td>\n    </tr>\n    <tr>\n      <th>min</th>\n      <td>1.000000</td>\n      <td>8.000000e+00</td>\n      <td>0.000000</td>\n      <td>1.000000</td>\n    </tr>\n    <tr>\n      <th>25%</th>\n      <td>17775.000000</td>\n      <td>7.654430e+05</td>\n      <td>6.000000</td>\n      <td>22.000000</td>\n    </tr>\n    <tr>\n      <th>50%</th>\n      <td>34764.500000</td>\n      <td>1.714206e+06</td>\n      <td>8.000000</td>\n      <td>73.000000</td>\n    </tr>\n    <tr>\n      <th>75%</th>\n      <td>51869.000000</td>\n      <td>2.883512e+06</td>\n      <td>9.000000</td>\n      <td>201.000000</td>\n    </tr>\n    <tr>\n      <th>max</th>\n      <td>69324.000000</td>\n      <td>1.292071e+07</td>\n      <td>10.000000</td>\n      <td>2875.000000</td>\n    </tr>\n  </tbody>\n</table>\n</div>"
     },
     "metadata": {},
     "execution_count": 63
    }
   ],
   "source": [
    "ratings_new.describe()"
   ]
  },
  {
   "cell_type": "code",
   "execution_count": 64,
   "metadata": {},
   "outputs": [
    {
     "output_type": "execute_result",
     "data": {
      "text/plain": [
       "             user_id      movie_id         rating     count_user\n",
       "count  858457.000000  8.584570e+05  858457.000000  858457.000000\n",
       "mean    34891.289295  2.173989e+06       7.287440     182.623932\n",
       "std     20103.784633  2.012844e+06       1.835697     308.464928\n",
       "min         2.000000  8.000000e+00       0.000000       2.000000\n",
       "25%     17819.000000  4.974650e+05       6.000000      25.000000\n",
       "50%     34767.000000  1.707386e+06       7.000000      78.000000\n",
       "75%     51869.000000  2.872732e+06       9.000000     211.000000\n",
       "max     69323.000000  1.292071e+07      10.000000    2875.000000"
      ],
      "text/html": "<div>\n<style scoped>\n    .dataframe tbody tr th:only-of-type {\n        vertical-align: middle;\n    }\n\n    .dataframe tbody tr th {\n        vertical-align: top;\n    }\n\n    .dataframe thead th {\n        text-align: right;\n    }\n</style>\n<table border=\"1\" class=\"dataframe\">\n  <thead>\n    <tr style=\"text-align: right;\">\n      <th></th>\n      <th>user_id</th>\n      <th>movie_id</th>\n      <th>rating</th>\n      <th>count_user</th>\n    </tr>\n  </thead>\n  <tbody>\n    <tr>\n      <th>count</th>\n      <td>858457.000000</td>\n      <td>8.584570e+05</td>\n      <td>858457.000000</td>\n      <td>858457.000000</td>\n    </tr>\n    <tr>\n      <th>mean</th>\n      <td>34891.289295</td>\n      <td>2.173989e+06</td>\n      <td>7.287440</td>\n      <td>182.623932</td>\n    </tr>\n    <tr>\n      <th>std</th>\n      <td>20103.784633</td>\n      <td>2.012844e+06</td>\n      <td>1.835697</td>\n      <td>308.464928</td>\n    </tr>\n    <tr>\n      <th>min</th>\n      <td>2.000000</td>\n      <td>8.000000e+00</td>\n      <td>0.000000</td>\n      <td>2.000000</td>\n    </tr>\n    <tr>\n      <th>25%</th>\n      <td>17819.000000</td>\n      <td>4.974650e+05</td>\n      <td>6.000000</td>\n      <td>25.000000</td>\n    </tr>\n    <tr>\n      <th>50%</th>\n      <td>34767.000000</td>\n      <td>1.707386e+06</td>\n      <td>7.000000</td>\n      <td>78.000000</td>\n    </tr>\n    <tr>\n      <th>75%</th>\n      <td>51869.000000</td>\n      <td>2.872732e+06</td>\n      <td>9.000000</td>\n      <td>211.000000</td>\n    </tr>\n    <tr>\n      <th>max</th>\n      <td>69323.000000</td>\n      <td>1.292071e+07</td>\n      <td>10.000000</td>\n      <td>2875.000000</td>\n    </tr>\n  </tbody>\n</table>\n</div>"
     },
     "metadata": {},
     "execution_count": 64
    }
   ],
   "source": [
    "ratings_user = ratings_new.query('count_user >= 2')\n",
    "ratings_user.describe()"
   ]
  },
  {
   "cell_type": "code",
   "execution_count": 19,
   "metadata": {},
   "outputs": [
    {
     "output_type": "execute_result",
     "data": {
      "text/plain": [
       "(858457, 4)"
      ]
     },
     "metadata": {},
     "execution_count": 19
    }
   ],
   "source": [
    "ratings_user.shape"
   ]
  },
  {
   "cell_type": "code",
   "execution_count": 66,
   "metadata": {},
   "outputs": [],
   "source": [
    "ratings_user = ratings_user.drop(columns=['count_user'])"
   ]
  },
  {
   "cell_type": "code",
   "execution_count": null,
   "metadata": {},
   "outputs": [],
   "source": []
  },
  {
   "cell_type": "code",
   "execution_count": 67,
   "metadata": {},
   "outputs": [
    {
     "output_type": "execute_result",
     "data": {
      "text/plain": [
       "             user_id      movie_id         rating    count_movie\n",
       "count  858457.000000  8.584570e+05  858457.000000  858457.000000\n",
       "mean    34891.289295  2.173989e+06       7.287440     527.442254\n",
       "std     20103.784633  2.012844e+06       1.835697     600.505193\n",
       "min         2.000000  8.000000e+00       0.000000       1.000000\n",
       "25%     17819.000000  4.974650e+05       6.000000      73.000000\n",
       "50%     34767.000000  1.707386e+06       7.000000     301.000000\n",
       "75%     51869.000000  2.872732e+06       9.000000     795.000000\n",
       "max     69323.000000  1.292071e+07      10.000000    2904.000000"
      ],
      "text/html": "<div>\n<style scoped>\n    .dataframe tbody tr th:only-of-type {\n        vertical-align: middle;\n    }\n\n    .dataframe tbody tr th {\n        vertical-align: top;\n    }\n\n    .dataframe thead th {\n        text-align: right;\n    }\n</style>\n<table border=\"1\" class=\"dataframe\">\n  <thead>\n    <tr style=\"text-align: right;\">\n      <th></th>\n      <th>user_id</th>\n      <th>movie_id</th>\n      <th>rating</th>\n      <th>count_movie</th>\n    </tr>\n  </thead>\n  <tbody>\n    <tr>\n      <th>count</th>\n      <td>858457.000000</td>\n      <td>8.584570e+05</td>\n      <td>858457.000000</td>\n      <td>858457.000000</td>\n    </tr>\n    <tr>\n      <th>mean</th>\n      <td>34891.289295</td>\n      <td>2.173989e+06</td>\n      <td>7.287440</td>\n      <td>527.442254</td>\n    </tr>\n    <tr>\n      <th>std</th>\n      <td>20103.784633</td>\n      <td>2.012844e+06</td>\n      <td>1.835697</td>\n      <td>600.505193</td>\n    </tr>\n    <tr>\n      <th>min</th>\n      <td>2.000000</td>\n      <td>8.000000e+00</td>\n      <td>0.000000</td>\n      <td>1.000000</td>\n    </tr>\n    <tr>\n      <th>25%</th>\n      <td>17819.000000</td>\n      <td>4.974650e+05</td>\n      <td>6.000000</td>\n      <td>73.000000</td>\n    </tr>\n    <tr>\n      <th>50%</th>\n      <td>34767.000000</td>\n      <td>1.707386e+06</td>\n      <td>7.000000</td>\n      <td>301.000000</td>\n    </tr>\n    <tr>\n      <th>75%</th>\n      <td>51869.000000</td>\n      <td>2.872732e+06</td>\n      <td>9.000000</td>\n      <td>795.000000</td>\n    </tr>\n    <tr>\n      <th>max</th>\n      <td>69323.000000</td>\n      <td>1.292071e+07</td>\n      <td>10.000000</td>\n      <td>2904.000000</td>\n    </tr>\n  </tbody>\n</table>\n</div>"
     },
     "metadata": {},
     "execution_count": 67
    }
   ],
   "source": [
    "ratings_user['count_movie'] = ratings_user.groupby(['movie_id'])['movie_id'].transform('count')\n",
    "ratings_user.describe()"
   ]
  },
  {
   "cell_type": "code",
   "execution_count": 68,
   "metadata": {},
   "outputs": [
    {
     "output_type": "execute_result",
     "data": {
      "text/plain": [
       "(604326, 4)"
      ]
     },
     "metadata": {},
     "execution_count": 68
    }
   ],
   "source": [
    "ratings_movie = ratings_user.query('count_movie >= 100')\n",
    "ratings_movie.shape"
   ]
  },
  {
   "cell_type": "code",
   "execution_count": 69,
   "metadata": {},
   "outputs": [
    {
     "output_type": "execute_result",
     "data": {
      "text/plain": [
       "             user_id      movie_id         rating    count_movie\n",
       "count  604326.000000  6.043260e+05  604326.000000  604326.000000\n",
       "mean    34860.290833  2.268111e+06       7.463874     734.187660\n",
       "std     20035.575976  1.851115e+06       1.758628     606.216264\n",
       "min         2.000000  2.174900e+04       0.000000     100.000000\n",
       "25%     17910.000000  1.152836e+06       7.000000     256.000000\n",
       "50%     34641.000000  1.853728e+06       8.000000     529.000000\n",
       "75%     51924.500000  2.883512e+06       9.000000    1035.000000\n",
       "max     69323.000000  1.139004e+07      10.000000    2904.000000"
      ],
      "text/html": "<div>\n<style scoped>\n    .dataframe tbody tr th:only-of-type {\n        vertical-align: middle;\n    }\n\n    .dataframe tbody tr th {\n        vertical-align: top;\n    }\n\n    .dataframe thead th {\n        text-align: right;\n    }\n</style>\n<table border=\"1\" class=\"dataframe\">\n  <thead>\n    <tr style=\"text-align: right;\">\n      <th></th>\n      <th>user_id</th>\n      <th>movie_id</th>\n      <th>rating</th>\n      <th>count_movie</th>\n    </tr>\n  </thead>\n  <tbody>\n    <tr>\n      <th>count</th>\n      <td>604326.000000</td>\n      <td>6.043260e+05</td>\n      <td>604326.000000</td>\n      <td>604326.000000</td>\n    </tr>\n    <tr>\n      <th>mean</th>\n      <td>34860.290833</td>\n      <td>2.268111e+06</td>\n      <td>7.463874</td>\n      <td>734.187660</td>\n    </tr>\n    <tr>\n      <th>std</th>\n      <td>20035.575976</td>\n      <td>1.851115e+06</td>\n      <td>1.758628</td>\n      <td>606.216264</td>\n    </tr>\n    <tr>\n      <th>min</th>\n      <td>2.000000</td>\n      <td>2.174900e+04</td>\n      <td>0.000000</td>\n      <td>100.000000</td>\n    </tr>\n    <tr>\n      <th>25%</th>\n      <td>17910.000000</td>\n      <td>1.152836e+06</td>\n      <td>7.000000</td>\n      <td>256.000000</td>\n    </tr>\n    <tr>\n      <th>50%</th>\n      <td>34641.000000</td>\n      <td>1.853728e+06</td>\n      <td>8.000000</td>\n      <td>529.000000</td>\n    </tr>\n    <tr>\n      <th>75%</th>\n      <td>51924.500000</td>\n      <td>2.883512e+06</td>\n      <td>9.000000</td>\n      <td>1035.000000</td>\n    </tr>\n    <tr>\n      <th>max</th>\n      <td>69323.000000</td>\n      <td>1.139004e+07</td>\n      <td>10.000000</td>\n      <td>2904.000000</td>\n    </tr>\n  </tbody>\n</table>\n</div>"
     },
     "metadata": {},
     "execution_count": 69
    }
   ],
   "source": [
    "ratings_movie.describe()"
   ]
  },
  {
   "cell_type": "code",
   "execution_count": 22,
   "metadata": {},
   "outputs": [],
   "source": [
    "user_by_movie = ratings_movie.groupby(['user_id', 'movie_id'])['rating'].max().unstack()"
   ]
  },
  {
   "cell_type": "code",
   "execution_count": 23,
   "metadata": {},
   "outputs": [
    {
     "output_type": "execute_result",
     "data": {
      "text/plain": [
       "(38171, 1675)"
      ]
     },
     "metadata": {},
     "execution_count": 23
    }
   ],
   "source": [
    "user_by_movie.shape"
   ]
  },
  {
   "cell_type": "code",
   "execution_count": 24,
   "metadata": {},
   "outputs": [
    {
     "output_type": "execute_result",
     "data": {
      "text/plain": [
       "movie_id\n",
       "21749                           City Lights (1931)\n",
       "31381                    Gone with the Wind (1939)\n",
       "33467                          Citizen Kane (1941)\n",
       "34583                            Casablanca (1942)\n",
       "36775                      Double Indemnity (1944)\n",
       "                             ...                  \n",
       "9243946     El Camino: A Breaking Bad Movie (2019)\n",
       "9495224          Black Mirror: Bandersnatch (2018)\n",
       "10039344                          Countdown (2019)\n",
       "10431500           Yedinci Kogustaki Mucize (2019)\n",
       "11390036                  A Fall from Grace (2020)\n",
       "Name: movie_title, Length: 1675, dtype: object"
      ]
     },
     "metadata": {},
     "execution_count": 24
    }
   ],
   "source": [
    "movies_used = movies.loc[user_by_movie.columns, 'movie_title']\n",
    "movies_used"
   ]
  },
  {
   "cell_type": "code",
   "execution_count": 25,
   "metadata": {},
   "outputs": [
    {
     "output_type": "execute_result",
     "data": {
      "text/plain": [
       "(1675,)"
      ]
     },
     "metadata": {},
     "execution_count": 25
    }
   ],
   "source": [
    "movies_used.shape"
   ]
  },
  {
   "cell_type": "code",
   "execution_count": 26,
   "metadata": {},
   "outputs": [],
   "source": [
    "user_by_movie_matrix = user_by_movie.to_numpy()"
   ]
  },
  {
   "cell_type": "code",
   "execution_count": 56,
   "metadata": {},
   "outputs": [
    {
     "output_type": "execute_result",
     "data": {
      "text/plain": [
       "movie_id\n",
       "21749                         Comedy|Drama|Romance\n",
       "31381                    Drama|History|Romance|War\n",
       "33467                                Drama|Mystery\n",
       "34583                            Drama|Romance|War\n",
       "36775       Crime|Drama|Film-Noir|Mystery|Thriller\n",
       "                             ...                  \n",
       "9243946                               Action|Drama\n",
       "9495224              Drama|Mystery|Sci-Fi|Thriller\n",
       "10039344                           Horror|Thriller\n",
       "10431500                                     Drama\n",
       "11390036                                  Thriller\n",
       "Name: genra, Length: 1675, dtype: object"
      ]
     },
     "metadata": {},
     "execution_count": 56
    }
   ],
   "source": [
    "movie_genres_df = movies.loc[user_by_movie.columns, 'genra']\n",
    "movie_genres_df"
   ]
  },
  {
   "cell_type": "code",
   "execution_count": 57,
   "metadata": {},
   "outputs": [
    {
     "output_type": "execute_result",
     "data": {
      "text/plain": [
       "False"
      ]
     },
     "metadata": {},
     "execution_count": 57
    }
   ],
   "source": [
    "movie_genres_df.isna().any()"
   ]
  },
  {
   "cell_type": "code",
   "execution_count": 40,
   "metadata": {},
   "outputs": [],
   "source": [
    "#movie_genres_df = movie_genres_df.fillna('')"
   ]
  },
  {
   "cell_type": "code",
   "execution_count": 58,
   "metadata": {},
   "outputs": [],
   "source": [
    "def create_genra_list(movie_genres_df):\n",
    "    genres_set = set()\n",
    "    for i in range(movie_genres_df.shape[0]):\n",
    "        genres_list = movie_genres_df.iloc[i].split('|')\n",
    "        genres_set.update(genres_list)\n",
    "    return list(genres_set)"
   ]
  },
  {
   "cell_type": "code",
   "execution_count": 59,
   "metadata": {},
   "outputs": [
    {
     "output_type": "execute_result",
     "data": {
      "text/plain": [
       "['Music',\n",
       " 'Sport',\n",
       " 'Horror',\n",
       " 'Fantasy',\n",
       " 'Adventure',\n",
       " 'Sci-Fi',\n",
       " 'Thriller',\n",
       " 'Mystery',\n",
       " 'Comedy',\n",
       " 'Romance',\n",
       " 'Animation',\n",
       " 'War',\n",
       " 'Musical',\n",
       " 'History',\n",
       " 'Biography',\n",
       " 'Western',\n",
       " 'Film-Noir',\n",
       " 'Action',\n",
       " 'Drama',\n",
       " 'Crime',\n",
       " 'Documentary',\n",
       " 'Family']"
      ]
     },
     "metadata": {},
     "execution_count": 59
    }
   ],
   "source": [
    "genres = create_genra_list(movie_genres_df)\n",
    "genres"
   ]
  },
  {
   "cell_type": "code",
   "execution_count": 70,
   "metadata": {},
   "outputs": [],
   "source": [
    "def create_genres_matrix(movie_genres_df, genres):\n",
    "    numb_movies = movie_genres_df.shape[0]\n",
    "    numb_genres = len(genres)\n",
    "    genres_matrix = np.zeros(shape=(numb_movies, numb_genres))\n",
    "    for i in range(numb_movies):\n",
    "        genres_row = set(movie_genres_df.iloc[i].split('|'))\n",
    "        for j,genre in enumerate(genres):\n",
    "            if genre in genres_row:\n",
    "                genres_matrix[i,j] = 1\n",
    "    return genres_matrix"
   ]
  },
  {
   "cell_type": "code",
   "execution_count": 71,
   "metadata": {},
   "outputs": [
    {
     "output_type": "execute_result",
     "data": {
      "text/plain": [
       "array([[0., 0., 0., ..., 0., 0., 0.],\n",
       "       [0., 0., 0., ..., 0., 0., 0.],\n",
       "       [0., 0., 0., ..., 0., 0., 0.],\n",
       "       ...,\n",
       "       [0., 0., 1., ..., 0., 0., 0.],\n",
       "       [0., 0., 0., ..., 0., 0., 0.],\n",
       "       [0., 0., 0., ..., 0., 0., 0.]])"
      ]
     },
     "metadata": {},
     "execution_count": 71
    }
   ],
   "source": [
    "genres_matrix = create_genres_matrix(movie_genres_df, genres)\n",
    "genres_matrix"
   ]
  },
  {
   "cell_type": "code",
   "execution_count": 80,
   "metadata": {},
   "outputs": [
    {
     "output_type": "stream",
     "name": "stdout",
     "text": [
      "[[1.         0.57735027 0.40824829 ... 0.         0.57735027 0.        ]\n [0.57735027 1.         0.35355339 ... 0.         0.5        0.        ]\n [0.40824829 0.35355339 1.         ... 0.         0.70710678 0.        ]\n ...\n [0.         0.         0.         ... 1.         0.         0.70710678]\n [0.57735027 0.5        0.70710678 ... 0.         1.         0.        ]\n [0.         0.         0.         ... 0.70710678 0.         1.        ]]\n"
     ]
    }
   ],
   "source": [
    "genre_similarities = cosine_similarity(genres_matrix)\n",
    "print(genre_similarities)"
   ]
  },
  {
   "cell_type": "code",
   "execution_count": null,
   "metadata": {},
   "outputs": [],
   "source": []
  },
  {
   "cell_type": "code",
   "execution_count": null,
   "metadata": {},
   "outputs": [],
   "source": [
    "def get_all_scores(user_by_movie_matrix):\n",
    "    movies_number = user_by_movie.shape[1]\n",
    "    scores = np.zeros(shape=(movies_number, movies_number))\n",
    "    for index1 in range(movies_number):\n",
    "        diffs = np.subtract(user_by_movie_matrix, np.vstack(user_by_movie_matrix[:, index1]))\n",
    "        diffs[np.isnan(diffs)] = 0.0\n",
    "        scores[index1] = np.linalg.norm(diffs, axis=0)\n",
    "    return scores"
   ]
  },
  {
   "cell_type": "code",
   "execution_count": null,
   "metadata": {},
   "outputs": [],
   "source": []
  },
  {
   "cell_type": "code",
   "execution_count": null,
   "metadata": {},
   "outputs": [],
   "source": []
  },
  {
   "cell_type": "code",
   "execution_count": null,
   "metadata": {},
   "outputs": [],
   "source": []
  },
  {
   "cell_type": "code",
   "execution_count": 56,
   "metadata": {},
   "outputs": [
    {
     "output_type": "stream",
     "name": "stdout",
     "text": [
      "Current Time = 19:33:16\n"
     ]
    }
   ],
   "source": [
    "from datetime import datetime\n",
    "\n",
    "now = datetime.now()\n",
    "\n",
    "current_time = now.strftime(\"%H:%M:%S\")\n",
    "print(\"Current Time =\", current_time)"
   ]
  },
  {
   "cell_type": "code",
   "execution_count": 58,
   "metadata": {},
   "outputs": [],
   "source": [
    "scores = get_all_scores(user_by_movie_matrix)"
   ]
  },
  {
   "cell_type": "code",
   "execution_count": 60,
   "metadata": {},
   "outputs": [],
   "source": [
    "#scores.shape"
   ]
  },
  {
   "cell_type": "code",
   "execution_count": 62,
   "metadata": {},
   "outputs": [],
   "source": [
    "scores_full = scores + scores.T - np.diag(np.diag(scores))\n",
    "number_movies_returned  = 5\n",
    "negative_n = -1*number_movies_returned\n",
    "closest_movies = np.argpartition(scores_full, negative_n, axis=1)[:, negative_n:]"
   ]
  },
  {
   "cell_type": "code",
   "execution_count": 64,
   "metadata": {},
   "outputs": [],
   "source": [
    "#closest_movies.shape"
   ]
  },
  {
   "cell_type": "code",
   "execution_count": 65,
   "metadata": {},
   "outputs": [
    {
     "output_type": "stream",
     "name": "stdout",
     "text": [
      "Current Time = 19:33:25\n"
     ]
    }
   ],
   "source": [
    "from datetime import datetime\n",
    "\n",
    "now = datetime.now()\n",
    "\n",
    "current_time = now.strftime(\"%H:%M:%S\")\n",
    "print(\"Current Time =\", current_time)"
   ]
  },
  {
   "cell_type": "code",
   "execution_count": 66,
   "metadata": {},
   "outputs": [],
   "source": [
    "all_closest_movies_df = pd.DataFrame()\n",
    "all_closest_movies_df['movie_title'] = movies_used.values\n",
    "for i in range(number_movies_returned):\n",
    "    all_closest_movies_df['closest_movie_{}'.format(i+1)] = closest_movies[:,i]"
   ]
  },
  {
   "cell_type": "code",
   "execution_count": 67,
   "metadata": {},
   "outputs": [
    {
     "output_type": "execute_result",
     "data": {
      "text/plain": [
       "                              movie_title  closest_movie_1  closest_movie_2  \\\n",
       "0         The Shawshank Redemption (1994)                5              147   \n",
       "1                            Se7en (1995)              140              105   \n",
       "2  The Secret Life of Walter Mitty (2013)              144              138   \n",
       "3                   Jurassic World (2015)               99              144   \n",
       "4                     Wonder Woman (2017)                5               52   \n",
       "\n",
       "   closest_movie_3  closest_movie_4  closest_movie_5  \n",
       "0              145               67               28  \n",
       "1              145              122                5  \n",
       "2               67              147              145  \n",
       "3              145               67              147  \n",
       "4              145                2               86  "
      ],
      "text/html": "<div>\n<style scoped>\n    .dataframe tbody tr th:only-of-type {\n        vertical-align: middle;\n    }\n\n    .dataframe tbody tr th {\n        vertical-align: top;\n    }\n\n    .dataframe thead th {\n        text-align: right;\n    }\n</style>\n<table border=\"1\" class=\"dataframe\">\n  <thead>\n    <tr style=\"text-align: right;\">\n      <th></th>\n      <th>movie_title</th>\n      <th>closest_movie_1</th>\n      <th>closest_movie_2</th>\n      <th>closest_movie_3</th>\n      <th>closest_movie_4</th>\n      <th>closest_movie_5</th>\n    </tr>\n  </thead>\n  <tbody>\n    <tr>\n      <th>0</th>\n      <td>The Shawshank Redemption (1994)</td>\n      <td>5</td>\n      <td>147</td>\n      <td>145</td>\n      <td>67</td>\n      <td>28</td>\n    </tr>\n    <tr>\n      <th>1</th>\n      <td>Se7en (1995)</td>\n      <td>140</td>\n      <td>105</td>\n      <td>145</td>\n      <td>122</td>\n      <td>5</td>\n    </tr>\n    <tr>\n      <th>2</th>\n      <td>The Secret Life of Walter Mitty (2013)</td>\n      <td>144</td>\n      <td>138</td>\n      <td>67</td>\n      <td>147</td>\n      <td>145</td>\n    </tr>\n    <tr>\n      <th>3</th>\n      <td>Jurassic World (2015)</td>\n      <td>99</td>\n      <td>144</td>\n      <td>145</td>\n      <td>67</td>\n      <td>147</td>\n    </tr>\n    <tr>\n      <th>4</th>\n      <td>Wonder Woman (2017)</td>\n      <td>5</td>\n      <td>52</td>\n      <td>145</td>\n      <td>2</td>\n      <td>86</td>\n    </tr>\n  </tbody>\n</table>\n</div>"
     },
     "metadata": {},
     "execution_count": 67
    }
   ],
   "source": [
    "all_closest_movies_df.head()"
   ]
  },
  {
   "cell_type": "code",
   "execution_count": 68,
   "metadata": {},
   "outputs": [
    {
     "output_type": "execute_result",
     "data": {
      "text/plain": [
       "(148, 6)"
      ]
     },
     "metadata": {},
     "execution_count": 68
    }
   ],
   "source": [
    "all_closest_movies_df.shape"
   ]
  },
  {
   "cell_type": "code",
   "execution_count": 69,
   "metadata": {},
   "outputs": [],
   "source": [
    "database_filename = 'movie_recommendations.db'\n",
    "table_name = 'Closest_movies'\n",
    "engine = create_engine('sqlite:///' + database_filename)\n",
    "all_closest_movies_df.to_sql(table_name, engine, index=False, if_exists='replace')\n",
    "engine.dispose()"
   ]
  },
  {
   "cell_type": "code",
   "execution_count": null,
   "metadata": {},
   "outputs": [],
   "source": []
  },
  {
   "cell_type": "code",
   "execution_count": null,
   "metadata": {},
   "outputs": [],
   "source": []
  },
  {
   "cell_type": "code",
   "execution_count": null,
   "metadata": {},
   "outputs": [],
   "source": [
    "# Extract saved recommendations"
   ]
  },
  {
   "cell_type": "code",
   "execution_count": 219,
   "metadata": {},
   "outputs": [],
   "source": [
    "database_filepath = 'movie_recommendations_v4.db'\n",
    "engine = create_engine('sqlite:///'+ database_filepath)\n",
    "df = pd.read_sql_table('Closest_movies', engine)\n",
    "engine.dispose()"
   ]
  },
  {
   "cell_type": "code",
   "execution_count": 220,
   "metadata": {},
   "outputs": [
    {
     "output_type": "execute_result",
     "data": {
      "text/plain": [
       "                              movie_title  closest_movie_1  closest_movie_2  \\\n",
       "0            It's a Wonderful Life (1946)              577              623   \n",
       "1                      Rear Window (1954)              157              627   \n",
       "2                     12 Angry Men (1957)               89               15   \n",
       "3                           Psycho (1960)              194              152   \n",
       "4  Il buono, il brutto, il cattivo (1966)              323              627   \n",
       "\n",
       "   closest_movie_3  closest_movie_4  closest_movie_5  \n",
       "0              569              234              627  \n",
       "1              136              630              569  \n",
       "2              243                4              173  \n",
       "3              569              627              496  \n",
       "4              628              169               37  "
      ],
      "text/html": "<div>\n<style scoped>\n    .dataframe tbody tr th:only-of-type {\n        vertical-align: middle;\n    }\n\n    .dataframe tbody tr th {\n        vertical-align: top;\n    }\n\n    .dataframe thead th {\n        text-align: right;\n    }\n</style>\n<table border=\"1\" class=\"dataframe\">\n  <thead>\n    <tr style=\"text-align: right;\">\n      <th></th>\n      <th>movie_title</th>\n      <th>closest_movie_1</th>\n      <th>closest_movie_2</th>\n      <th>closest_movie_3</th>\n      <th>closest_movie_4</th>\n      <th>closest_movie_5</th>\n    </tr>\n  </thead>\n  <tbody>\n    <tr>\n      <th>0</th>\n      <td>It's a Wonderful Life (1946)</td>\n      <td>577</td>\n      <td>623</td>\n      <td>569</td>\n      <td>234</td>\n      <td>627</td>\n    </tr>\n    <tr>\n      <th>1</th>\n      <td>Rear Window (1954)</td>\n      <td>157</td>\n      <td>627</td>\n      <td>136</td>\n      <td>630</td>\n      <td>569</td>\n    </tr>\n    <tr>\n      <th>2</th>\n      <td>12 Angry Men (1957)</td>\n      <td>89</td>\n      <td>15</td>\n      <td>243</td>\n      <td>4</td>\n      <td>173</td>\n    </tr>\n    <tr>\n      <th>3</th>\n      <td>Psycho (1960)</td>\n      <td>194</td>\n      <td>152</td>\n      <td>569</td>\n      <td>627</td>\n      <td>496</td>\n    </tr>\n    <tr>\n      <th>4</th>\n      <td>Il buono, il brutto, il cattivo (1966)</td>\n      <td>323</td>\n      <td>627</td>\n      <td>628</td>\n      <td>169</td>\n      <td>37</td>\n    </tr>\n  </tbody>\n</table>\n</div>"
     },
     "metadata": {},
     "execution_count": 220
    }
   ],
   "source": [
    "df.head()"
   ]
  },
  {
   "cell_type": "code",
   "execution_count": 228,
   "metadata": {},
   "outputs": [
    {
     "output_type": "execute_result",
     "data": {
      "text/plain": [
       "Empty DataFrame\n",
       "Columns: [index, movie_title, closest_movie_1, closest_movie_2, closest_movie_3, closest_movie_4, closest_movie_5]\n",
       "Index: []"
      ],
      "text/html": "<div>\n<style scoped>\n    .dataframe tbody tr th:only-of-type {\n        vertical-align: middle;\n    }\n\n    .dataframe tbody tr th {\n        vertical-align: top;\n    }\n\n    .dataframe thead th {\n        text-align: right;\n    }\n</style>\n<table border=\"1\" class=\"dataframe\">\n  <thead>\n    <tr style=\"text-align: right;\">\n      <th></th>\n      <th>index</th>\n      <th>movie_title</th>\n      <th>closest_movie_1</th>\n      <th>closest_movie_2</th>\n      <th>closest_movie_3</th>\n      <th>closest_movie_4</th>\n      <th>closest_movie_5</th>\n    </tr>\n  </thead>\n  <tbody>\n  </tbody>\n</table>\n</div>"
     },
     "metadata": {},
     "execution_count": 228
    }
   ],
   "source": [
    "movie = df[df['movie_title'] == \"Harry Potter and the Deathly Hallows: Part 2 (2011)\"].reset_index()\n",
    "movie"
   ]
  },
  {
   "cell_type": "code",
   "execution_count": 224,
   "metadata": {},
   "outputs": [
    {
     "output_type": "stream",
     "name": "stdout",
     "text": [
      "Hush (2016)\nKimi no na wa. (2016)\nThe Florida Project (2017)\nA Ghost Story (2017)\nDangal (2016)\n"
     ]
    }
   ],
   "source": [
    "number_movies_returned  = 5\n",
    "for i in range(number_movies_returned):\n",
    "    column_name = 'closest_movie_{}'.format(i+1)\n",
    "    id = movie.loc[0,column_name]\n",
    "    movie_name = df.loc[id]['movie_title']\n",
    "    print(movie_name)"
   ]
  },
  {
   "cell_type": "code",
   "execution_count": 81,
   "metadata": {},
   "outputs": [
    {
     "output_type": "execute_result",
     "data": {
      "text/plain": [
       "array([[ 0,  1,  2,  3],\n",
       "       [ 4,  5,  6,  7],\n",
       "       [ 8,  9, 10, 11],\n",
       "       [12, 13, 14, 15]])"
      ]
     },
     "metadata": {},
     "execution_count": 81
    }
   ],
   "source": [
    "from sklearn.metrics.pairwise import linear_kernel, cosine_similarity\n",
    "from scipy.spatial import distance\n",
    "x = np.array(range(16)).reshape((4,4))\n",
    "x"
   ]
  },
  {
   "cell_type": "code",
   "execution_count": 85,
   "metadata": {},
   "outputs": [
    {
     "output_type": "execute_result",
     "data": {
      "text/plain": [
       "array([[0, 1, 2, 3],\n",
       "       [0, 1, 2, 3],\n",
       "       [0, 1, 2, 3],\n",
       "       [0, 1, 2, 3]])"
      ]
     },
     "metadata": {},
     "execution_count": 85
    }
   ],
   "source": [
    "y = x-np.vstack(x[:,0])\n",
    "y"
   ]
  },
  {
   "cell_type": "code",
   "execution_count": 120,
   "metadata": {},
   "outputs": [
    {
     "output_type": "execute_result",
     "data": {
      "text/plain": [
       "array([[0., 0., 0., 0.],\n",
       "       [0., 0., 0., 0.],\n",
       "       [0., 0., 0., 0.],\n",
       "       [0., 0., 0., 0.]])"
      ]
     },
     "metadata": {},
     "execution_count": 120
    }
   ],
   "source": [
    "x = np.zeros(shape=(4,4))\n",
    "x"
   ]
  },
  {
   "cell_type": "code",
   "execution_count": 123,
   "metadata": {},
   "outputs": [
    {
     "output_type": "execute_result",
     "data": {
      "text/plain": [
       "array([[0., 0., 7., 9.],\n",
       "       [7., 7., 7., 9.],\n",
       "       [1., 1., 8., 6.],\n",
       "       [0., 0., 0., 9.]])"
      ]
     },
     "metadata": {},
     "execution_count": 123
    }
   ],
   "source": [
    "x[0] = [0,0,7,9]\n",
    "x[1] = [7,7,7,9]\n",
    "x[2] = [1,1,8,6]\n",
    "x[3] = [0,0,0,9]\n",
    "x"
   ]
  },
  {
   "cell_type": "code",
   "execution_count": 124,
   "metadata": {},
   "outputs": [
    {
     "output_type": "execute_result",
     "data": {
      "text/plain": [
       "array([[1.        , 0.75509962, 0.95525853, 0.78935222],\n",
       "       [0.75509962, 1.        , 0.81311912, 0.59603956],\n",
       "       [0.95525853, 0.81311912, 1.        , 0.59408853],\n",
       "       [0.78935222, 0.59603956, 0.59408853, 1.        ]])"
      ]
     },
     "metadata": {},
     "execution_count": 124
    }
   ],
   "source": [
    "cosine_similarity(x)"
   ]
  },
  {
   "cell_type": "code",
   "execution_count": 125,
   "metadata": {},
   "outputs": [
    {
     "output_type": "execute_result",
     "data": {
      "text/plain": [
       "array([[130., 130., 110.,  81.],\n",
       "       [130., 228., 124.,  81.],\n",
       "       [110., 124., 102.,  54.],\n",
       "       [ 81.,  81.,  54.,  81.]])"
      ]
     },
     "metadata": {},
     "execution_count": 125
    }
   ],
   "source": [
    "np.dot(x, x.T)"
   ]
  },
  {
   "cell_type": "code",
   "execution_count": 115,
   "metadata": {},
   "outputs": [
    {
     "output_type": "execute_result",
     "data": {
      "text/plain": [
       "array([[ 1., nan,  2.,  3.],\n",
       "       [ 1.,  1.,  2.,  3.],\n",
       "       [ 1.,  1.,  2.,  3.],\n",
       "       [ 1.,  1.,  2.,  3.]])"
      ]
     },
     "metadata": {},
     "execution_count": 115
    }
   ],
   "source": [
    "y = y / 1.0\n",
    "y[0, 1] = np.NaN\n",
    "y"
   ]
  },
  {
   "cell_type": "code",
   "execution_count": 116,
   "metadata": {},
   "outputs": [
    {
     "output_type": "execute_result",
     "data": {
      "text/plain": [
       "array([[1., 0., 2., 3.],\n",
       "       [1., 1., 2., 3.],\n",
       "       [1., 1., 2., 3.],\n",
       "       [1., 1., 2., 3.]])"
      ]
     },
     "metadata": {},
     "execution_count": 116
    }
   ],
   "source": [
    "y[np.isnan(y)] = 0\n",
    "y"
   ]
  },
  {
   "cell_type": "code",
   "execution_count": 117,
   "metadata": {},
   "outputs": [
    {
     "output_type": "execute_result",
     "data": {
      "text/plain": [
       "array([[2., 2., 4., 6.],\n",
       "       [2., 2., 4., 6.],\n",
       "       [2., 2., 4., 6.],\n",
       "       [2., 2., 4., 6.]])"
      ]
     },
     "metadata": {},
     "execution_count": 117
    }
   ],
   "source": [
    "def multiply_by_2(y):\n",
    "    x = y.copy()\n",
    "    x[x==0] = 1\n",
    "    return x*2\n",
    "multiply_by_2(y)"
   ]
  },
  {
   "cell_type": "code",
   "execution_count": 118,
   "metadata": {},
   "outputs": [
    {
     "output_type": "execute_result",
     "data": {
      "text/plain": [
       "array([[1., 0., 2., 3.],\n",
       "       [1., 1., 2., 3.],\n",
       "       [1., 1., 2., 3.],\n",
       "       [1., 1., 2., 3.]])"
      ]
     },
     "metadata": {},
     "execution_count": 118
    }
   ],
   "source": [
    "y"
   ]
  },
  {
   "cell_type": "code",
   "execution_count": 101,
   "metadata": {},
   "outputs": [
    {
     "output_type": "execute_result",
     "data": {
      "text/plain": [
       "array([[ 0.,  0.,  0.,  0.],\n",
       "       [ 0.,  3.,  6.,  9.],\n",
       "       [ 0.,  6., 16., 24.],\n",
       "       [ 0.,  9., 24., 36.]])"
      ]
     },
     "metadata": {},
     "execution_count": 101
    }
   ],
   "source": [
    "np.dot(y.T, y)"
   ]
  },
  {
   "cell_type": "code",
   "execution_count": 87,
   "metadata": {},
   "outputs": [
    {
     "output_type": "execute_result",
     "data": {
      "text/plain": [
       "array([0., 2., 4., 6.])"
      ]
     },
     "metadata": {},
     "execution_count": 87
    }
   ],
   "source": [
    "np.linalg.norm(y, axis=0)"
   ]
  },
  {
   "cell_type": "code",
   "execution_count": 75,
   "metadata": {},
   "outputs": [
    {
     "output_type": "execute_result",
     "data": {
      "text/plain": [
       "array([[7, 7, 2, 1],\n",
       "       [9, 9, 3, 2],\n",
       "       [7, 7, 4, 2],\n",
       "       [6, 8, 8, 8]])"
      ]
     },
     "metadata": {},
     "execution_count": 75
    }
   ],
   "source": [
    "x[:,0] = [7,9,7,6]\n",
    "x[:,1] = [7,9,7,8]\n",
    "x[:,2] = [2,3,4,8]\n",
    "x[:,3] = [1,2,2,8]\n",
    "x"
   ]
  },
  {
   "cell_type": "code",
   "execution_count": 171,
   "metadata": {},
   "outputs": [],
   "source": [
    "x1 = x[:, 1]\n",
    "x2 = x[:, 0]"
   ]
  },
  {
   "cell_type": "code",
   "execution_count": 172,
   "metadata": {},
   "outputs": [
    {
     "output_type": "execute_result",
     "data": {
      "text/plain": [
       "0.9931240301527878"
      ]
     },
     "metadata": {},
     "execution_count": 172
    }
   ],
   "source": [
    "a = 1- distance.cosine(x1,x2)\n",
    "a"
   ]
  },
  {
   "cell_type": "code",
   "execution_count": 237,
   "metadata": {},
   "outputs": [
    {
     "output_type": "execute_result",
     "data": {
      "text/plain": [
       "array([[ 7.,  6., nan, nan],\n",
       "       [ 5., nan,  1.,  0.],\n",
       "       [nan,  5., nan,  3.],\n",
       "       [ 9., nan,  7.,  6.]])"
      ]
     },
     "metadata": {},
     "execution_count": 237
    }
   ],
   "source": [
    "number_movies_returned = 3\n",
    "scores = np.array([[7,6,np.NaN,np.NaN], [5,np.NaN,1,0], [np.NaN,5,np.NaN,3], [9,np.NaN,7,6]])\n",
    "scores\n",
    "#np.argpartition(scores, -1*number_movies_returned, axis=1)[:, -1*number_movies_returned:]"
   ]
  },
  {
   "cell_type": "code",
   "execution_count": 238,
   "metadata": {},
   "outputs": [
    {
     "output_type": "execute_result",
     "data": {
      "text/plain": [
       "array([ 1.,  0., nan, -2.])"
      ]
     },
     "metadata": {},
     "execution_count": 238
    }
   ],
   "source": [
    "np.nanmean(scores-np.vstack(scores[:,1]), axis=0)"
   ]
  },
  {
   "cell_type": "code",
   "execution_count": 41,
   "metadata": {},
   "outputs": [],
   "source": [
    "def get_users(movie_index, user_by_movie_matrix):\n",
    "    column = user_by_movie_matrix[:,movie_index]\n",
    "    users = np.where(np.isnan(column) == False)[0] \n",
    "    return users\n",
    "\n",
    "def get_common_users(movie_index1, movie_index2, user_by_movie_matrix):\n",
    "    users1 = get_users(movie_index1, user_by_movie_matrix)\n",
    "    users2 = get_users(movie_index2, user_by_movie_matrix)\n",
    "    common_users = np.intersect1d(users1, users2, assume_unique=True)\n",
    "    return common_users\n",
    "\n",
    "def compute_score(movie_index1, movie_index2, user_by_movie_matrix):\n",
    "    common_users = get_common_users(movie_index1, movie_index2, user_by_movie_matrix)\n",
    "    movie1_ratings = np.array(user_by_movie_matrix[common_users, movie_index1])\n",
    "    movie2_ratings = np.array(user_by_movie_matrix[common_users, movie_index2])\n",
    "\n",
    "    distance = np.linalg.norm(movie1_ratings - movie2_ratings)\n",
    "\n",
    "    score = 0\n",
    "    if distance != 0:\n",
    "        score = 1 / distance\n",
    "\n",
    "    return score"
   ]
  },
  {
   "cell_type": "code",
   "execution_count": 42,
   "metadata": {},
   "outputs": [],
   "source": [
    "number_movies_returned  = 5\n",
    "def get_closest_movies(column):\n",
    "    negative_n = -1*number_movies_returned\n",
    "    closest_movies = np.argpartition(column, negative_n)[negative_n:]\n",
    "    \n",
    "    return closest_movies"
   ]
  },
  {
   "cell_type": "code",
   "execution_count": 43,
   "metadata": {},
   "outputs": [],
   "source": [
    "def get_closest_movies(number_movies, scores):\n",
    "    all_closest_movies = {}\n",
    "    for movie_index in range(scores.shape[0]):\n",
    "        closest_movies_scores = [0]\n",
    "        closest_movies_indexes = [movie_index]   \n",
    "        for temp_index in range(scores.shape[0]):\n",
    "            if temp_index > movie_index:\n",
    "                temp_score = scores[movie_index, temp_index] \n",
    "            else:\n",
    "                temp_score = scores[temp_index, movie_index]\n",
    "            min_score = closest_movies_scores[-1]\n",
    "            if temp_score > min_score:\n",
    "                closest_movies_scores.append(temp_score)\n",
    "                closest_movies_indexes.append(temp_index)\n",
    "                index_sorted = len(closest_movies_scores) - 2\n",
    "                next_score = closest_movies_scores[index_sorted]\n",
    "                next_index = closest_movies_indexes[index_sorted]\n",
    "                while (next_score < temp_score) and index_sorted >= 0 :\n",
    "                    closest_movies_scores[index_sorted+1] = next_score\n",
    "                    closest_movies_indexes[index_sorted+1] = next_index\n",
    "                    closest_movies_scores[index_sorted] = temp_score\n",
    "                    closest_movies_indexes[index_sorted] = temp_index\n",
    "                    index_sorted -= 1\n",
    "                if len(closest_movies_scores) > number_movies:\n",
    "                    closest_movies_scores = closest_movies_scores[0:number_movies-1]\n",
    "                    closest_movies_indexes = closest_movies_indexes[0:number_movies-1] \n",
    "        if closest_movies_indexes[-1] == movie_index:\n",
    "            if len(closest_movies_indexes) == 1:\n",
    "                closest_movies_scores = []\n",
    "                closest_movies_indexes = []\n",
    "            else:\n",
    "                closest_movies_scores = closest_movies_scores[0:-2]\n",
    "                closest_movies_indexes = closest_movies_indexes[0:-2]\n",
    "        all_closest_movies[movie_index] = closest_movies_indexes\n",
    "\n",
    "    return all_closest_movies"
   ]
  }
 ]
}